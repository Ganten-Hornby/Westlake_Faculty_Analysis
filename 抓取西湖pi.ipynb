{
 "cells": [
  {
   "cell_type": "code",
   "execution_count": 1,
   "metadata": {
    "collapsed": true
   },
   "outputs": [
    {
     "name": "stdout",
     "output_type": "stream",
     "text": [
      "Profiles\n"
     ]
    }
   ],
   "source": [
    "import re\n",
    "\n",
    "from selenium.webdriver.common.keys import Keys\n",
    "from selenium.webdriver.support.ui import Select\n",
    "from pyquery import PyQuery as pq\n",
    "import time\n",
    "from selenium import webdriver\n",
    "from selenium.webdriver.chrome.options import Options\n",
    "import pandas as pd\n",
    "chrome_options = Options()\n",
    "chrome_options.add_experimental_option(\"debuggerAddress\", \"127.0.0.1:9222\")\n",
    "driver = webdriver.Chrome(options=chrome_options)\n",
    "print(driver.title)"
   ]
  },
  {
   "cell_type": "code",
   "execution_count": 8,
   "outputs": [
    {
     "data": {
      "text/plain": "selenium.webdriver.chrome.webdriver.WebDriver"
     },
     "execution_count": 8,
     "metadata": {},
     "output_type": "execute_result"
    }
   ],
   "source": [
    "type(driver)"
   ],
   "metadata": {
    "collapsed": false
   }
  },
  {
   "cell_type": "code",
   "execution_count": 6,
   "outputs": [
    {
     "data": {
      "text/plain": "10"
     },
     "execution_count": 6,
     "metadata": {},
     "output_type": "execute_result"
    }
   ],
   "source": [
    "from bs4 import BeautifulSoup\n",
    "\n",
    "html=driver.page_source\n",
    "html = html.replace(u'\\xa0', u' ')\n",
    "res = BeautifulSoup(html, 'html.parser')\n",
    "soup=res\n",
    "rows = soup.find_all('div', 'gsc_1usr')\n",
    "len(rows)"
   ],
   "metadata": {
    "collapsed": false
   }
  },
  {
   "cell_type": "code",
   "execution_count": 2,
   "outputs": [],
   "source": [
    "def refresh_Pq():\n",
    "    return pq(driver.page_source)"
   ],
   "metadata": {
    "collapsed": false
   }
  },
  {
   "cell_type": "code",
   "execution_count": 67,
   "outputs": [],
   "source": [
    "pi_url_list=[]\n",
    "l=[]"
   ],
   "metadata": {
    "collapsed": false
   }
  },
  {
   "cell_type": "code",
   "execution_count": 73,
   "outputs": [
    {
     "name": "stdout",
     "output_type": "stream",
     "text": [
      "6\n"
     ]
    }
   ],
   "source": [
    "doc=refresh_Pq()\n",
    "print(doc('body > div > div.main > div.content.clear > div > div > div.faculty_content span.active').text())\n",
    "l.append(doc('body > div > div.main > div.content.clear > div > div > div.faculty_content span.active').text())\n",
    "for i,pi in enumerate(doc.find('body > div > div.main > div.content.clear > div > div > div.faculty_content > div.con_every').items()):\n",
    "    url=pi('div > a')\n",
    "    url_text=url.attr('href')\n",
    "    pi_url_list.append(url_text)\n",
    "    # print(pi.text())"
   ],
   "metadata": {
    "collapsed": false
   }
  },
  {
   "cell_type": "code",
   "execution_count": 75,
   "outputs": [],
   "source": [
    "with open('result/xihu_pi_info_url_engineering.txt','a') as f:\n",
    "    f.write('\\n'.join(pi_url_list))"
   ],
   "metadata": {
    "collapsed": false
   }
  },
  {
   "cell_type": "code",
   "execution_count": 76,
   "outputs": [
    {
     "name": "stdout",
     "output_type": "stream",
     "text": [
      "60\n"
     ]
    }
   ],
   "source": [
    "print(len(pi_url_list))"
   ],
   "metadata": {
    "collapsed": false
   }
  },
  {
   "cell_type": "markdown",
   "source": [
    "## 读取pi personal information"
   ],
   "metadata": {
    "collapsed": false
   }
  },
  {
   "cell_type": "code",
   "execution_count": 3,
   "outputs": [],
   "source": [
    "def extract_one_pate_pi_info(pi_link):\n",
    "    persoanl_page = pq(pi_link, encoding='utf-8')\n",
    "    chinese_name = persoanl_page(\n",
    "        'body > div > div.main > div > div.intro.mobile > div.basic_info > p:nth-child(1)').text()\n",
    "    english_name = persoanl_page(\n",
    "        'body > div > div.main > div > div.intro.mobile > div.basic_info > p:nth-child(2)').text()[:-7]\n",
    "    school = persoanl_page('body > div > div.main > div > div.intro.mobile > div.basic_info > p.school')\n",
    "    school = re.search('school1=\"(.*?)\"', school.text()).group(1)\n",
    "    website = persoanl_page(\n",
    "        'body > div > div.main > div > div.intro.mobile > div.basic_info > div > p:nth-child(3) a').text()\n",
    "    resume = persoanl_page('body > div > div.main > div > div.main_intro > div > div').text()\n",
    "    return chinese_name,english_name,school,website,resume"
   ],
   "metadata": {
    "collapsed": false
   }
  },
  {
   "cell_type": "code",
   "execution_count": null,
   "outputs": [],
   "source": [],
   "metadata": {
    "collapsed": false
   }
  },
  {
   "cell_type": "code",
   "execution_count": 8,
   "outputs": [
    {
     "name": "stdout",
     "output_type": "stream",
     "text": [
      "result/xihu_pi_info_url_engineering.txt\n"
     ]
    },
    {
     "name": "stderr",
     "output_type": "stream",
     "text": [
      "100%|██████████| 60/60 [00:02<00:00, 23.70it/s]\n"
     ]
    },
    {
     "name": "stdout",
     "output_type": "stream",
     "text": [
      "result/xihu_pi_info_url_science.txt\n"
     ]
    },
    {
     "name": "stderr",
     "output_type": "stream",
     "text": [
      "100%|██████████| 55/55 [00:02<00:00, 22.69it/s]\n"
     ]
    },
    {
     "name": "stdout",
     "output_type": "stream",
     "text": [
      "result/xihu_pi_info_url_SLS.txt\n"
     ]
    },
    {
     "name": "stderr",
     "output_type": "stream",
     "text": [
      "100%|██████████| 81/81 [00:03<00:00, 23.16it/s]\n"
     ]
    }
   ],
   "source": [
    "from tqdm import tqdm, trange\n",
    "pi_dic={}\n",
    "file_list=['result/xihu_pi_info_url_engineering.txt','result/xihu_pi_info_url_science.txt','result/xihu_pi_info_url_SLS.txt',]\n",
    "for pi_file in file_list:\n",
    "    print(pi_file)\n",
    "    with open(pi_file) as f:\n",
    "        links=f.readlines()\n",
    "        for pi_link in tqdm(links):\n",
    "            chinese_name,english_name,school,website,resume=extract_one_pate_pi_info(pi_link.strip())\n",
    "            pi_dic[chinese_name]=[english_name,school,website,resume]\n",
    "\n",
    "\n"
   ],
   "metadata": {
    "collapsed": false
   }
  },
  {
   "cell_type": "code",
   "execution_count": 17,
   "outputs": [
    {
     "data": {
      "text/plain": "                 english_name                  school  \\\nChinese name                                            \n陈子博博士               Zibo Chen          生命科学学院与工学院（兼聘）   \n程建军博士           Jianjun Cheng  工学院与生命科学学院（兼聘）与理学院（兼聘）   \n崔维成博士            Weicheng Cui                     工学院   \n范迪夏博士               Dixia Fan                     工学院   \n郭成辰博士           Chengchen Guo                     工学院   \n...                       ...                     ...   \n郑钜圣博士         Ju-Sheng Zheng,                  生命科学学院   \n周强博士              Qiang Zhou,                  生命科学学院   \n周挺博士                Ting Zhou                  生命科学学院   \n朱听博士                 Ting Zhu                  生命科学学院   \n邹贻龙博士              Yilong Zou                  生命科学学院   \n\n                                           website  \\\nChinese name                                         \n陈子博博士                         https://chenlab.org/   \n程建军博士                   https://www.cheng-lab.com/   \n崔维成博士                                                \n范迪夏博士                       https://www.i4fsi.com/   \n郭成辰博士                          https://cguosci.com   \n...                                            ...   \n郑钜圣博士            http://zheng.lab.westlake.edu.cn/   \n周强博士                                                 \n周挺博士          https://zhouting.lab.westlake.edu.cn   \n朱听博士               https://zhu.lab.westlake.edu.cn   \n邹贻龙博士               https://www.yilongzou-lab.com/   \n\n                                                         resume  \nChinese name                                                     \n陈子博博士         个人简介\\n\\n\\n陈子博于2013年在新加坡国立大学获得生命科学一等荣誉学士学位。2013...  \n程建军博士         个人简介\\n\\n\\n\\n程建军教授，1993 年获天津南开大学化学学士学位，1996 年获美...  \n崔维成博士         个人简介\\n\\n崔维成，1963年生，江苏海门人，“全国优秀科技工作者”（2010）。201...  \n范迪夏博士         个人简介\\n\\n\\n范迪夏，1990年出生于上海。2013年获得上海交通大学船舶海洋与建筑工...  \n郭成辰博士         个人简介\\n\\n郭成辰，江苏常州人。2011年6月本科毕业于南京大学化学化工学院，获理学学士...  \n...                                                         ...  \n郑钜圣博士         个人简介\\n\\n\\n郑钜圣，浙江天台人。2009年毕业于宁波大学，获得学士学位；2014年毕...  \n周强博士          个人简介\\n周强（1982- ），黑龙江齐齐哈尔人。2000-2004年本科就读于清华大学生...  \n周挺博士          个人简介\\n周挺，2006年本科毕业于中国农业大学，2014年博士毕业于中国科学院生物物理研...  \n朱听博士          个人简介\\n1999-2003  清华大学工程力学系  学士，优秀毕业生，提前毕业\\n200...  \n邹贻龙博士         个人简介\\n邹贻龙(1987-), 湖北荆州人。2005-2009年就读于清华大学生命科学与...  \n\n[173 rows x 4 columns]",
      "text/html": "<div>\n<style scoped>\n    .dataframe tbody tr th:only-of-type {\n        vertical-align: middle;\n    }\n\n    .dataframe tbody tr th {\n        vertical-align: top;\n    }\n\n    .dataframe thead th {\n        text-align: right;\n    }\n</style>\n<table border=\"1\" class=\"dataframe\">\n  <thead>\n    <tr style=\"text-align: right;\">\n      <th></th>\n      <th>english_name</th>\n      <th>school</th>\n      <th>website</th>\n      <th>resume</th>\n    </tr>\n    <tr>\n      <th>Chinese name</th>\n      <th></th>\n      <th></th>\n      <th></th>\n      <th></th>\n    </tr>\n  </thead>\n  <tbody>\n    <tr>\n      <th>陈子博博士</th>\n      <td>Zibo Chen</td>\n      <td>生命科学学院与工学院（兼聘）</td>\n      <td>https://chenlab.org/</td>\n      <td>个人简介\\n\\n\\n陈子博于2013年在新加坡国立大学获得生命科学一等荣誉学士学位。2013...</td>\n    </tr>\n    <tr>\n      <th>程建军博士</th>\n      <td>Jianjun Cheng</td>\n      <td>工学院与生命科学学院（兼聘）与理学院（兼聘）</td>\n      <td>https://www.cheng-lab.com/</td>\n      <td>个人简介\\n\\n\\n\\n程建军教授，1993 年获天津南开大学化学学士学位，1996 年获美...</td>\n    </tr>\n    <tr>\n      <th>崔维成博士</th>\n      <td>Weicheng Cui</td>\n      <td>工学院</td>\n      <td></td>\n      <td>个人简介\\n\\n崔维成，1963年生，江苏海门人，“全国优秀科技工作者”（2010）。201...</td>\n    </tr>\n    <tr>\n      <th>范迪夏博士</th>\n      <td>Dixia Fan</td>\n      <td>工学院</td>\n      <td>https://www.i4fsi.com/</td>\n      <td>个人简介\\n\\n\\n范迪夏，1990年出生于上海。2013年获得上海交通大学船舶海洋与建筑工...</td>\n    </tr>\n    <tr>\n      <th>郭成辰博士</th>\n      <td>Chengchen Guo</td>\n      <td>工学院</td>\n      <td>https://cguosci.com</td>\n      <td>个人简介\\n\\n郭成辰，江苏常州人。2011年6月本科毕业于南京大学化学化工学院，获理学学士...</td>\n    </tr>\n    <tr>\n      <th>...</th>\n      <td>...</td>\n      <td>...</td>\n      <td>...</td>\n      <td>...</td>\n    </tr>\n    <tr>\n      <th>郑钜圣博士</th>\n      <td>Ju-Sheng Zheng,</td>\n      <td>生命科学学院</td>\n      <td>http://zheng.lab.westlake.edu.cn/</td>\n      <td>个人简介\\n\\n\\n郑钜圣，浙江天台人。2009年毕业于宁波大学，获得学士学位；2014年毕...</td>\n    </tr>\n    <tr>\n      <th>周强博士</th>\n      <td>Qiang Zhou,</td>\n      <td>生命科学学院</td>\n      <td></td>\n      <td>个人简介\\n周强（1982- ），黑龙江齐齐哈尔人。2000-2004年本科就读于清华大学生...</td>\n    </tr>\n    <tr>\n      <th>周挺博士</th>\n      <td>Ting Zhou</td>\n      <td>生命科学学院</td>\n      <td>https://zhouting.lab.westlake.edu.cn</td>\n      <td>个人简介\\n周挺，2006年本科毕业于中国农业大学，2014年博士毕业于中国科学院生物物理研...</td>\n    </tr>\n    <tr>\n      <th>朱听博士</th>\n      <td>Ting Zhu</td>\n      <td>生命科学学院</td>\n      <td>https://zhu.lab.westlake.edu.cn</td>\n      <td>个人简介\\n1999-2003  清华大学工程力学系  学士，优秀毕业生，提前毕业\\n200...</td>\n    </tr>\n    <tr>\n      <th>邹贻龙博士</th>\n      <td>Yilong Zou</td>\n      <td>生命科学学院</td>\n      <td>https://www.yilongzou-lab.com/</td>\n      <td>个人简介\\n邹贻龙(1987-), 湖北荆州人。2005-2009年就读于清华大学生命科学与...</td>\n    </tr>\n  </tbody>\n</table>\n<p>173 rows × 4 columns</p>\n</div>"
     },
     "execution_count": 17,
     "metadata": {},
     "output_type": "execute_result"
    }
   ],
   "source": [
    "westlake_pi_csv_table=pd.DataFrame.from_dict(pi_dic,).T\n",
    "westlake_pi_csv_table.columns=['english_name','school','website','resume']\n",
    "westlake_pi_csv_table.index.name='Chinese name'\n",
    "westlake_pi_csv_table"
   ],
   "metadata": {
    "collapsed": false
   }
  },
  {
   "cell_type": "markdown",
   "source": [
    "## save the pi info"
   ],
   "metadata": {
    "collapsed": false
   }
  },
  {
   "cell_type": "code",
   "execution_count": 18,
   "outputs": [],
   "source": [
    "westlake_pi_csv_table.to_csv('result/westlake_pi_csv_table.csv',index=True,encoding='utf8')"
   ],
   "metadata": {
    "collapsed": false
   }
  }
 ],
 "metadata": {
  "kernelspec": {
   "name": "python3",
   "language": "python",
   "display_name": "Python 3"
  },
  "language_info": {
   "codemirror_mode": {
    "name": "ipython",
    "version": 2
   },
   "file_extension": ".py",
   "mimetype": "text/x-python",
   "name": "python",
   "nbconvert_exporter": "python",
   "pygments_lexer": "ipython2",
   "version": "3.8.3-final"
  }
 },
 "nbformat": 4,
 "nbformat_minor": 0
}
