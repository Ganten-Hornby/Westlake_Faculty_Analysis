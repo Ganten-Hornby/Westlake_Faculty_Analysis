{
 "cells": [
  {
   "cell_type": "code",
   "execution_count": 1,
   "metadata": {
    "collapsed": true
   },
   "outputs": [
    {
     "name": "stdout",
     "output_type": "stream",
     "text": [
      "Faculty | Department of Biology\n"
     ]
    }
   ],
   "source": [
    "import re\n",
    "import time\n",
    "from concurrent.futures import ThreadPoolExecutor\n",
    "\n",
    "import numpy as np\n",
    "import pandas as pd\n",
    "from pyquery import PyQuery as pq\n",
    "from selenium import webdriver\n",
    "from selenium.webdriver.chrome.options import Options\n",
    "from tqdm import tqdm\n",
    "\n",
    "chrome_options = Options()\n",
    "chrome_options.add_experimental_option(\"debuggerAddress\", \"127.0.0.1:9222\")\n",
    "driver = webdriver.Chrome(options=chrome_options)\n",
    "print(driver.title)"
   ]
  },
  {
   "cell_type": "markdown",
   "source": [
    "# Get name and url"
   ],
   "metadata": {
    "collapsed": false
   }
  },
  {
   "cell_type": "code",
   "execution_count": 2,
   "outputs": [],
   "source": [
    "def refresh_Pq():\n",
    "    return pq(driver.page_source)"
   ],
   "metadata": {
    "collapsed": false
   }
  },
  {
   "cell_type": "code",
   "execution_count": 3,
   "outputs": [],
   "source": [
    "pi_url_list = []\n",
    "l = []"
   ],
   "metadata": {
    "collapsed": false
   }
  },
  {
   "cell_type": "code",
   "execution_count": 7,
   "outputs": [
    {
     "data": {
      "text/plain": "[[<div.hb-grid__item>],\n [<div.hb-grid__item>],\n [<div.hb-grid__item>],\n [<div.hb-grid__item>],\n [<div.hb-grid__item>],\n [<div.hb-grid__item>],\n [<div.hb-grid__item>],\n [<div.hb-grid__item>],\n [<div.hb-grid__item>],\n [<div.hb-grid__item>],\n [<div.hb-grid__item>],\n [<div.hb-grid__item>],\n [<div.hb-grid__item>],\n [<div.hb-grid__item>],\n [<div.hb-grid__item>],\n [<div.hb-grid__item>],\n [<div.hb-grid__item>],\n [<div.hb-grid__item>],\n [<div.hb-grid__item>],\n [<div.hb-grid__item>],\n [<div.hb-grid__item>],\n [<div.hb-grid__item>],\n [<div.hb-grid__item>],\n [<div.hb-grid__item>],\n [<div.hb-grid__item>],\n [<div.hb-grid__item>],\n [<div.hb-grid__item>],\n [<div.hb-grid__item>],\n [<div.hb-grid__item>],\n [<div.hb-grid__item>],\n [<div.hb-grid__item>],\n [<div.hb-grid__item>],\n [<div.hb-grid__item>],\n [<div.hb-grid__item>],\n [<div.hb-grid__item>],\n [<div.hb-grid__item>],\n [<div.hb-grid__item>],\n [<div.hb-grid__item>],\n [<div.hb-grid__item>],\n [<div.hb-grid__item>],\n [<div.hb-grid__item>],\n [<div.hb-grid__item>],\n [<div.hb-grid__item>],\n [<div.hb-grid__item>],\n [<div.hb-grid__item>],\n [<div.hb-grid__item>],\n [<div.hb-grid__item>],\n [<div.hb-grid__item>],\n [<div.hb-grid__item>],\n [<div.hb-grid__item>],\n [<div.hb-grid__item>]]"
     },
     "execution_count": 7,
     "metadata": {},
     "output_type": "execute_result"
    }
   ],
   "source": [
    "doc = refresh_Pq()\n",
    "pi_list = list(doc('.hb-grid__item').items())\n",
    "pi_list"
   ],
   "metadata": {
    "collapsed": false
   }
  },
  {
   "cell_type": "code",
   "execution_count": 16,
   "outputs": [],
   "source": [
    "#block-humsci-colorful-content > article > div > div.decanter-grid.hb-three-column.clearfix.hb-three-column--one-sidebar > div.hb-layout-builder-main-content.hb-three-column__main > div > div > div:nth-child(2) > div > div > div > div > div > div > div > div > div:nth-child(1) > div > div.hb-card__content > div.hb-card__title > h2 > div\n",
    "pi_name_url = []\n",
    "for pi_profile in pi_list:\n",
    "    name = pi_profile('.views-field-title span a').text().replace('\\xa0',' ')\n",
    "    url = 'https://biology.stanford.edu'+pi_profile('.views-field-title span a').attr('href')\n",
    "    pi_name_url.append([name, url])"
   ],
   "metadata": {
    "collapsed": false
   }
  },
  {
   "cell_type": "code",
   "execution_count": 17,
   "outputs": [
    {
     "data": {
      "text/plain": "[['Christopher O. Barnes',\n  'https://biology.stanford.edu/people/christopher-o-barnes'],\n ['Dominique Bergmann',\n  'https://biology.stanford.edu/people/dominique-bergmann'],\n ['Barbara Block', 'https://biology.stanford.edu/people/barbara-block'],\n ['Xiaoke Chen', 'https://biology.stanford.edu/people/xiaoke-chen'],\n ['Jonas Cremer', 'https://biology.stanford.edu/people/jonas-cremer'],\n ['Martha S. Cyert', 'https://biology.stanford.edu/people/martha-s-cyert'],\n ['Gretchen C. Daily', 'https://biology.stanford.edu/people/gretchen-c-daily'],\n ['José R. Dinneny', 'https://biology.stanford.edu/people/jose-r-dinneny'],\n ['Rodolfo Dirzo', 'https://biology.stanford.edu/people/rodolfo-dirzo'],\n ['Scott Dixon', 'https://biology.stanford.edu/people/scott-dixon'],\n ['Jessica Feldman', 'https://biology.stanford.edu/people/jessica-feldman'],\n ['Marcus Feldman', 'https://biology.stanford.edu/people/marcus-feldman'],\n ['Chris Field', 'https://biology.stanford.edu/people/chris-field'],\n ['Hunter Fraser', 'https://biology.stanford.edu/people/hunter-fraser'],\n ['Judith Frydman', 'https://biology.stanford.edu/people/judith-frydman'],\n ['Tadashi Fukami', 'https://biology.stanford.edu/people/tadashi-fukami'],\n ['Deborah M Gordon', 'https://biology.stanford.edu/people/deborah-m-gordon'],\n ['Or Gozani', 'https://biology.stanford.edu/people/or-gozani'],\n ['Elizabeth Hadly', 'https://biology.stanford.edu/people/elizabeth-hadly'],\n ['H. Craig Heller', 'https://biology.stanford.edu/people/h-craig-heller'],\n ['Mary Hynes', 'https://biology.stanford.edu/people/mary-hynes'],\n ['Christine Jacobs-Wagner',\n  'https://biology.stanford.edu/people/christine-jacobs-wagner'],\n ['Richard Klein', 'https://biology.stanford.edu/people/richard-klein'],\n ['Ron Kopito', 'https://biology.stanford.edu/people/ron-kopito'],\n ['Sharon R. Long', 'https://biology.stanford.edu/people/sharon-r-long'],\n ['Christopher Lowe', 'https://biology.stanford.edu/people/christopher-lowe'],\n ['Liqun Luo', 'https://biology.stanford.edu/people/liqun-luo'],\n ['Susan K. McConnell',\n  'https://biology.stanford.edu/people/susan-k-mcconnell'],\n ['Erin Mordecai', 'https://biology.stanford.edu/people/erin-mordecai'],\n ['Ashby Morrison', 'https://biology.stanford.edu/people/ashby-morrison'],\n ['Mary Beth Mudgett',\n  'https://biology.stanford.edu/people/mary-beth-mudgett'],\n [\"Lauren O'Connell\", 'https://biology.stanford.edu/people/lauren-oconnell'],\n ['Stephen Palumbi', 'https://biology.stanford.edu/people/stephen-palumbi'],\n ['Kabir Peay', 'https://biology.stanford.edu/people/kabir-peay'],\n ['Dmitri Petrov', 'https://biology.stanford.edu/people/dmitri-petrov'],\n ['Jonathan Pritchard',\n  'https://biology.stanford.edu/people/jonathan-pritchard'],\n ['Kristy Red-Horse', 'https://biology.stanford.edu/people/kristy-red-horse'],\n ['Noah Rosenberg', 'https://biology.stanford.edu/people/noah-rosenberg'],\n ['Robert Sapolsky', 'https://biology.stanford.edu/people/robert-sapolsky'],\n ['Mark J. Schnitzer', 'https://biology.stanford.edu/people/mark-j-schnitzer'],\n ['Molly Schumer', 'https://biology.stanford.edu/people/molly-schumer'],\n ['Naima G. Sharaf', 'https://biology.stanford.edu/people/naima-g-sharaf'],\n ['Carla Shatz', 'https://biology.stanford.edu/people/carla-shatz'],\n ['Kang Shen', 'https://biology.stanford.edu/people/kang-shen'],\n ['Michael Simon', 'https://biology.stanford.edu/people/michael-simon'],\n ['Jan Skotheim', 'https://biology.stanford.edu/people/jan-skotheim'],\n ['Marc Tessier-Lavigne',\n  'https://biology.stanford.edu/people/marc-tessier-lavigne'],\n ['Stuart Thompson', 'https://biology.stanford.edu/people/stuart-thompson'],\n ['Alice Ting', 'https://biology.stanford.edu/people/alice-ting'],\n ['Shripad Tuljapurkar',\n  'https://biology.stanford.edu/people/shripad-tuljapurkar'],\n ['Virginia Walbot', 'https://biology.stanford.edu/people/virginia-walbot']]"
     },
     "execution_count": 17,
     "metadata": {},
     "output_type": "execute_result"
    }
   ],
   "source": [
    "pi_name_url"
   ],
   "metadata": {
    "collapsed": false
   }
  },
  {
   "cell_type": "code",
   "execution_count": 18,
   "outputs": [],
   "source": [
    "from pathlib import Path\n",
    "\n",
    "RESULT_PATH = Path.cwd().parents[1] / 'result/stanford'\n",
    "RESULT_PATH.mkdir(exist_ok=True)"
   ],
   "metadata": {
    "collapsed": false
   }
  },
  {
   "cell_type": "code",
   "execution_count": 19,
   "outputs": [
    {
     "data": {
      "text/plain": "                          0                                                  1\n0     Christopher O. Barnes  https://biology.stanford.edu/people/christophe...\n1        Dominique Bergmann  https://biology.stanford.edu/people/dominique-...\n2             Barbara Block  https://biology.stanford.edu/people/barbara-block\n3               Xiaoke Chen    https://biology.stanford.edu/people/xiaoke-chen\n4              Jonas Cremer   https://biology.stanford.edu/people/jonas-cremer\n5           Martha S. Cyert  https://biology.stanford.edu/people/martha-s-c...\n6         Gretchen C. Daily  https://biology.stanford.edu/people/gretchen-c...\n7           José R. Dinneny  https://biology.stanford.edu/people/jose-r-din...\n8             Rodolfo Dirzo  https://biology.stanford.edu/people/rodolfo-dirzo\n9               Scott Dixon    https://biology.stanford.edu/people/scott-dixon\n10          Jessica Feldman  https://biology.stanford.edu/people/jessica-fe...\n11           Marcus Feldman  https://biology.stanford.edu/people/marcus-fel...\n12              Chris Field    https://biology.stanford.edu/people/chris-field\n13            Hunter Fraser  https://biology.stanford.edu/people/hunter-fraser\n14           Judith Frydman  https://biology.stanford.edu/people/judith-fry...\n15           Tadashi Fukami  https://biology.stanford.edu/people/tadashi-fu...\n16         Deborah M Gordon  https://biology.stanford.edu/people/deborah-m-...\n17                Or Gozani      https://biology.stanford.edu/people/or-gozani\n18          Elizabeth Hadly  https://biology.stanford.edu/people/elizabeth-...\n19          H. Craig Heller  https://biology.stanford.edu/people/h-craig-he...\n20               Mary Hynes     https://biology.stanford.edu/people/mary-hynes\n21  Christine Jacobs-Wagner  https://biology.stanford.edu/people/christine-...\n22            Richard Klein  https://biology.stanford.edu/people/richard-klein\n23               Ron Kopito     https://biology.stanford.edu/people/ron-kopito\n24           Sharon R. Long  https://biology.stanford.edu/people/sharon-r-long\n25         Christopher Lowe  https://biology.stanford.edu/people/christophe...\n26                Liqun Luo      https://biology.stanford.edu/people/liqun-luo\n27       Susan K. McConnell  https://biology.stanford.edu/people/susan-k-mc...\n28            Erin Mordecai  https://biology.stanford.edu/people/erin-mordecai\n29           Ashby Morrison  https://biology.stanford.edu/people/ashby-morr...\n30        Mary Beth Mudgett  https://biology.stanford.edu/people/mary-beth-...\n31         Lauren O'Connell  https://biology.stanford.edu/people/lauren-oco...\n32          Stephen Palumbi  https://biology.stanford.edu/people/stephen-pa...\n33               Kabir Peay     https://biology.stanford.edu/people/kabir-peay\n34            Dmitri Petrov  https://biology.stanford.edu/people/dmitri-petrov\n35       Jonathan Pritchard  https://biology.stanford.edu/people/jonathan-p...\n36         Kristy Red-Horse  https://biology.stanford.edu/people/kristy-red...\n37           Noah Rosenberg  https://biology.stanford.edu/people/noah-rosen...\n38          Robert Sapolsky  https://biology.stanford.edu/people/robert-sap...\n39        Mark J. Schnitzer  https://biology.stanford.edu/people/mark-j-sch...\n40            Molly Schumer  https://biology.stanford.edu/people/molly-schumer\n41          Naima G. Sharaf  https://biology.stanford.edu/people/naima-g-sh...\n42              Carla Shatz    https://biology.stanford.edu/people/carla-shatz\n43                Kang Shen      https://biology.stanford.edu/people/kang-shen\n44            Michael Simon  https://biology.stanford.edu/people/michael-simon\n45             Jan Skotheim   https://biology.stanford.edu/people/jan-skotheim\n46     Marc Tessier-Lavigne  https://biology.stanford.edu/people/marc-tessi...\n47          Stuart Thompson  https://biology.stanford.edu/people/stuart-tho...\n48               Alice Ting     https://biology.stanford.edu/people/alice-ting\n49      Shripad Tuljapurkar  https://biology.stanford.edu/people/shripad-tu...\n50          Virginia Walbot  https://biology.stanford.edu/people/virginia-w...",
      "text/html": "<div>\n<style scoped>\n    .dataframe tbody tr th:only-of-type {\n        vertical-align: middle;\n    }\n\n    .dataframe tbody tr th {\n        vertical-align: top;\n    }\n\n    .dataframe thead th {\n        text-align: right;\n    }\n</style>\n<table border=\"1\" class=\"dataframe\">\n  <thead>\n    <tr style=\"text-align: right;\">\n      <th></th>\n      <th>0</th>\n      <th>1</th>\n    </tr>\n  </thead>\n  <tbody>\n    <tr>\n      <th>0</th>\n      <td>Christopher O. Barnes</td>\n      <td>https://biology.stanford.edu/people/christophe...</td>\n    </tr>\n    <tr>\n      <th>1</th>\n      <td>Dominique Bergmann</td>\n      <td>https://biology.stanford.edu/people/dominique-...</td>\n    </tr>\n    <tr>\n      <th>2</th>\n      <td>Barbara Block</td>\n      <td>https://biology.stanford.edu/people/barbara-block</td>\n    </tr>\n    <tr>\n      <th>3</th>\n      <td>Xiaoke Chen</td>\n      <td>https://biology.stanford.edu/people/xiaoke-chen</td>\n    </tr>\n    <tr>\n      <th>4</th>\n      <td>Jonas Cremer</td>\n      <td>https://biology.stanford.edu/people/jonas-cremer</td>\n    </tr>\n    <tr>\n      <th>5</th>\n      <td>Martha S. Cyert</td>\n      <td>https://biology.stanford.edu/people/martha-s-c...</td>\n    </tr>\n    <tr>\n      <th>6</th>\n      <td>Gretchen C. Daily</td>\n      <td>https://biology.stanford.edu/people/gretchen-c...</td>\n    </tr>\n    <tr>\n      <th>7</th>\n      <td>José R. Dinneny</td>\n      <td>https://biology.stanford.edu/people/jose-r-din...</td>\n    </tr>\n    <tr>\n      <th>8</th>\n      <td>Rodolfo Dirzo</td>\n      <td>https://biology.stanford.edu/people/rodolfo-dirzo</td>\n    </tr>\n    <tr>\n      <th>9</th>\n      <td>Scott Dixon</td>\n      <td>https://biology.stanford.edu/people/scott-dixon</td>\n    </tr>\n    <tr>\n      <th>10</th>\n      <td>Jessica Feldman</td>\n      <td>https://biology.stanford.edu/people/jessica-fe...</td>\n    </tr>\n    <tr>\n      <th>11</th>\n      <td>Marcus Feldman</td>\n      <td>https://biology.stanford.edu/people/marcus-fel...</td>\n    </tr>\n    <tr>\n      <th>12</th>\n      <td>Chris Field</td>\n      <td>https://biology.stanford.edu/people/chris-field</td>\n    </tr>\n    <tr>\n      <th>13</th>\n      <td>Hunter Fraser</td>\n      <td>https://biology.stanford.edu/people/hunter-fraser</td>\n    </tr>\n    <tr>\n      <th>14</th>\n      <td>Judith Frydman</td>\n      <td>https://biology.stanford.edu/people/judith-fry...</td>\n    </tr>\n    <tr>\n      <th>15</th>\n      <td>Tadashi Fukami</td>\n      <td>https://biology.stanford.edu/people/tadashi-fu...</td>\n    </tr>\n    <tr>\n      <th>16</th>\n      <td>Deborah M Gordon</td>\n      <td>https://biology.stanford.edu/people/deborah-m-...</td>\n    </tr>\n    <tr>\n      <th>17</th>\n      <td>Or Gozani</td>\n      <td>https://biology.stanford.edu/people/or-gozani</td>\n    </tr>\n    <tr>\n      <th>18</th>\n      <td>Elizabeth Hadly</td>\n      <td>https://biology.stanford.edu/people/elizabeth-...</td>\n    </tr>\n    <tr>\n      <th>19</th>\n      <td>H. Craig Heller</td>\n      <td>https://biology.stanford.edu/people/h-craig-he...</td>\n    </tr>\n    <tr>\n      <th>20</th>\n      <td>Mary Hynes</td>\n      <td>https://biology.stanford.edu/people/mary-hynes</td>\n    </tr>\n    <tr>\n      <th>21</th>\n      <td>Christine Jacobs-Wagner</td>\n      <td>https://biology.stanford.edu/people/christine-...</td>\n    </tr>\n    <tr>\n      <th>22</th>\n      <td>Richard Klein</td>\n      <td>https://biology.stanford.edu/people/richard-klein</td>\n    </tr>\n    <tr>\n      <th>23</th>\n      <td>Ron Kopito</td>\n      <td>https://biology.stanford.edu/people/ron-kopito</td>\n    </tr>\n    <tr>\n      <th>24</th>\n      <td>Sharon R. Long</td>\n      <td>https://biology.stanford.edu/people/sharon-r-long</td>\n    </tr>\n    <tr>\n      <th>25</th>\n      <td>Christopher Lowe</td>\n      <td>https://biology.stanford.edu/people/christophe...</td>\n    </tr>\n    <tr>\n      <th>26</th>\n      <td>Liqun Luo</td>\n      <td>https://biology.stanford.edu/people/liqun-luo</td>\n    </tr>\n    <tr>\n      <th>27</th>\n      <td>Susan K. McConnell</td>\n      <td>https://biology.stanford.edu/people/susan-k-mc...</td>\n    </tr>\n    <tr>\n      <th>28</th>\n      <td>Erin Mordecai</td>\n      <td>https://biology.stanford.edu/people/erin-mordecai</td>\n    </tr>\n    <tr>\n      <th>29</th>\n      <td>Ashby Morrison</td>\n      <td>https://biology.stanford.edu/people/ashby-morr...</td>\n    </tr>\n    <tr>\n      <th>30</th>\n      <td>Mary Beth Mudgett</td>\n      <td>https://biology.stanford.edu/people/mary-beth-...</td>\n    </tr>\n    <tr>\n      <th>31</th>\n      <td>Lauren O'Connell</td>\n      <td>https://biology.stanford.edu/people/lauren-oco...</td>\n    </tr>\n    <tr>\n      <th>32</th>\n      <td>Stephen Palumbi</td>\n      <td>https://biology.stanford.edu/people/stephen-pa...</td>\n    </tr>\n    <tr>\n      <th>33</th>\n      <td>Kabir Peay</td>\n      <td>https://biology.stanford.edu/people/kabir-peay</td>\n    </tr>\n    <tr>\n      <th>34</th>\n      <td>Dmitri Petrov</td>\n      <td>https://biology.stanford.edu/people/dmitri-petrov</td>\n    </tr>\n    <tr>\n      <th>35</th>\n      <td>Jonathan Pritchard</td>\n      <td>https://biology.stanford.edu/people/jonathan-p...</td>\n    </tr>\n    <tr>\n      <th>36</th>\n      <td>Kristy Red-Horse</td>\n      <td>https://biology.stanford.edu/people/kristy-red...</td>\n    </tr>\n    <tr>\n      <th>37</th>\n      <td>Noah Rosenberg</td>\n      <td>https://biology.stanford.edu/people/noah-rosen...</td>\n    </tr>\n    <tr>\n      <th>38</th>\n      <td>Robert Sapolsky</td>\n      <td>https://biology.stanford.edu/people/robert-sap...</td>\n    </tr>\n    <tr>\n      <th>39</th>\n      <td>Mark J. Schnitzer</td>\n      <td>https://biology.stanford.edu/people/mark-j-sch...</td>\n    </tr>\n    <tr>\n      <th>40</th>\n      <td>Molly Schumer</td>\n      <td>https://biology.stanford.edu/people/molly-schumer</td>\n    </tr>\n    <tr>\n      <th>41</th>\n      <td>Naima G. Sharaf</td>\n      <td>https://biology.stanford.edu/people/naima-g-sh...</td>\n    </tr>\n    <tr>\n      <th>42</th>\n      <td>Carla Shatz</td>\n      <td>https://biology.stanford.edu/people/carla-shatz</td>\n    </tr>\n    <tr>\n      <th>43</th>\n      <td>Kang Shen</td>\n      <td>https://biology.stanford.edu/people/kang-shen</td>\n    </tr>\n    <tr>\n      <th>44</th>\n      <td>Michael Simon</td>\n      <td>https://biology.stanford.edu/people/michael-simon</td>\n    </tr>\n    <tr>\n      <th>45</th>\n      <td>Jan Skotheim</td>\n      <td>https://biology.stanford.edu/people/jan-skotheim</td>\n    </tr>\n    <tr>\n      <th>46</th>\n      <td>Marc Tessier-Lavigne</td>\n      <td>https://biology.stanford.edu/people/marc-tessi...</td>\n    </tr>\n    <tr>\n      <th>47</th>\n      <td>Stuart Thompson</td>\n      <td>https://biology.stanford.edu/people/stuart-tho...</td>\n    </tr>\n    <tr>\n      <th>48</th>\n      <td>Alice Ting</td>\n      <td>https://biology.stanford.edu/people/alice-ting</td>\n    </tr>\n    <tr>\n      <th>49</th>\n      <td>Shripad Tuljapurkar</td>\n      <td>https://biology.stanford.edu/people/shripad-tu...</td>\n    </tr>\n    <tr>\n      <th>50</th>\n      <td>Virginia Walbot</td>\n      <td>https://biology.stanford.edu/people/virginia-w...</td>\n    </tr>\n  </tbody>\n</table>\n</div>"
     },
     "execution_count": 19,
     "metadata": {},
     "output_type": "execute_result"
    }
   ],
   "source": [
    "pd.DataFrame(pi_name_url)"
   ],
   "metadata": {
    "collapsed": false
   }
  },
  {
   "cell_type": "code",
   "execution_count": 21,
   "outputs": [],
   "source": [
    "df=pd.DataFrame(pi_name_url)\n",
    "df.columns=['name','url']\n",
    "df.to_csv(RESULT_PATH/'standord_pi_name_url.csv',index=False,)"
   ],
   "metadata": {
    "collapsed": false
   }
  },
  {
   "cell_type": "markdown",
   "source": [
    "## crawl mit pi personal information"
   ],
   "metadata": {
    "collapsed": false
   }
  },
  {
   "cell_type": "code",
   "execution_count": 120,
   "outputs": [
    {
     "name": "stdout",
     "output_type": "stream",
     "text": [
      "National Tsinghua University 2004 nan nan Harvard University 2010\n"
     ]
    }
   ],
   "source": [
    "def extract_one_pate_pi_info(pi_link):\n",
    "    try:\n",
    "        persoanl_page = pq(pi_link, encoding='utf-8', timeout=30)\n",
    "        pass\n",
    "    except:\n",
    "        print(pi_link)\n",
    "        return np.nan, np.nan, np.nan,\n",
    "    else:\n",
    "        degrees = list(\n",
    "            persoanl_page('#main > div.profile-full-content > div > div > div.page-content  h2:nth-child(1)').eq(\n",
    "                0).siblings('ul').eq(0).children().items())\n",
    "        # ed_title.sli\n",
    "        # degrees=list(persoanl_page('#main > div.profile-full-content > div > div > div.page-content  ul > li').items())\n",
    "        # degrees=list(persoanl_page('#main > div.profile-full-content > div > div > div.page-content > ul:nth-child(2) > li:nth-child(1)').items())\n",
    "        if (degrees_num := len(degrees)) <= 1:\n",
    "            print('lesson 1', pi_link)\n",
    "        md, bd, bd_y, md_y = np.nan, np.nan, np.nan, np.nan,\n",
    "        year = re.compile(u'\\d{4}')\n",
    "        try:\n",
    "            phd = degrees[0].text().split(', ')[-1]\n",
    "            phd_y = year.search(degrees[0].text()).group()\n",
    "        except:\n",
    "            print(pi_link, '!!!!!!!!!!!!!!!!!!!!')\n",
    "            return np.nan, np.nan, np.nan,\n",
    "\n",
    "        else:\n",
    "            if degrees_num == 3:\n",
    "                md = degrees[1].text().split(', ')[-1]\n",
    "                md_y = year.search(degrees[1].text()).group()\n",
    "\n",
    "                bd = degrees[2].text().split(', ')[-1]\n",
    "                bd_y = year.search(degrees[2].text()).group()\n",
    "\n",
    "            elif degrees_num == 2:\n",
    "                bd = degrees[-1].text().split(', ')[-1]\n",
    "                bd_y = year.search(degrees[-1].text()).group()\n",
    "\n",
    "            return bd, bd_y, md, md_y, phd, phd_y\n",
    "\n",
    "\n",
    "bd, bd_y, md, md_y, phd, phd_y = extract_one_pate_pi_info('https://biology.mit.edu/profile/gene-wei-li/')\n",
    "print(bd, bd_y, md, md_y, phd, phd_y)"
   ],
   "metadata": {
    "collapsed": false
   }
  },
  {
   "cell_type": "code",
   "execution_count": 122,
   "outputs": [
    {
     "name": "stderr",
     "output_type": "stream",
     "text": [
      "3it [00:07,  1.96s/it]"
     ]
    },
    {
     "name": "stdout",
     "output_type": "stream",
     "text": [
      "lesson 1 https://biology.mit.edu/profile/sallie-penny-w-chisholm/\n"
     ]
    },
    {
     "name": "stderr",
     "output_type": "stream",
     "text": [
      "16it [00:10,  2.11it/s]"
     ]
    },
    {
     "name": "stdout",
     "output_type": "stream",
     "text": [
      "lesson 1 https://biology.mit.edu/profile/chris-a-kaiser/\n"
     ]
    },
    {
     "name": "stderr",
     "output_type": "stream",
     "text": [
      "24it [00:13,  2.32it/s]"
     ]
    },
    {
     "name": "stdout",
     "output_type": "stream",
     "text": [
      "lesson 1 https://biology.mit.edu/profile/jonathan-weissman/\n",
      "https://biology.mit.edu/profile/jonathan-weissman/ !!!!!!!!!!!!!!!!!!!!\n"
     ]
    },
    {
     "name": "stderr",
     "output_type": "stream",
     "text": [
      "27it [00:15,  2.21it/s]"
     ]
    },
    {
     "name": "stdout",
     "output_type": "stream",
     "text": [
      "lesson 1 https://biology.mit.edu/profile/rudolf-jaenisch/\n"
     ]
    },
    {
     "name": "stderr",
     "output_type": "stream",
     "text": [
      "73it [00:19,  3.80it/s]"
     ]
    },
    {
     "name": "stdout",
     "output_type": "stream",
     "text": [
      "19.28064250946045 s\n"
     ]
    },
    {
     "name": "stderr",
     "output_type": "stream",
     "text": [
      "\n"
     ]
    }
   ],
   "source": [
    "begin = time.time()\n",
    "executor = ThreadPoolExecutor(max_workers=40)\n",
    "pi_names, pi_urls = zip(*pi_name_url)\n",
    "records = []\n",
    "for infos, author_name in tqdm(zip(executor.map(extract_one_pate_pi_info, pi_urls), pi_names)):\n",
    "    records.append([author_name, *infos ])\n",
    "times = time.time() - begin\n",
    "print(times, 's')"
   ],
   "metadata": {
    "collapsed": false
   }
  },
  {
   "cell_type": "code",
   "execution_count": 124,
   "outputs": [
    {
     "data": {
      "text/plain": "                 name                               bd  bd_y   md md_y  \\\n0      Tania A. Baker  University of Wisconsin-Madison  1983  NaN  NaN   \n1        David Bartel                   Goshen College  1982  NaN  NaN   \n2        Stephen Bell          Northwestern University  1985  NaN  NaN   \n3     Laurie A. Boyer      Framingham State University  1990  NaN  NaN   \n4   Christopher Burge              Stanford University  1990  NaN  NaN   \n..                ...                              ...   ...  ...  ...   \n68   Harikesh S. Wong              McMaster University  2010  NaN  NaN   \n69   Michael B. Yaffe               Cornell University  1981  NaN  NaN   \n70   Yukiko Yamashita                 Kyoto University  1994  NaN  NaN   \n71     Omer H. Yilmaz           University of Michigan  1999  NaN  NaN   \n72   Richard A. Young               Indiana University  1975  NaN  NaN   \n\n                                           phd phd_y  \n0                          Stanford University  1988  \n1                           Harvard University  1993  \n2                                     Berkeley  1990  \n3   University of Massachusetts Medical School  2001  \n4                          Stanford University  1997  \n..                                         ...   ...  \n68                       University of Toronto  2016  \n69             Case Western Reserve University  1987  \n70                            Kyoto University  1999  \n71       University of Michigan Medical School  2008  \n72                             Yale University  1979  \n\n[73 rows x 7 columns]",
      "text/html": "<div>\n<style scoped>\n    .dataframe tbody tr th:only-of-type {\n        vertical-align: middle;\n    }\n\n    .dataframe tbody tr th {\n        vertical-align: top;\n    }\n\n    .dataframe thead th {\n        text-align: right;\n    }\n</style>\n<table border=\"1\" class=\"dataframe\">\n  <thead>\n    <tr style=\"text-align: right;\">\n      <th></th>\n      <th>name</th>\n      <th>bd</th>\n      <th>bd_y</th>\n      <th>md</th>\n      <th>md_y</th>\n      <th>phd</th>\n      <th>phd_y</th>\n    </tr>\n  </thead>\n  <tbody>\n    <tr>\n      <th>0</th>\n      <td>Tania A. Baker</td>\n      <td>University of Wisconsin-Madison</td>\n      <td>1983</td>\n      <td>NaN</td>\n      <td>NaN</td>\n      <td>Stanford University</td>\n      <td>1988</td>\n    </tr>\n    <tr>\n      <th>1</th>\n      <td>David Bartel</td>\n      <td>Goshen College</td>\n      <td>1982</td>\n      <td>NaN</td>\n      <td>NaN</td>\n      <td>Harvard University</td>\n      <td>1993</td>\n    </tr>\n    <tr>\n      <th>2</th>\n      <td>Stephen Bell</td>\n      <td>Northwestern University</td>\n      <td>1985</td>\n      <td>NaN</td>\n      <td>NaN</td>\n      <td>Berkeley</td>\n      <td>1990</td>\n    </tr>\n    <tr>\n      <th>3</th>\n      <td>Laurie A. Boyer</td>\n      <td>Framingham State University</td>\n      <td>1990</td>\n      <td>NaN</td>\n      <td>NaN</td>\n      <td>University of Massachusetts Medical School</td>\n      <td>2001</td>\n    </tr>\n    <tr>\n      <th>4</th>\n      <td>Christopher Burge</td>\n      <td>Stanford University</td>\n      <td>1990</td>\n      <td>NaN</td>\n      <td>NaN</td>\n      <td>Stanford University</td>\n      <td>1997</td>\n    </tr>\n    <tr>\n      <th>...</th>\n      <td>...</td>\n      <td>...</td>\n      <td>...</td>\n      <td>...</td>\n      <td>...</td>\n      <td>...</td>\n      <td>...</td>\n    </tr>\n    <tr>\n      <th>68</th>\n      <td>Harikesh S. Wong</td>\n      <td>McMaster University</td>\n      <td>2010</td>\n      <td>NaN</td>\n      <td>NaN</td>\n      <td>University of Toronto</td>\n      <td>2016</td>\n    </tr>\n    <tr>\n      <th>69</th>\n      <td>Michael B. Yaffe</td>\n      <td>Cornell University</td>\n      <td>1981</td>\n      <td>NaN</td>\n      <td>NaN</td>\n      <td>Case Western Reserve University</td>\n      <td>1987</td>\n    </tr>\n    <tr>\n      <th>70</th>\n      <td>Yukiko Yamashita</td>\n      <td>Kyoto University</td>\n      <td>1994</td>\n      <td>NaN</td>\n      <td>NaN</td>\n      <td>Kyoto University</td>\n      <td>1999</td>\n    </tr>\n    <tr>\n      <th>71</th>\n      <td>Omer H. Yilmaz</td>\n      <td>University of Michigan</td>\n      <td>1999</td>\n      <td>NaN</td>\n      <td>NaN</td>\n      <td>University of Michigan Medical School</td>\n      <td>2008</td>\n    </tr>\n    <tr>\n      <th>72</th>\n      <td>Richard A. Young</td>\n      <td>Indiana University</td>\n      <td>1975</td>\n      <td>NaN</td>\n      <td>NaN</td>\n      <td>Yale University</td>\n      <td>1979</td>\n    </tr>\n  </tbody>\n</table>\n<p>73 rows × 7 columns</p>\n</div>"
     },
     "execution_count": 124,
     "metadata": {},
     "output_type": "execute_result"
    }
   ],
   "source": [
    "df = pd.DataFrame.from_records(records,columns=['name','bd', 'bd_y', 'md', 'md_y', 'phd', 'phd_y' ])\n",
    "df"
   ],
   "metadata": {
    "collapsed": false
   }
  },
  {
   "cell_type": "code",
   "execution_count": null,
   "outputs": [],
   "source": [],
   "metadata": {
    "collapsed": false
   }
  },
  {
   "cell_type": "markdown",
   "source": [
    "### save the pi info"
   ],
   "metadata": {
    "collapsed": false
   }
  },
  {
   "cell_type": "code",
   "execution_count": 127,
   "outputs": [],
   "source": [
    "df.to_csv(RESULT_PATH/'mit_faculty_degrees_info.csv',index=False, encoding='utf8')"
   ],
   "metadata": {
    "collapsed": false
   }
  },
  {
   "cell_type": "markdown",
   "source": [
    "## crawl its google scholar page"
   ],
   "metadata": {
    "collapsed": false
   }
  },
  {
   "cell_type": "code",
   "execution_count": null,
   "outputs": [],
   "source": [],
   "metadata": {
    "collapsed": false
   }
  }
 ],
 "metadata": {
  "kernelspec": {
   "name": "python3",
   "language": "python",
   "display_name": "Python 3"
  },
  "language_info": {
   "codemirror_mode": {
    "name": "ipython",
    "version": 2
   },
   "file_extension": ".py",
   "mimetype": "text/x-python",
   "name": "python",
   "nbconvert_exporter": "python",
   "pygments_lexer": "ipython2",
   "version": "3.8.3-final"
  }
 },
 "nbformat": 4,
 "nbformat_minor": 0
}
