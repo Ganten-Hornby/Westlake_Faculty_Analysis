{
 "cells": [
  {
   "cell_type": "code",
   "execution_count": 1,
   "metadata": {
    "collapsed": true
   },
   "outputs": [
    {
     "name": "stdout",
     "output_type": "stream",
     "text": [
      "Faculty | Biology and Biological Engineering\n"
     ]
    }
   ],
   "source": [
    "import re\n",
    "import time\n",
    "from concurrent.futures import ThreadPoolExecutor\n",
    "\n",
    "import numpy as np\n",
    "import pandas as pd\n",
    "from pyquery import PyQuery as pq\n",
    "from selenium import webdriver\n",
    "from selenium.webdriver.chrome.options import Options\n",
    "from tqdm import tqdm\n",
    "\n",
    "chrome_options = Options()\n",
    "chrome_options.add_experimental_option(\"debuggerAddress\", \"127.0.0.1:9222\")\n",
    "driver = webdriver.Chrome(options=chrome_options)\n",
    "print(driver.title)"
   ]
  },
  {
   "cell_type": "markdown",
   "source": [
    "# Get name and url"
   ],
   "metadata": {
    "collapsed": false
   }
  },
  {
   "cell_type": "code",
   "execution_count": 2,
   "outputs": [],
   "source": [
    "def refresh_Pq():\n",
    "    return pq(driver.page_source)"
   ],
   "metadata": {
    "collapsed": false
   }
  },
  {
   "cell_type": "code",
   "execution_count": 3,
   "outputs": [],
   "source": [
    "pi_url_list = []\n",
    "l = []"
   ],
   "metadata": {
    "collapsed": false
   }
  },
  {
   "cell_type": "code",
   "execution_count": 4,
   "outputs": [
    {
     "data": {
      "text/plain": "[[<div.person-teaser.col-lg-6.col-sm-6>],\n [<div.person-teaser.col-lg-6.col-sm-6>],\n [<div.person-teaser.col-lg-6.col-sm-6>],\n [<div.person-teaser.col-lg-6.col-sm-6>],\n [<div.person-teaser.col-lg-6.col-sm-6>],\n [<div.person-teaser.col-lg-6.col-sm-6>],\n [<div.person-teaser.col-lg-6.col-sm-6>],\n [<div.person-teaser.col-lg-6.col-sm-6>],\n [<div.person-teaser.col-lg-6.col-sm-6>],\n [<div.person-teaser.col-lg-6.col-sm-6>],\n [<div.person-teaser.col-lg-6.col-sm-6>],\n [<div.person-teaser.col-lg-6.col-sm-6>],\n [<div.person-teaser.col-lg-6.col-sm-6>],\n [<div.person-teaser.col-lg-6.col-sm-6>],\n [<div.person-teaser.col-lg-6.col-sm-6>],\n [<div.person-teaser.col-lg-6.col-sm-6>],\n [<div.person-teaser.col-lg-6.col-sm-6>],\n [<div.person-teaser.col-lg-6.col-sm-6>],\n [<div.person-teaser.col-lg-6.col-sm-6>],\n [<div.person-teaser.col-lg-6.col-sm-6>],\n [<div.person-teaser.col-lg-6.col-sm-6>],\n [<div.person-teaser.col-lg-6.col-sm-6>],\n [<div.person-teaser.col-lg-6.col-sm-6>],\n [<div.person-teaser.col-lg-6.col-sm-6>],\n [<div.person-teaser.col-lg-6.col-sm-6>],\n [<div.person-teaser.col-lg-6.col-sm-6>],\n [<div.person-teaser.col-lg-6.col-sm-6>],\n [<div.person-teaser.col-lg-6.col-sm-6>],\n [<div.person-teaser.col-lg-6.col-sm-6>],\n [<div.person-teaser.col-lg-6.col-sm-6>],\n [<div.person-teaser.col-lg-6.col-sm-6>],\n [<div.person-teaser.col-lg-6.col-sm-6>],\n [<div.person-teaser.col-lg-6.col-sm-6>],\n [<div.person-teaser.col-lg-6.col-sm-6>],\n [<div.person-teaser.col-lg-6.col-sm-6>],\n [<div.person-teaser.col-lg-6.col-sm-6>],\n [<div.person-teaser.col-lg-6.col-sm-6>],\n [<div.person-teaser.col-lg-6.col-sm-6>],\n [<div.person-teaser.col-lg-6.col-sm-6>],\n [<div.person-teaser.col-lg-6.col-sm-6>],\n [<div.person-teaser.col-lg-6.col-sm-6>],\n [<div.person-teaser.col-lg-6.col-sm-6>],\n [<div.person-teaser.col-lg-6.col-sm-6>],\n [<div.person-teaser.col-lg-6.col-sm-6>],\n [<div.person-teaser.col-lg-6.col-sm-6>],\n [<div.person-teaser.col-lg-6.col-sm-6>],\n [<div.person-teaser.col-lg-6.col-sm-6>],\n [<div.person-teaser.col-lg-6.col-sm-6>],\n [<div.person-teaser.col-lg-6.col-sm-6>],\n [<div.person-teaser.col-lg-6.col-sm-6>],\n [<div.person-teaser.col-lg-6.col-sm-6>],\n [<div.person-teaser.col-lg-6.col-sm-6>],\n [<div.person-teaser.col-lg-6.col-sm-6>],\n [<div.person-teaser.col-lg-6.col-sm-6>],\n [<div.person-teaser.col-lg-6.col-sm-6>],\n [<div.person-teaser.col-lg-6.col-sm-6>],\n [<div.person-teaser.col-lg-6.col-sm-6>],\n [<div.person-teaser.col-lg-6.col-sm-6>],\n [<div.person-teaser.col-lg-6.col-sm-6>],\n [<div.person-teaser.col-lg-6.col-sm-6>],\n [<div.person-teaser.col-lg-6.col-sm-6>],\n [<div.person-teaser.col-lg-6.col-sm-6>]]"
     },
     "execution_count": 4,
     "metadata": {},
     "output_type": "execute_result"
    }
   ],
   "source": [
    "doc = refresh_Pq()\n",
    "pi_list = list(doc('.person-teaser').items())\n",
    "pi_list"
   ],
   "metadata": {
    "collapsed": false
   }
  },
  {
   "cell_type": "code",
   "execution_count": 5,
   "outputs": [],
   "source": [
    "#block-humsci-colorful-content > article > div > div.decanter-grid.hb-three-column.clearfix.hb-three-column--one-sidebar > div.hb-layout-builder-main-content.hb-three-column__main > div > div > div:nth-child(2) > div > div > div > div > div > div > div > div > div:nth-child(1) > div > div.hb-card__content > div.hb-card__title > h2 > div\n",
    "pi_name_url = []\n",
    "for pi_profile in pi_list:\n",
    "    name = pi_profile('.person-teaser__title a').text().replace('\\xa0',' ')\n",
    "    url = 'https://www.bbe.caltech.edu/people/faculty'+pi_profile('.person-teaser__title a').attr('href')\n",
    "    pi_name_url.append([name, url])"
   ],
   "metadata": {
    "collapsed": false
   }
  },
  {
   "cell_type": "code",
   "execution_count": 7,
   "outputs": [
    {
     "data": {
      "text/plain": "62"
     },
     "execution_count": 7,
     "metadata": {},
     "output_type": "execute_result"
    }
   ],
   "source": [
    "len(pi_name_url)"
   ],
   "metadata": {
    "collapsed": false
   }
  },
  {
   "cell_type": "code",
   "execution_count": 8,
   "outputs": [],
   "source": [
    "from pathlib import Path\n",
    "\n",
    "RESULT_PATH = Path.cwd().parents[1] / 'result/caltech'\n",
    "RESULT_PATH.mkdir(exist_ok=True)"
   ],
   "metadata": {
    "collapsed": false
   }
  },
  {
   "cell_type": "code",
   "execution_count": 9,
   "outputs": [
    {
     "data": {
      "text/plain": "                           0  \\\n0              Ralph Adolphs   \n1             John M. Allman   \n2        Richard A. Andersen   \n3          David J. Anderson   \n4              Alexei Aravin   \n..                       ...   \n57              Erik Winfree   \n58           Barbara J. Wold   \n59            Changhuei Yang   \n60  Magdalena Zernicka-Goetz   \n61               Kai G. Zinn   \n\n                                                    1  \n0   https://www.bbe.caltech.edu/people/faculty/peo...  \n1   https://www.bbe.caltech.edu/people/faculty/peo...  \n2   https://www.bbe.caltech.edu/people/faculty/peo...  \n3   https://www.bbe.caltech.edu/people/faculty/peo...  \n4   https://www.bbe.caltech.edu/people/faculty/peo...  \n..                                                ...  \n57  https://www.bbe.caltech.edu/people/faculty/peo...  \n58  https://www.bbe.caltech.edu/people/faculty/peo...  \n59  https://www.bbe.caltech.edu/people/faculty/peo...  \n60  https://www.bbe.caltech.edu/people/faculty/peo...  \n61  https://www.bbe.caltech.edu/people/faculty/peo...  \n\n[62 rows x 2 columns]",
      "text/html": "<div>\n<style scoped>\n    .dataframe tbody tr th:only-of-type {\n        vertical-align: middle;\n    }\n\n    .dataframe tbody tr th {\n        vertical-align: top;\n    }\n\n    .dataframe thead th {\n        text-align: right;\n    }\n</style>\n<table border=\"1\" class=\"dataframe\">\n  <thead>\n    <tr style=\"text-align: right;\">\n      <th></th>\n      <th>0</th>\n      <th>1</th>\n    </tr>\n  </thead>\n  <tbody>\n    <tr>\n      <th>0</th>\n      <td>Ralph Adolphs</td>\n      <td>https://www.bbe.caltech.edu/people/faculty/peo...</td>\n    </tr>\n    <tr>\n      <th>1</th>\n      <td>John M. Allman</td>\n      <td>https://www.bbe.caltech.edu/people/faculty/peo...</td>\n    </tr>\n    <tr>\n      <th>2</th>\n      <td>Richard A. Andersen</td>\n      <td>https://www.bbe.caltech.edu/people/faculty/peo...</td>\n    </tr>\n    <tr>\n      <th>3</th>\n      <td>David J. Anderson</td>\n      <td>https://www.bbe.caltech.edu/people/faculty/peo...</td>\n    </tr>\n    <tr>\n      <th>4</th>\n      <td>Alexei Aravin</td>\n      <td>https://www.bbe.caltech.edu/people/faculty/peo...</td>\n    </tr>\n    <tr>\n      <th>...</th>\n      <td>...</td>\n      <td>...</td>\n    </tr>\n    <tr>\n      <th>57</th>\n      <td>Erik Winfree</td>\n      <td>https://www.bbe.caltech.edu/people/faculty/peo...</td>\n    </tr>\n    <tr>\n      <th>58</th>\n      <td>Barbara J. Wold</td>\n      <td>https://www.bbe.caltech.edu/people/faculty/peo...</td>\n    </tr>\n    <tr>\n      <th>59</th>\n      <td>Changhuei Yang</td>\n      <td>https://www.bbe.caltech.edu/people/faculty/peo...</td>\n    </tr>\n    <tr>\n      <th>60</th>\n      <td>Magdalena Zernicka-Goetz</td>\n      <td>https://www.bbe.caltech.edu/people/faculty/peo...</td>\n    </tr>\n    <tr>\n      <th>61</th>\n      <td>Kai G. Zinn</td>\n      <td>https://www.bbe.caltech.edu/people/faculty/peo...</td>\n    </tr>\n  </tbody>\n</table>\n<p>62 rows × 2 columns</p>\n</div>"
     },
     "execution_count": 9,
     "metadata": {},
     "output_type": "execute_result"
    }
   ],
   "source": [
    "pd.DataFrame(pi_name_url)"
   ],
   "metadata": {
    "collapsed": false
   }
  },
  {
   "cell_type": "code",
   "execution_count": 10,
   "outputs": [],
   "source": [
    "df=pd.DataFrame(pi_name_url)\n",
    "df.columns=['name','url']\n",
    "df.to_csv(RESULT_PATH/'caltech_pi_name_url.csv',index=False,)"
   ],
   "metadata": {
    "collapsed": false
   }
  },
  {
   "cell_type": "markdown",
   "source": [
    "## crawl mit pi personal information"
   ],
   "metadata": {
    "collapsed": false
   }
  },
  {
   "cell_type": "code",
   "execution_count": 120,
   "outputs": [
    {
     "name": "stdout",
     "output_type": "stream",
     "text": [
      "National Tsinghua University 2004 nan nan Harvard University 2010\n"
     ]
    }
   ],
   "source": [
    "def extract_one_pate_pi_info(pi_link):\n",
    "    try:\n",
    "        persoanl_page = pq(pi_link, encoding='utf-8', timeout=30)\n",
    "        pass\n",
    "    except:\n",
    "        print(pi_link)\n",
    "        return np.nan, np.nan, np.nan,\n",
    "    else:\n",
    "        degrees = list(\n",
    "            persoanl_page('#main > div.profile-full-content > div > div > div.page-content  h2:nth-child(1)').eq(\n",
    "                0).siblings('ul').eq(0).children().items())\n",
    "        # ed_title.sli\n",
    "        # degrees=list(persoanl_page('#main > div.profile-full-content > div > div > div.page-content  ul > li').items())\n",
    "        # degrees=list(persoanl_page('#main > div.profile-full-content > div > div > div.page-content > ul:nth-child(2) > li:nth-child(1)').items())\n",
    "        if (degrees_num := len(degrees)) <= 1:\n",
    "            print('lesson 1', pi_link)\n",
    "        md, bd, bd_y, md_y = np.nan, np.nan, np.nan, np.nan,\n",
    "        year = re.compile(u'\\d{4}')\n",
    "        try:\n",
    "            phd = degrees[0].text().split(', ')[-1]\n",
    "            phd_y = year.search(degrees[0].text()).group()\n",
    "        except:\n",
    "            print(pi_link, '!!!!!!!!!!!!!!!!!!!!')\n",
    "            return np.nan, np.nan, np.nan,\n",
    "\n",
    "        else:\n",
    "            if degrees_num == 3:\n",
    "                md = degrees[1].text().split(', ')[-1]\n",
    "                md_y = year.search(degrees[1].text()).group()\n",
    "\n",
    "                bd = degrees[2].text().split(', ')[-1]\n",
    "                bd_y = year.search(degrees[2].text()).group()\n",
    "\n",
    "            elif degrees_num == 2:\n",
    "                bd = degrees[-1].text().split(', ')[-1]\n",
    "                bd_y = year.search(degrees[-1].text()).group()\n",
    "\n",
    "            return bd, bd_y, md, md_y, phd, phd_y\n",
    "\n",
    "\n",
    "bd, bd_y, md, md_y, phd, phd_y = extract_one_pate_pi_info('https://biology.mit.edu/profile/gene-wei-li/')\n",
    "print(bd, bd_y, md, md_y, phd, phd_y)"
   ],
   "metadata": {
    "collapsed": false
   }
  },
  {
   "cell_type": "code",
   "execution_count": 122,
   "outputs": [
    {
     "name": "stderr",
     "output_type": "stream",
     "text": [
      "3it [00:07,  1.96s/it]"
     ]
    },
    {
     "name": "stdout",
     "output_type": "stream",
     "text": [
      "lesson 1 https://biology.mit.edu/profile/sallie-penny-w-chisholm/\n"
     ]
    },
    {
     "name": "stderr",
     "output_type": "stream",
     "text": [
      "16it [00:10,  2.11it/s]"
     ]
    },
    {
     "name": "stdout",
     "output_type": "stream",
     "text": [
      "lesson 1 https://biology.mit.edu/profile/chris-a-kaiser/\n"
     ]
    },
    {
     "name": "stderr",
     "output_type": "stream",
     "text": [
      "24it [00:13,  2.32it/s]"
     ]
    },
    {
     "name": "stdout",
     "output_type": "stream",
     "text": [
      "lesson 1 https://biology.mit.edu/profile/jonathan-weissman/\n",
      "https://biology.mit.edu/profile/jonathan-weissman/ !!!!!!!!!!!!!!!!!!!!\n"
     ]
    },
    {
     "name": "stderr",
     "output_type": "stream",
     "text": [
      "27it [00:15,  2.21it/s]"
     ]
    },
    {
     "name": "stdout",
     "output_type": "stream",
     "text": [
      "lesson 1 https://biology.mit.edu/profile/rudolf-jaenisch/\n"
     ]
    },
    {
     "name": "stderr",
     "output_type": "stream",
     "text": [
      "73it [00:19,  3.80it/s]"
     ]
    },
    {
     "name": "stdout",
     "output_type": "stream",
     "text": [
      "19.28064250946045 s\n"
     ]
    },
    {
     "name": "stderr",
     "output_type": "stream",
     "text": [
      "\n"
     ]
    }
   ],
   "source": [
    "begin = time.time()\n",
    "executor = ThreadPoolExecutor(max_workers=40)\n",
    "pi_names, pi_urls = zip(*pi_name_url)\n",
    "records = []\n",
    "for infos, author_name in tqdm(zip(executor.map(extract_one_pate_pi_info, pi_urls), pi_names)):\n",
    "    records.append([author_name, *infos ])\n",
    "times = time.time() - begin\n",
    "print(times, 's')"
   ],
   "metadata": {
    "collapsed": false
   }
  },
  {
   "cell_type": "code",
   "execution_count": 124,
   "outputs": [
    {
     "data": {
      "text/plain": "                 name                               bd  bd_y   md md_y  \\\n0      Tania A. Baker  University of Wisconsin-Madison  1983  NaN  NaN   \n1        David Bartel                   Goshen College  1982  NaN  NaN   \n2        Stephen Bell          Northwestern University  1985  NaN  NaN   \n3     Laurie A. Boyer      Framingham State University  1990  NaN  NaN   \n4   Christopher Burge              Stanford University  1990  NaN  NaN   \n..                ...                              ...   ...  ...  ...   \n68   Harikesh S. Wong              McMaster University  2010  NaN  NaN   \n69   Michael B. Yaffe               Cornell University  1981  NaN  NaN   \n70   Yukiko Yamashita                 Kyoto University  1994  NaN  NaN   \n71     Omer H. Yilmaz           University of Michigan  1999  NaN  NaN   \n72   Richard A. Young               Indiana University  1975  NaN  NaN   \n\n                                           phd phd_y  \n0                          Stanford University  1988  \n1                           Harvard University  1993  \n2                                     Berkeley  1990  \n3   University of Massachusetts Medical School  2001  \n4                          Stanford University  1997  \n..                                         ...   ...  \n68                       University of Toronto  2016  \n69             Case Western Reserve University  1987  \n70                            Kyoto University  1999  \n71       University of Michigan Medical School  2008  \n72                             Yale University  1979  \n\n[73 rows x 7 columns]",
      "text/html": "<div>\n<style scoped>\n    .dataframe tbody tr th:only-of-type {\n        vertical-align: middle;\n    }\n\n    .dataframe tbody tr th {\n        vertical-align: top;\n    }\n\n    .dataframe thead th {\n        text-align: right;\n    }\n</style>\n<table border=\"1\" class=\"dataframe\">\n  <thead>\n    <tr style=\"text-align: right;\">\n      <th></th>\n      <th>name</th>\n      <th>bd</th>\n      <th>bd_y</th>\n      <th>md</th>\n      <th>md_y</th>\n      <th>phd</th>\n      <th>phd_y</th>\n    </tr>\n  </thead>\n  <tbody>\n    <tr>\n      <th>0</th>\n      <td>Tania A. Baker</td>\n      <td>University of Wisconsin-Madison</td>\n      <td>1983</td>\n      <td>NaN</td>\n      <td>NaN</td>\n      <td>Stanford University</td>\n      <td>1988</td>\n    </tr>\n    <tr>\n      <th>1</th>\n      <td>David Bartel</td>\n      <td>Goshen College</td>\n      <td>1982</td>\n      <td>NaN</td>\n      <td>NaN</td>\n      <td>Harvard University</td>\n      <td>1993</td>\n    </tr>\n    <tr>\n      <th>2</th>\n      <td>Stephen Bell</td>\n      <td>Northwestern University</td>\n      <td>1985</td>\n      <td>NaN</td>\n      <td>NaN</td>\n      <td>Berkeley</td>\n      <td>1990</td>\n    </tr>\n    <tr>\n      <th>3</th>\n      <td>Laurie A. Boyer</td>\n      <td>Framingham State University</td>\n      <td>1990</td>\n      <td>NaN</td>\n      <td>NaN</td>\n      <td>University of Massachusetts Medical School</td>\n      <td>2001</td>\n    </tr>\n    <tr>\n      <th>4</th>\n      <td>Christopher Burge</td>\n      <td>Stanford University</td>\n      <td>1990</td>\n      <td>NaN</td>\n      <td>NaN</td>\n      <td>Stanford University</td>\n      <td>1997</td>\n    </tr>\n    <tr>\n      <th>...</th>\n      <td>...</td>\n      <td>...</td>\n      <td>...</td>\n      <td>...</td>\n      <td>...</td>\n      <td>...</td>\n      <td>...</td>\n    </tr>\n    <tr>\n      <th>68</th>\n      <td>Harikesh S. Wong</td>\n      <td>McMaster University</td>\n      <td>2010</td>\n      <td>NaN</td>\n      <td>NaN</td>\n      <td>University of Toronto</td>\n      <td>2016</td>\n    </tr>\n    <tr>\n      <th>69</th>\n      <td>Michael B. Yaffe</td>\n      <td>Cornell University</td>\n      <td>1981</td>\n      <td>NaN</td>\n      <td>NaN</td>\n      <td>Case Western Reserve University</td>\n      <td>1987</td>\n    </tr>\n    <tr>\n      <th>70</th>\n      <td>Yukiko Yamashita</td>\n      <td>Kyoto University</td>\n      <td>1994</td>\n      <td>NaN</td>\n      <td>NaN</td>\n      <td>Kyoto University</td>\n      <td>1999</td>\n    </tr>\n    <tr>\n      <th>71</th>\n      <td>Omer H. Yilmaz</td>\n      <td>University of Michigan</td>\n      <td>1999</td>\n      <td>NaN</td>\n      <td>NaN</td>\n      <td>University of Michigan Medical School</td>\n      <td>2008</td>\n    </tr>\n    <tr>\n      <th>72</th>\n      <td>Richard A. Young</td>\n      <td>Indiana University</td>\n      <td>1975</td>\n      <td>NaN</td>\n      <td>NaN</td>\n      <td>Yale University</td>\n      <td>1979</td>\n    </tr>\n  </tbody>\n</table>\n<p>73 rows × 7 columns</p>\n</div>"
     },
     "execution_count": 124,
     "metadata": {},
     "output_type": "execute_result"
    }
   ],
   "source": [
    "df = pd.DataFrame.from_records(records,columns=['name','bd', 'bd_y', 'md', 'md_y', 'phd', 'phd_y' ])\n",
    "df"
   ],
   "metadata": {
    "collapsed": false
   }
  },
  {
   "cell_type": "code",
   "execution_count": null,
   "outputs": [],
   "source": [],
   "metadata": {
    "collapsed": false
   }
  },
  {
   "cell_type": "markdown",
   "source": [
    "### save the pi info"
   ],
   "metadata": {
    "collapsed": false
   }
  },
  {
   "cell_type": "code",
   "execution_count": 127,
   "outputs": [],
   "source": [
    "df.to_csv(RESULT_PATH/'mit_faculty_degrees_info.csv',index=False, encoding='utf8')"
   ],
   "metadata": {
    "collapsed": false
   }
  },
  {
   "cell_type": "markdown",
   "source": [
    "## crawl its google scholar page"
   ],
   "metadata": {
    "collapsed": false
   }
  },
  {
   "cell_type": "code",
   "execution_count": null,
   "outputs": [],
   "source": [],
   "metadata": {
    "collapsed": false
   }
  }
 ],
 "metadata": {
  "kernelspec": {
   "name": "python3",
   "language": "python",
   "display_name": "Python 3"
  },
  "language_info": {
   "codemirror_mode": {
    "name": "ipython",
    "version": 2
   },
   "file_extension": ".py",
   "mimetype": "text/x-python",
   "name": "python",
   "nbconvert_exporter": "python",
   "pygments_lexer": "ipython2",
   "version": "3.8.3-final"
  }
 },
 "nbformat": 4,
 "nbformat_minor": 0
}
