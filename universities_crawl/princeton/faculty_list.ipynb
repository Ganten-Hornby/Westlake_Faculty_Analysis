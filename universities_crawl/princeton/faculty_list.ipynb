{
 "cells": [
  {
   "cell_type": "code",
   "execution_count": 1,
   "metadata": {
    "collapsed": true
   },
   "outputs": [
    {
     "name": "stdout",
     "output_type": "stream",
     "text": [
      "Faculty Profiles | Department of Molecular Biology\n"
     ]
    }
   ],
   "source": [
    "import json\n",
    "import re\n",
    "import time\n",
    "from concurrent.futures import ThreadPoolExecutor\n",
    "\n",
    "import numpy as np\n",
    "import pandas as pd\n",
    "from pyquery import PyQuery as pq\n",
    "from selenium import webdriver\n",
    "from selenium.webdriver.chrome.options import Options\n",
    "from tqdm import tqdm\n",
    "from pathlib import Path\n",
    "\n",
    "\n",
    "chrome_options = Options()\n",
    "chrome_options.add_experimental_option(\"debuggerAddress\", \"127.0.0.1:9222\")\n",
    "driver = webdriver.Chrome(options=chrome_options)\n",
    "print(driver.title)"
   ]
  },
  {
   "cell_type": "code",
   "execution_count": 2,
   "outputs": [],
   "source": [
    "%load_ext autoreload\n",
    "%autoreload 2"
   ],
   "metadata": {
    "collapsed": false
   }
  },
  {
   "cell_type": "code",
   "execution_count": 3,
   "outputs": [],
   "source": [
    "## META INFO\n",
    "UNIVERSITY_NAME='princeton'\n",
    "AFFILIATION = 'princeton'\n",
    "EMAIL_DOMAIN = 'princeton'\n",
    "##\n",
    "RESULT_PATH = Path.cwd().parents[1] / 'result'/UNIVERSITY_NAME\n",
    "NAME_LIST_FILE_PATH=RESULT_PATH/f'{UNIVERSITY_NAME}_faculty_name_list.txt'\n",
    "FACULTY_JSON_FILE_PATH=RESULT_PATH/f'{UNIVERSITY_NAME}_faculty_google_scholar_info.json'\n",
    "FACULTY_CSV_FILE_PATH=RESULT_PATH/f'{UNIVERSITY_NAME}_faculty_google_scholar_info.csv'\n",
    "RESULT_PATH.mkdir(exist_ok=True)"
   ],
   "metadata": {
    "collapsed": false
   }
  },
  {
   "cell_type": "markdown",
   "source": [
    "# Get name and url"
   ],
   "metadata": {
    "collapsed": false
   }
  },
  {
   "cell_type": "code",
   "execution_count": 4,
   "outputs": [],
   "source": [
    "def refresh_Pq():\n",
    "    return pq(driver.page_source)"
   ],
   "metadata": {
    "collapsed": false
   }
  },
  {
   "cell_type": "code",
   "execution_count": 5,
   "outputs": [],
   "source": [
    "pi_url_list = []\n",
    "l = []"
   ],
   "metadata": {
    "collapsed": false
   }
  },
  {
   "cell_type": "code",
   "execution_count": 6,
   "outputs": [
    {
     "data": {
      "text/plain": "[[<li.views-row.views-row-1.views-row-odd.views-row-first>],\n [<li.views-row.views-row-2.views-row-even>],\n [<li.views-row.views-row-3.views-row-odd>],\n [<li.views-row.views-row-4.views-row-even>],\n [<li.views-row.views-row-5.views-row-odd>],\n [<li.views-row.views-row-6.views-row-even>],\n [<li.views-row.views-row-7.views-row-odd>],\n [<li.views-row.views-row-8.views-row-even>],\n [<li.views-row.views-row-9.views-row-odd>],\n [<li.views-row.views-row-10.views-row-even>],\n [<li.views-row.views-row-11.views-row-odd>],\n [<li.views-row.views-row-12.views-row-even>],\n [<li.views-row.views-row-13.views-row-odd>],\n [<li.views-row.views-row-14.views-row-even>],\n [<li.views-row.views-row-15.views-row-odd>],\n [<li.views-row.views-row-16.views-row-even>],\n [<li.views-row.views-row-17.views-row-odd>],\n [<li.views-row.views-row-18.views-row-even>],\n [<li.views-row.views-row-19.views-row-odd>],\n [<li.views-row.views-row-20.views-row-even>],\n [<li.views-row.views-row-21.views-row-odd>],\n [<li.views-row.views-row-22.views-row-even>],\n [<li.views-row.views-row-23.views-row-odd>],\n [<li.views-row.views-row-24.views-row-even>],\n [<li.views-row.views-row-25.views-row-odd>],\n [<li.views-row.views-row-26.views-row-even>],\n [<li.views-row.views-row-27.views-row-odd>],\n [<li.views-row.views-row-28.views-row-even>],\n [<li.views-row.views-row-29.views-row-odd>],\n [<li.views-row.views-row-30.views-row-even>],\n [<li.views-row.views-row-31.views-row-odd>],\n [<li.views-row.views-row-32.views-row-even.views-row-last>]]"
     },
     "execution_count": 6,
     "metadata": {},
     "output_type": "execute_result"
    }
   ],
   "source": [
    "doc = refresh_Pq()\n",
    "pi_list = list(doc('.views-row').items())\n",
    "pi_list"
   ],
   "metadata": {
    "collapsed": false
   }
  },
  {
   "cell_type": "code",
   "execution_count": 7,
   "outputs": [],
   "source": [
    "#block-humsci-colorful-content > article > div > div.decanter-grid.hb-three-column.clearfix.hb-three-column--one-sidebar > div.hb-layout-builder-main-content.hb-three-column__main > div > div > div:nth-child(2) > div > div > div > div > div > div > div > div > div:nth-child(1) > div > div.hb-card__content > div.hb-card__title > h2 > div\n",
    "name_list = []\n",
    "for pi_profile in pi_list:\n",
    "    name = pi_profile('.views-field.views-field-title > span > a').text()\n",
    "    name_list.append(name)"
   ],
   "metadata": {
    "collapsed": false
   }
  },
  {
   "cell_type": "code",
   "execution_count": 8,
   "outputs": [
    {
     "data": {
      "text/plain": "['Britt Adamson',\n 'Bonnie L. Bassler',\n 'John F. Brooks II',\n 'Rebecca D. Burdine',\n 'Michelle Chan',\n 'Ileana M. Cristea',\n 'Danelle Devenport',\n 'Mohamed S. Donia',\n 'Elizabeth R. Gavis',\n 'Zemer Gitai',\n 'Frederick M. Hughson',\n 'John R. Jimah',\n 'Martin Jonikas',\n 'Yibin Kang',\n 'Alexei V. Korennykh',\n 'Michael Levine',\n 'Ricardo Mallarino',\n 'Coleen T. Murphy',\n 'Cameron A. Myhrvold',\n 'Daniel A. Notterman',\n 'Sabine Petry',\n 'Alexander Ploss',\n 'Eszter Posfai',\n 'Paul D. Schedl',\n 'Jean E. Schwarzbauer',\n 'Stanislav Y. Shvartsman',\n 'Thomas J. Silhavy',\n 'Jeffry B. Stock',\n 'A.J. te Velthuis',\n 'Jared E. Toettcher',\n 'Ned Wingreen',\n 'Martin H. Wühr']"
     },
     "execution_count": 8,
     "metadata": {},
     "output_type": "execute_result"
    }
   ],
   "source": [
    "name_list"
   ],
   "metadata": {
    "collapsed": false
   }
  },
  {
   "cell_type": "markdown",
   "source": [
    "## save name list"
   ],
   "metadata": {
    "collapsed": false
   }
  },
  {
   "cell_type": "code",
   "execution_count": 9,
   "outputs": [
    {
     "data": {
      "text/plain": "538"
     },
     "execution_count": 9,
     "metadata": {},
     "output_type": "execute_result"
    }
   ],
   "source": [
    "NAME_LIST_FILE_PATH.open('w',encoding='utf8').write('\\n'.join(name_list))"
   ],
   "metadata": {
    "collapsed": false
   }
  },
  {
   "cell_type": "markdown",
   "source": [
    "# scrape google scholar"
   ],
   "metadata": {
    "collapsed": false
   }
  },
  {
   "cell_type": "code",
   "execution_count": 10,
   "outputs": [
    {
     "name": "stderr",
     "output_type": "stream",
     "text": [
      "  0%|          | 0/32 [00:00<?, ?it/s]"
     ]
    },
    {
     "name": "stdout",
     "output_type": "stream",
     "text": [
      "=======start searching Britt Adamson======\n",
      "0\n",
      "!!!! find Britt Adamson\n"
     ]
    },
    {
     "name": "stderr",
     "output_type": "stream",
     "text": [
      "  3%|▎         | 1/32 [00:04<02:33,  4.95s/it]"
     ]
    },
    {
     "name": "stdout",
     "output_type": "stream",
     "text": [
      "=======start searching Bonnie L. Bassler======\n",
      "-------------Not find Bonnie L. Bassler\n",
      "=======start searching Bonnie Bassler======\n",
      "0\n",
      "!!!! find Bonnie Bassler\n"
     ]
    },
    {
     "name": "stderr",
     "output_type": "stream",
     "text": [
      "CRITICAL:root:Enhancing searched Bonnie Bassler\n",
      "  6%|▋         | 2/32 [00:16<04:20,  8.67s/it]"
     ]
    },
    {
     "name": "stdout",
     "output_type": "stream",
     "text": [
      "=======start searching John F. Brooks II======\n",
      "-------------Not find John F. Brooks II\n",
      "=======start searching John II======\n",
      "0\n",
      "1\n",
      "2\n",
      "3\n",
      "4\n",
      "5\n",
      "6\n",
      "7\n",
      "8\n",
      "9\n",
      "10\n",
      "!!!! find John II by adding princeton suffix******************\n"
     ]
    },
    {
     "name": "stderr",
     "output_type": "stream",
     "text": [
      "CRITICAL:root:Enhancing searched John II\n",
      "  9%|▉         | 3/32 [00:24<04:10,  8.64s/it]"
     ]
    },
    {
     "name": "stdout",
     "output_type": "stream",
     "text": [
      "=======start searching Rebecca D. Burdine======\n",
      "0\n",
      "!!!! find Rebecca D. Burdine\n"
     ]
    },
    {
     "name": "stderr",
     "output_type": "stream",
     "text": [
      " 12%|█▎        | 4/32 [00:28<03:07,  6.69s/it]"
     ]
    },
    {
     "name": "stdout",
     "output_type": "stream",
     "text": [
      "=======start searching Michelle Chan======\n",
      "0\n",
      "1\n",
      "2\n",
      "3\n",
      "4\n",
      "5\n",
      "6\n",
      "7\n",
      "8\n",
      "9\n",
      "10\n"
     ]
    },
    {
     "name": "stderr",
     "output_type": "stream",
     "text": [
      " 16%|█▌        | 5/32 [00:33<02:39,  5.91s/it]"
     ]
    },
    {
     "name": "stdout",
     "output_type": "stream",
     "text": [
      "-------------Not find Michelle Chan\n",
      "=======start searching Ileana M. Cristea======\n",
      "-------------Not find Ileana M. Cristea\n",
      "=======start searching Ileana Cristea======\n"
     ]
    },
    {
     "name": "stderr",
     "output_type": "stream",
     "text": [
      " 19%|█▉        | 6/32 [00:36<02:12,  5.09s/it]"
     ]
    },
    {
     "name": "stdout",
     "output_type": "stream",
     "text": [
      "-------------Not find Ileana Cristea\n",
      "=======start searching Danelle Devenport======\n"
     ]
    },
    {
     "name": "stderr",
     "output_type": "stream",
     "text": [
      " 22%|██▏       | 7/32 [00:38<01:37,  3.90s/it]"
     ]
    },
    {
     "name": "stdout",
     "output_type": "stream",
     "text": [
      "0\n",
      "-------------Not find Danelle Devenport\n",
      "=======start searching Mohamed S. Donia======\n",
      "0\n",
      "!!!! find Mohamed S. Donia\n"
     ]
    },
    {
     "name": "stderr",
     "output_type": "stream",
     "text": [
      " 25%|██▌       | 8/32 [00:41<01:33,  3.89s/it]"
     ]
    },
    {
     "name": "stdout",
     "output_type": "stream",
     "text": [
      "=======start searching Elizabeth R. Gavis======\n",
      "0\n",
      "1\n",
      "-------------Not find Elizabeth R. Gavis\n",
      "=======start searching Elizabeth Gavis======\n",
      "0\n",
      "1\n",
      "2\n",
      "3\n",
      "!!!! find Elizabeth Gavis\n"
     ]
    },
    {
     "name": "stderr",
     "output_type": "stream",
     "text": [
      "CRITICAL:root:Enhancing searched Elizabeth Gavis\n",
      " 28%|██▊       | 9/32 [00:47<01:38,  4.30s/it]"
     ]
    },
    {
     "name": "stdout",
     "output_type": "stream",
     "text": [
      "=======start searching Zemer Gitai======\n",
      "0\n",
      "!!!! find Zemer Gitai\n"
     ]
    },
    {
     "name": "stderr",
     "output_type": "stream",
     "text": [
      " 31%|███▏      | 10/32 [00:52<01:40,  4.57s/it]"
     ]
    },
    {
     "name": "stdout",
     "output_type": "stream",
     "text": [
      "=======start searching Frederick M. Hughson======\n",
      "-------------Not find Frederick M. Hughson\n",
      "=======start searching Frederick Hughson======\n",
      "0\n",
      "!!!! find Frederick Hughson\n"
     ]
    },
    {
     "name": "stderr",
     "output_type": "stream",
     "text": [
      "CRITICAL:root:Enhancing searched Frederick Hughson\n",
      " 34%|███▍      | 11/32 [00:57<01:40,  4.81s/it]"
     ]
    },
    {
     "name": "stdout",
     "output_type": "stream",
     "text": [
      "=======start searching John R. Jimah======\n",
      "-------------Not find John R. Jimah\n",
      "=======start searching John Jimah======\n",
      "0\n",
      "!!!! find John Jimah\n"
     ]
    },
    {
     "name": "stderr",
     "output_type": "stream",
     "text": [
      "CRITICAL:root:Enhancing searched John Jimah\n",
      " 38%|███▊      | 12/32 [01:02<01:33,  4.70s/it]"
     ]
    },
    {
     "name": "stdout",
     "output_type": "stream",
     "text": [
      "=======start searching Martin Jonikas======\n",
      "0\n",
      "!!!! find Martin Jonikas\n"
     ]
    },
    {
     "name": "stderr",
     "output_type": "stream",
     "text": [
      " 41%|████      | 13/32 [01:06<01:25,  4.52s/it]"
     ]
    },
    {
     "name": "stdout",
     "output_type": "stream",
     "text": [
      "=======start searching Yibin Kang======\n",
      "0\n",
      "!!!! find Yibin Kang\n"
     ]
    },
    {
     "name": "stderr",
     "output_type": "stream",
     "text": [
      " 44%|████▍     | 14/32 [01:14<01:43,  5.77s/it]"
     ]
    },
    {
     "name": "stdout",
     "output_type": "stream",
     "text": [
      "=======start searching Alexei V. Korennykh======\n",
      "-------------Not find Alexei V. Korennykh\n",
      "=======start searching Alexei Korennykh======\n"
     ]
    },
    {
     "name": "stderr",
     "output_type": "stream",
     "text": [
      " 47%|████▋     | 15/32 [01:17<01:22,  4.86s/it]"
     ]
    },
    {
     "name": "stdout",
     "output_type": "stream",
     "text": [
      "-------------Not find Alexei Korennykh\n",
      "=======start searching Michael Levine======\n",
      "0\n",
      "1\n",
      "2\n",
      "3\n",
      "4\n",
      "5\n",
      "6\n",
      "7\n",
      "8\n",
      "9\n",
      "10\n"
     ]
    },
    {
     "name": "stderr",
     "output_type": "stream",
     "text": [
      " 50%|█████     | 16/32 [01:21<01:12,  4.50s/it]"
     ]
    },
    {
     "name": "stdout",
     "output_type": "stream",
     "text": [
      "-------------Not find Michael Levine\n",
      "=======start searching Ricardo Mallarino======\n",
      "0\n",
      "!!!! find Ricardo Mallarino\n"
     ]
    },
    {
     "name": "stderr",
     "output_type": "stream",
     "text": [
      " 53%|█████▎    | 17/32 [01:23<00:57,  3.86s/it]"
     ]
    },
    {
     "name": "stdout",
     "output_type": "stream",
     "text": [
      "=======start searching Coleen T. Murphy======\n",
      "-------------Not find Coleen T. Murphy\n",
      "=======start searching Coleen Murphy======\n",
      "0\n",
      "!!!! find Coleen Murphy\n"
     ]
    },
    {
     "name": "stderr",
     "output_type": "stream",
     "text": [
      "CRITICAL:root:Enhancing searched Coleen Murphy\n",
      " 56%|█████▋    | 18/32 [01:31<01:11,  5.14s/it]"
     ]
    },
    {
     "name": "stdout",
     "output_type": "stream",
     "text": [
      "=======start searching Cameron A. Myhrvold======\n",
      "-------------Not find Cameron A. Myhrvold\n",
      "=======start searching Cameron Myhrvold======\n",
      "0\n",
      "!!!! find Cameron Myhrvold\n"
     ]
    },
    {
     "name": "stderr",
     "output_type": "stream",
     "text": [
      "CRITICAL:root:Enhancing searched Cameron Myhrvold\n",
      " 59%|█████▉    | 19/32 [01:37<01:08,  5.27s/it]"
     ]
    },
    {
     "name": "stdout",
     "output_type": "stream",
     "text": [
      "=======start searching Daniel A. Notterman======\n",
      "-------------Not find Daniel A. Notterman\n",
      "=======start searching Daniel Notterman======\n",
      "0\n",
      "!!!! find Daniel Notterman\n"
     ]
    },
    {
     "name": "stderr",
     "output_type": "stream",
     "text": [
      "CRITICAL:root:Enhancing searched Daniel Notterman\n",
      " 62%|██████▎   | 20/32 [01:44<01:08,  5.73s/it]"
     ]
    },
    {
     "name": "stdout",
     "output_type": "stream",
     "text": [
      "=======start searching Sabine Petry======\n",
      "0\n",
      "!!!! find Sabine Petry\n"
     ]
    },
    {
     "name": "stderr",
     "output_type": "stream",
     "text": [
      " 66%|██████▌   | 21/32 [01:47<00:56,  5.16s/it]"
     ]
    },
    {
     "name": "stdout",
     "output_type": "stream",
     "text": [
      "=======start searching Alexander Ploss======\n",
      "0\n",
      "!!!! find Alexander Ploss\n"
     ]
    },
    {
     "name": "stderr",
     "output_type": "stream",
     "text": [
      " 69%|██████▉   | 22/32 [01:52<00:51,  5.12s/it]"
     ]
    },
    {
     "name": "stdout",
     "output_type": "stream",
     "text": [
      "=======start searching Eszter Posfai======\n"
     ]
    },
    {
     "name": "stderr",
     "output_type": "stream",
     "text": [
      " 72%|███████▏  | 23/32 [01:54<00:35,  3.93s/it]"
     ]
    },
    {
     "name": "stdout",
     "output_type": "stream",
     "text": [
      "-------------Not find Eszter Posfai\n",
      "=======start searching Paul D. Schedl======\n",
      "-------------Not find Paul D. Schedl\n",
      "=======start searching Paul Schedl======\n"
     ]
    },
    {
     "name": "stderr",
     "output_type": "stream",
     "text": [
      " 75%|███████▌  | 24/32 [01:56<00:26,  3.32s/it]"
     ]
    },
    {
     "name": "stdout",
     "output_type": "stream",
     "text": [
      "-------------Not find Paul Schedl\n",
      "=======start searching Jean E. Schwarzbauer======\n",
      "-------------Not find Jean E. Schwarzbauer\n",
      "=======start searching Jean Schwarzbauer======\n"
     ]
    },
    {
     "name": "stderr",
     "output_type": "stream",
     "text": [
      " 78%|███████▊  | 25/32 [01:59<00:22,  3.25s/it]"
     ]
    },
    {
     "name": "stdout",
     "output_type": "stream",
     "text": [
      "-------------Not find Jean Schwarzbauer\n",
      "=======start searching Stanislav Y. Shvartsman======\n",
      "-------------Not find Stanislav Y. Shvartsman\n",
      "=======start searching Stanislav Shvartsman======\n"
     ]
    },
    {
     "name": "stderr",
     "output_type": "stream",
     "text": [
      " 81%|████████▏ | 26/32 [02:00<00:16,  2.81s/it]"
     ]
    },
    {
     "name": "stdout",
     "output_type": "stream",
     "text": [
      "-------------Not find Stanislav Shvartsman\n",
      "=======start searching Thomas J. Silhavy======\n",
      "-------------Not find Thomas J. Silhavy\n",
      "=======start searching Thomas Silhavy======\n",
      "0\n",
      "!!!! find Thomas Silhavy\n"
     ]
    },
    {
     "name": "stderr",
     "output_type": "stream",
     "text": [
      "CRITICAL:root:Enhancing searched Thomas Silhavy\n",
      " 84%|████████▍ | 27/32 [02:10<00:23,  4.74s/it]"
     ]
    },
    {
     "name": "stdout",
     "output_type": "stream",
     "text": [
      "=======start searching Jeffry B. Stock======\n",
      "-------------Not find Jeffry B. Stock\n",
      "=======start searching Jeffry Stock======\n"
     ]
    },
    {
     "name": "stderr",
     "output_type": "stream",
     "text": [
      " 88%|████████▊ | 28/32 [02:11<00:15,  3.85s/it]"
     ]
    },
    {
     "name": "stdout",
     "output_type": "stream",
     "text": [
      "0\n",
      "-------------Not find Jeffry Stock\n",
      "=======start searching A.J. te Velthuis======\n",
      "0\n",
      "!!!! find A.J. te Velthuis\n"
     ]
    },
    {
     "name": "stderr",
     "output_type": "stream",
     "text": [
      " 91%|█████████ | 29/32 [02:15<00:11,  3.79s/it]"
     ]
    },
    {
     "name": "stdout",
     "output_type": "stream",
     "text": [
      "=======start searching Jared E. Toettcher======\n",
      "0\n",
      "!!!! find Jared E. Toettcher\n"
     ]
    },
    {
     "name": "stderr",
     "output_type": "stream",
     "text": [
      " 94%|█████████▍| 30/32 [02:19<00:07,  3.78s/it]"
     ]
    },
    {
     "name": "stdout",
     "output_type": "stream",
     "text": [
      "=======start searching Ned Wingreen======\n",
      "0\n",
      "!!!! find Ned Wingreen\n"
     ]
    },
    {
     "name": "stderr",
     "output_type": "stream",
     "text": [
      " 97%|█████████▋| 31/32 [02:27<00:05,  5.09s/it]"
     ]
    },
    {
     "name": "stdout",
     "output_type": "stream",
     "text": [
      "=======start searching Martin H. Wühr======\n",
      "-------------Not find Martin H. Wühr\n",
      "=======start searching Martin Wühr======\n",
      "0\n",
      "!!!! find Martin Wühr\n"
     ]
    },
    {
     "name": "stderr",
     "output_type": "stream",
     "text": [
      "CRITICAL:root:Enhancing searched Martin Wühr\n",
      "100%|██████████| 32/32 [02:35<00:00,  4.87s/it]"
     ]
    },
    {
     "name": "stdout",
     "output_type": "stream",
     "text": [
      "155.99s\n",
      "among 32, 0.00% has google scholar page\n"
     ]
    },
    {
     "name": "stderr",
     "output_type": "stream",
     "text": [
      "\n"
     ]
    }
   ],
   "source": [
    "import sys\n",
    "sys.path.extend(['F:\\\\0_Desktop\\\\Citation_Analysis'])\n",
    "from google_scholar_crawl import search_author, fill_author_container_publication,crawl_author_list_by\n",
    "\n",
    "info_dic=crawl_author_list_by(name_list, email_domain=EMAIL_DOMAIN, affiliation=AFFILIATION, fill_publication=False,enhance_search=True)"
   ],
   "metadata": {
    "collapsed": false
   }
  },
  {
   "cell_type": "markdown",
   "source": [
    "## save to json"
   ],
   "metadata": {
    "collapsed": false
   }
  },
  {
   "cell_type": "code",
   "execution_count": 17,
   "outputs": [],
   "source": [
    "f=FACULTY_JSON_FILE_PATH.open('w',encoding='utf8')\n",
    "json.dump(info_dic,f)"
   ],
   "metadata": {
    "collapsed": false
   }
  },
  {
   "cell_type": "markdown",
   "source": [
    "## save to csv"
   ],
   "metadata": {
    "collapsed": false
   }
  },
  {
   "cell_type": "code",
   "execution_count": null,
   "outputs": [],
   "source": [],
   "metadata": {
    "collapsed": false
   }
  },
  {
   "cell_type": "code",
   "execution_count": 19,
   "outputs": [
    {
     "name": "stdout",
     "output_type": "stream",
     "text": [
      "0.6875\n"
     ]
    }
   ],
   "source": [
    "i=0\n",
    "for name in info_dic:\n",
    "    if info_dic[name] is not None:\n",
    "        i+=1\n",
    "print(i/len(info_dic))"
   ],
   "metadata": {
    "collapsed": false
   }
  },
  {
   "cell_type": "code",
   "execution_count": 18,
   "outputs": [
    {
     "data": {
      "text/plain": "{'container_type': 'Author',\n 'filled': ['basics',\n  'indices',\n  'counts',\n  'coauthors',\n  'publications',\n  'public_access'],\n 'source': <AuthorSource.SEARCH_AUTHOR_SNIPPETS: 'SEARCH_AUTHOR_SNIPPETS'>,\n 'scholar_id': 'ZliYSzgAAAAJ',\n 'url_picture': 'https://scholar.google.com/citations?view_op=medium_photo&user=ZliYSzgAAAAJ',\n 'name': 'Martin Wühr',\n 'affiliation': 'Lewis-Sigler Institute, Princeton University',\n 'email_domain': '@princeton.edu',\n 'interests': ['Systems Biochemistry', 'Proteomics', 'Cell Biology'],\n 'citedby': 5248,\n 'organization': 4836318610601440500,\n 'homepage': 'http://scholar.princeton.edu/wuehr',\n 'citedby5y': 4307,\n 'hindex': 26,\n 'hindex5y': 25,\n 'i10index': 42,\n 'i10index5y': 41,\n 'cites_per_year': {2008: 22,\n  2009: 22,\n  2010: 40,\n  2011: 51,\n  2012: 66,\n  2013: 86,\n  2014: 103,\n  2015: 153,\n  2016: 352,\n  2017: 469,\n  2018: 659,\n  2019: 721,\n  2020: 842,\n  2021: 885,\n  2022: 722},\n 'coauthors': [{'container_type': 'Author',\n   'filled': [],\n   'scholar_id': '1TQZOe0AAAAJ',\n   'source': <AuthorSource.CO_AUTHORS_LIST: 'CO_AUTHORS_LIST'>,\n   'name': 'Timothy Mitchison',\n   'affiliation': 'Professor of Systems Biology, Havard Medical School'},\n  {'container_type': 'Author',\n   'filled': [],\n   'scholar_id': 'v811KJoAAAAJ',\n   'source': <AuthorSource.CO_AUTHORS_LIST: 'CO_AUTHORS_LIST'>,\n   'name': 'Marc Kirschner',\n   'affiliation': 'Professor of Systems Biology, Harvard Medical School'},\n  {'container_type': 'Author',\n   'filled': [],\n   'scholar_id': 'WMhS0lAAAAAJ',\n   'source': <AuthorSource.CO_AUTHORS_LIST: 'CO_AUTHORS_LIST'>,\n   'name': 'Leon Peshkin',\n   'affiliation': 'Harvard Medical School'},\n  {'container_type': 'Author',\n   'filled': [],\n   'scholar_id': 'BPBH0O8AAAAJ',\n   'source': <AuthorSource.CO_AUTHORS_LIST: 'CO_AUTHORS_LIST'>,\n   'name': 'Graeme McAlister',\n   'affiliation': 'Thermo Fisher Scientific'},\n  {'container_type': 'Author',\n   'filled': [],\n   'scholar_id': 'zgh8iJgAAAAJ',\n   'source': <AuthorSource.CO_AUTHORS_LIST: 'CO_AUTHORS_LIST'>,\n   'name': 'Meera Gupta',\n   'affiliation': 'Graduate Student, Princeton University'},\n  {'container_type': 'Author',\n   'filled': [],\n   'scholar_id': 'naQoW6AAAAAJ',\n   'source': <AuthorSource.CO_AUTHORS_LIST: 'CO_AUTHORS_LIST'>,\n   'name': 'Matthew Sonnett',\n   'affiliation': 'Graduate Student, Harvard University'},\n  {'container_type': 'Author',\n   'filled': [],\n   'scholar_id': 'DkPsE1YAAAAJ',\n   'source': <AuthorSource.CO_AUTHORS_LIST: 'CO_AUTHORS_LIST'>,\n   'name': 'Keisuke Ishihara',\n   'affiliation': 'postdoc, Research Institute of Molecular Pathology'},\n  {'container_type': 'Author',\n   'filled': [],\n   'scholar_id': 'Duws-9kAAAAJ',\n   'source': <AuthorSource.CO_AUTHORS_LIST: 'CO_AUTHORS_LIST'>,\n   'name': 'Phuong Anh Nguyen',\n   'affiliation': 'Chemical Biology PhD Graduate, Harvard University'},\n  {'container_type': 'Author',\n   'filled': [],\n   'scholar_id': 'u-pPnJ8AAAAJ',\n   'source': <AuthorSource.CO_AUTHORS_LIST: 'CO_AUTHORS_LIST'>,\n   'name': 'Bob Freeman',\n   'affiliation': 'Dir Research Tech Ops, Harvard Business School'},\n  {'container_type': 'Author',\n   'filled': [],\n   'scholar_id': 'b1zZKS4AAAAJ',\n   'source': <AuthorSource.CO_AUTHORS_LIST: 'CO_AUTHORS_LIST'>,\n   'name': 'Marko Horb',\n   'affiliation': 'Marine Biological Laboratory'},\n  {'container_type': 'Author',\n   'filled': [],\n   'scholar_id': 'mLI3rDAAAAAJ',\n   'source': <AuthorSource.CO_AUTHORS_LIST: 'CO_AUTHORS_LIST'>,\n   'name': 'David Nusinow',\n   'affiliation': 'Principal Scientist in Bioinformatics and Data Science, Interline Therapeutics'},\n  {'container_type': 'Author',\n   'filled': [],\n   'scholar_id': '1J3fsn0AAAAJ',\n   'source': <AuthorSource.CO_AUTHORS_LIST: 'CO_AUTHORS_LIST'>,\n   'name': 'Edward Huttlin',\n   'affiliation': 'Harvard Medical School'},\n  {'container_type': 'Author',\n   'filled': [],\n   'scholar_id': 'ELmi3zEAAAAJ',\n   'source': <AuthorSource.CO_AUTHORS_LIST: 'CO_AUTHORS_LIST'>,\n   'name': 'Allon M Klein',\n   'affiliation': 'Harvard Medical School'},\n  {'container_type': 'Author',\n   'filled': [],\n   'scholar_id': 'BP1u830AAAAJ',\n   'source': <AuthorSource.CO_AUTHORS_LIST: 'CO_AUTHORS_LIST'>,\n   'name': 'Nishant Pappireddi',\n   'affiliation': 'Molecular Biology PhD Student, Princeton University'},\n  {'container_type': 'Author',\n   'filled': [],\n   'scholar_id': 'rRLjeJUAAAAJ',\n   'source': <AuthorSource.CO_AUTHORS_LIST: 'CO_AUTHORS_LIST'>,\n   'name': 'Esther Pearl',\n   'affiliation': \"Research Associate, King's College London\"},\n  {'container_type': 'Author',\n   'filled': [],\n   'scholar_id': 'rmBIuGQAAAAJ',\n   'source': <AuthorSource.CO_AUTHORS_LIST: 'CO_AUTHORS_LIST'>,\n   'name': 'Lillia Ryazanova',\n   'affiliation': 'Research Specialist, Princeton University'},\n  {'container_type': 'Author',\n   'filled': [],\n   'scholar_id': 'PlxFwaIAAAAJ',\n   'source': <AuthorSource.CO_AUTHORS_LIST: 'CO_AUTHORS_LIST'>,\n   'name': 'Sophie Dumont',\n   'affiliation': 'Professor, UCSF'},\n  {'container_type': 'Author',\n   'filled': [],\n   'scholar_id': 's553ifMAAAAJ',\n   'source': <AuthorSource.CO_AUTHORS_LIST: 'CO_AUTHORS_LIST'>,\n   'name': 'H William Detrich, III',\n   'affiliation': 'Professor of Biochemistry and Marine Biology'},\n  {'container_type': 'Author',\n   'filled': [],\n   'scholar_id': 'LinhiXcAAAAJ',\n   'source': <AuthorSource.CO_AUTHORS_LIST: 'CO_AUTHORS_LIST'>,\n   'name': 'thomas silhavy',\n   'affiliation': 'professor of molelcular biology, princeton university'},\n  {'container_type': 'Author',\n   'filled': [],\n   'scholar_id': 'CQvK9Q8AAAAJ',\n   'source': <AuthorSource.CO_AUTHORS_LIST: 'CO_AUTHORS_LIST'>,\n   'name': 'Elizabeth M. Hart',\n   'affiliation': 'Princeton University'},\n  {'container_type': 'Author',\n   'filled': [],\n   'scholar_id': 'x0VNfQ0AAAAJ',\n   'source': <AuthorSource.CO_AUTHORS_LIST: 'CO_AUTHORS_LIST'>,\n   'name': 'Simon Alberti',\n   'affiliation': 'Technische Universität Dresden'},\n  {'container_type': 'Author',\n   'filled': [],\n   'scholar_id': 'Jw5MgCMAAAAJ',\n   'source': <AuthorSource.CO_AUTHORS_LIST: 'CO_AUTHORS_LIST'>,\n   'name': 'Elvan Boke',\n   'affiliation': 'Centre for Genomic Regulation (CRG)'},\n  {'container_type': 'Author',\n   'filled': [],\n   'scholar_id': 'HtCETH4AAAAJ',\n   'source': <AuthorSource.CO_AUTHORS_LIST: 'CO_AUTHORS_LIST'>,\n   'name': 'Martine Ruer',\n   'affiliation': 'PostDoc MPI-CBG'},\n  {'container_type': 'Author',\n   'filled': [],\n   'scholar_id': 'U_ZkarMAAAAJ',\n   'source': <AuthorSource.CO_AUTHORS_LIST: 'CO_AUTHORS_LIST'>,\n   'name': 'AA Hyman',\n   'affiliation': 'Max Planck institute of molecular cell biology and genetics'},\n  {'container_type': 'Author',\n   'filled': [],\n   'scholar_id': 'rKjTOqEAAAAJ',\n   'source': <AuthorSource.CO_AUTHORS_LIST: 'CO_AUTHORS_LIST'>,\n   'name': 'Loren D. Walensky',\n   'affiliation': 'Professor of Pediatrics, Dana-Farber Cancer Institute and Harvard Medical School'},\n  {'container_type': 'Author',\n   'filled': [],\n   'scholar_id': '7or52IsAAAAJ',\n   'source': <AuthorSource.CO_AUTHORS_LIST: 'CO_AUTHORS_LIST'>,\n   'name': 'Martin Loose',\n   'affiliation': 'ISTA, Klosterneuburg, Austria'},\n  {'container_type': 'Author',\n   'filled': [],\n   'scholar_id': 'L2RXiVoAAAAJ',\n   'source': <AuthorSource.CO_AUTHORS_LIST: 'CO_AUTHORS_LIST'>,\n   'name': 'Gerard Brien',\n   'affiliation': 'Trinity College Dublin'},\n  {'container_type': 'Author',\n   'filled': [],\n   'scholar_id': 'k72e3-IAAAAJ',\n   'source': <AuthorSource.CO_AUTHORS_LIST: 'CO_AUTHORS_LIST'>,\n   'name': 'David Remillard',\n   'affiliation': 'Graduate Student, Harvard University'},\n  {'container_type': 'Author',\n   'filled': [],\n   'scholar_id': 'iOF3CAEAAAAJ',\n   'source': <AuthorSource.CO_AUTHORS_LIST: 'CO_AUTHORS_LIST'>,\n   'name': 'Dennis Buckley',\n   'affiliation': 'NIBR'},\n  {'container_type': 'Author',\n   'filled': [],\n   'scholar_id': 'Q0hPqMAAAAAJ',\n   'source': <AuthorSource.CO_AUTHORS_LIST: 'CO_AUTHORS_LIST'>,\n   'name': 'James Bradner',\n   'affiliation': 'Novartis Institutes for BioMedical Research'},\n  {'container_type': 'Author',\n   'filled': [],\n   'scholar_id': 'mNdf_rEAAAAJ',\n   'source': <AuthorSource.CO_AUTHORS_LIST: 'CO_AUTHORS_LIST'>,\n   'name': 'Hyuk-Soo Seo',\n   'affiliation': 'Dana-Farber Cancer Institute'},\n  {'container_type': 'Author',\n   'filled': [],\n   'scholar_id': 'zeVARsUAAAAJ',\n   'source': <AuthorSource.CO_AUTHORS_LIST: 'CO_AUTHORS_LIST'>,\n   'name': 'Thomas Carell',\n   'affiliation': 'Professor der Chemie, LMU München'},\n  {'container_type': 'Author',\n   'filled': [],\n   'scholar_id': 'pLFAADEAAAAJ',\n   'source': <AuthorSource.CO_AUTHORS_LIST: 'CO_AUTHORS_LIST'>,\n   'name': 'Thomas Güttler',\n   'affiliation': 'Max Planck Institute for Biophysical Chemistry'},\n  {'container_type': 'Author',\n   'filled': [],\n   'scholar_id': 'xD2xOCAAAAAJ',\n   'source': <AuthorSource.CO_AUTHORS_LIST: 'CO_AUTHORS_LIST'>,\n   'name': 'Christopher M. Rose',\n   'affiliation': 'Genentech'},\n  {'container_type': 'Author',\n   'filled': [],\n   'scholar_id': 'aU7L6vIAAAAJ',\n   'source': <AuthorSource.CO_AUTHORS_LIST: 'CO_AUTHORS_LIST'>,\n   'name': 'Robert Everley',\n   'affiliation': 'Proteomics Lead, Hit Discovery & Optimization, Pfizer R&D'},\n  {'container_type': 'Author',\n   'filled': [],\n   'scholar_id': 'pKzcJvgAAAAJ',\n   'source': <AuthorSource.CO_AUTHORS_LIST: 'CO_AUTHORS_LIST'>,\n   'name': 'Elizabeth \"Evi\" Van Itallie',\n   'affiliation': 'Duke Human Vaccine Institute'},\n  {'container_type': 'Author',\n   'filled': [],\n   'scholar_id': 'PREkoq8AAAAJ',\n   'source': <AuthorSource.CO_AUTHORS_LIST: 'CO_AUTHORS_LIST'>,\n   'name': 'Titus M. Franzmann',\n   'affiliation': 'Max Planck Institute of Molecular Cell Biology and Genetics, Dresden'},\n  {'container_type': 'Author',\n   'filled': [],\n   'scholar_id': 'lehyLMMAAAAJ',\n   'source': <AuthorSource.CO_AUTHORS_LIST: 'CO_AUTHORS_LIST'>,\n   'name': 'Johannes Buchner',\n   'affiliation': 'TUM Technical University of Munich'},\n  {'container_type': 'Author',\n   'filled': [],\n   'scholar_id': 'CBDF72kAAAAJ',\n   'source': <AuthorSource.CO_AUTHORS_LIST: 'CO_AUTHORS_LIST'>,\n   'name': 'Keith T. Jones',\n   'affiliation': 'Sussex University, UK'},\n  {'container_type': 'Author',\n   'filled': [],\n   'scholar_id': 'RTGsMzgAAAAJ',\n   'source': <AuthorSource.CO_AUTHORS_LIST: 'CO_AUTHORS_LIST'>,\n   'name': 'Suzanne Madgwick',\n   'affiliation': 'Newcastle University'},\n  {'container_type': 'Author',\n   'filled': [],\n   'scholar_id': '-Cx1_LcAAAAJ',\n   'source': <AuthorSource.CO_AUTHORS_LIST: 'CO_AUTHORS_LIST'>,\n   'name': 'Olaf Stemmann',\n   'affiliation': 'Chair of Genetics, University of Bayreuth'},\n  {'container_type': 'Author',\n   'filled': [],\n   'scholar_id': 'pJrcQwEAAAAJ',\n   'source': <AuthorSource.CO_AUTHORS_LIST: 'CO_AUTHORS_LIST'>,\n   'name': 'Michael Springer',\n   'affiliation': 'harvard medical school'},\n  {'container_type': 'Author',\n   'filled': [],\n   'scholar_id': 'Mufcdt0AAAAJ',\n   'source': <AuthorSource.CO_AUTHORS_LIST: 'CO_AUTHORS_LIST'>,\n   'name': 'L. Stirling Churchman',\n   'affiliation': 'Associate Professor of Genetics, Harvard Medical School'},\n  {'container_type': 'Author',\n   'filled': [],\n   'scholar_id': 'Z3xwUiwAAAAJ',\n   'source': <AuthorSource.CO_AUTHORS_LIST: 'CO_AUTHORS_LIST'>,\n   'name': 'Blake W. Tye',\n   'affiliation': 'PhD Candidate, Chemical Biology, Harvard University'},\n  {'container_type': 'Author',\n   'filled': [],\n   'scholar_id': '9z1q-bEAAAAJ',\n   'source': <AuthorSource.CO_AUTHORS_LIST: 'CO_AUTHORS_LIST'>,\n   'name': 'Nicoletta Commins',\n   'affiliation': 'Harvard Medical School'},\n  {'container_type': 'Author',\n   'filled': [],\n   'scholar_id': 'Jg6FmzsAAAAJ',\n   'source': <AuthorSource.CO_AUTHORS_LIST: 'CO_AUTHORS_LIST'>,\n   'name': 'David Pincus',\n   'affiliation': 'University of Chicago'},\n  {'container_type': 'Author',\n   'filled': [],\n   'scholar_id': 'V5QFbSwAAAAJ',\n   'source': <AuthorSource.CO_AUTHORS_LIST: 'CO_AUTHORS_LIST'>,\n   'name': 'Graham A Anderson',\n   'affiliation': 'Graduate Student, Stanford University'},\n  {'container_type': 'Author',\n   'filled': [],\n   'scholar_id': 'ckyY7T8AAAAJ',\n   'source': <AuthorSource.CO_AUTHORS_LIST: 'CO_AUTHORS_LIST'>,\n   'name': 'Hao Yuan Kueh',\n   'affiliation': 'University of Washington'},\n  {'container_type': 'Author',\n   'filled': [],\n   'scholar_id': 'FW0vE7UAAAAJ',\n   'source': <AuthorSource.CO_AUTHORS_LIST: 'CO_AUTHORS_LIST'>,\n   'name': 'Joshua D. Rabinowitz',\n   'affiliation': 'Professor, Princeton University'},\n  {'container_type': 'Author',\n   'filled': [],\n   'scholar_id': '1xmwRh8AAAAJ',\n   'source': <AuthorSource.CO_AUTHORS_LIST: 'CO_AUTHORS_LIST'>,\n   'name': 'Nicolas Minc',\n   'affiliation': 'Institut Jacques Monod'},\n  {'container_type': 'Author',\n   'filled': [],\n   'scholar_id': 'lDgTLGMAAAAJ',\n   'source': <AuthorSource.CO_AUTHORS_LIST: 'CO_AUTHORS_LIST'>,\n   'name': 'Jérémy Sallé',\n   'affiliation': 'CNRS - Institut Jacques Monod'},\n  {'container_type': 'Author',\n   'filled': [],\n   'scholar_id': 'D96LSXAAAAAJ',\n   'source': <AuthorSource.CO_AUTHORS_LIST: 'CO_AUTHORS_LIST'>,\n   'name': 'Marian Kalocsay',\n   'affiliation': 'Assistant Professor, UT MD Anderson Cancer Center'},\n  {'container_type': 'Author',\n   'filled': [],\n   'scholar_id': 'LeHcpK8AAAAJ',\n   'source': <AuthorSource.CO_AUTHORS_LIST: 'CO_AUTHORS_LIST'>,\n   'name': 'Sean Megason',\n   'affiliation': 'Professor, Department of Systems Biology, Harvard Medical School'},\n  {'container_type': 'Author',\n   'filled': [],\n   'scholar_id': 'sUtm9mIAAAAJ',\n   'source': <AuthorSource.CO_AUTHORS_LIST: 'CO_AUTHORS_LIST'>,\n   'name': 'Najeeb Siddiqui',\n   'affiliation': 'Developmental & Stem Cell Biology Program'},\n  {'container_type': 'Author',\n   'filled': [],\n   'scholar_id': '6Wa4BbYAAAAJ',\n   'source': <AuthorSource.CO_AUTHORS_LIST: 'CO_AUTHORS_LIST'>,\n   'name': 'Stephane Angers',\n   'affiliation': 'Director and Professor, Donnelly Centre, University of Toronto'},\n  {'container_type': 'Author',\n   'filled': [],\n   'scholar_id': 'iJaIbMsAAAAJ',\n   'source': <AuthorSource.CO_AUTHORS_LIST: 'CO_AUTHORS_LIST'>,\n   'name': 'Howard Lipshitz',\n   'affiliation': 'University of Toronto'},\n  {'container_type': 'Author',\n   'filled': [],\n   'scholar_id': 'uOs549UAAAAJ',\n   'source': <AuthorSource.CO_AUTHORS_LIST: 'CO_AUTHORS_LIST'>,\n   'name': 'Craig Smibert',\n   'affiliation': 'Depts. of Biochemistry and Molecular Genetics, University of Toronto'},\n  {'container_type': 'Author',\n   'filled': [],\n   'scholar_id': 'seVn7WwAAAAJ',\n   'source': <AuthorSource.CO_AUTHORS_LIST: 'CO_AUTHORS_LIST'>,\n   'name': 'Heather A Harrington',\n   'affiliation': 'Mathematical Institute, University of Oxford'},\n  {'container_type': 'Author',\n   'filled': [],\n   'scholar_id': 'L96anC8AAAAJ',\n   'source': <AuthorSource.CO_AUTHORS_LIST: 'CO_AUTHORS_LIST'>,\n   'name': 'Etienne Gallant',\n   'affiliation': 'Department of Chemistry, Princeton University'},\n  {'container_type': 'Author',\n   'filled': [],\n   'scholar_id': 'Uz9-MF4AAAAJ',\n   'source': <AuthorSource.CO_AUTHORS_LIST: 'CO_AUTHORS_LIST'>,\n   'name': 'Dainan Mao',\n   'affiliation': 'Ph.D. candidate at Princeton University'},\n  {'container_type': 'Author',\n   'filled': [],\n   'scholar_id': 'nSgAHXkAAAAJ',\n   'source': <AuthorSource.CO_AUTHORS_LIST: 'CO_AUTHORS_LIST'>,\n   'name': 'Mohammad R. Seyedsayamdost',\n   'affiliation': 'Princeton University'},\n  {'container_type': 'Author',\n   'filled': [],\n   'scholar_id': 'pim-EqkAAAAJ',\n   'source': <AuthorSource.CO_AUTHORS_LIST: 'CO_AUTHORS_LIST'>,\n   'name': 'aya yoshimura',\n   'affiliation': 'Hokkaido University'},\n  {'container_type': 'Author',\n   'filled': [],\n   'scholar_id': 'puxFfIAAAAAJ',\n   'source': <AuthorSource.CO_AUTHORS_LIST: 'CO_AUTHORS_LIST'>,\n   'name': 'Anran Li',\n   'affiliation': 'Princeton University'},\n  {'container_type': 'Author',\n   'filled': [],\n   'scholar_id': 'Ff8o0AUAAAAJ',\n   'source': <AuthorSource.CO_AUTHORS_LIST: 'CO_AUTHORS_LIST'>,\n   'name': 'Zemer Gitai',\n   'affiliation': 'Professor of Molecular Biology, Princeton University'},\n  {'container_type': 'Author',\n   'filled': [],\n   'scholar_id': 'y_qMLDsAAAAJ',\n   'source': <AuthorSource.CO_AUTHORS_LIST: 'CO_AUTHORS_LIST'>,\n   'name': 'Ang Li（李昂）',\n   'affiliation': 'Princeton univerisity'},\n  {'container_type': 'Author',\n   'filled': [],\n   'scholar_id': 'FdsPXDoAAAAJ',\n   'source': <AuthorSource.CO_AUTHORS_LIST: 'CO_AUTHORS_LIST'>,\n   'name': 'Kamran Karimi',\n   'affiliation': 'University of Calgary'},\n  {'container_type': 'Author',\n   'filled': [],\n   'scholar_id': 'PkeLcc8AAAAJ',\n   'source': <AuthorSource.CO_AUTHORS_LIST: 'CO_AUTHORS_LIST'>,\n   'name': 'Peter Vize',\n   'affiliation': 'University of Calgary, Alberta, Canada'},\n  {'container_type': 'Author',\n   'filled': [],\n   'scholar_id': '4Q9DlwoAAAAJ',\n   'source': <AuthorSource.CO_AUTHORS_LIST: 'CO_AUTHORS_LIST'>,\n   'name': 'Alexander A. Lukyanov',\n   'affiliation': 'Harvard Medical School, Boston, United States'},\n  {'container_type': 'Author',\n   'filled': [],\n   'scholar_id': 'HhMJevQAAAAJ',\n   'source': <AuthorSource.CO_AUTHORS_LIST: 'CO_AUTHORS_LIST'>,\n   'name': 'Sarah Filippi',\n   'affiliation': 'Senior Lecturer, Imperial College London'},\n  {'container_type': 'Author',\n   'filled': [],\n   'scholar_id': 'BI6jq5kAAAAJ',\n   'source': <AuthorSource.CO_AUTHORS_LIST: 'CO_AUTHORS_LIST'>,\n   'name': 'Emilie Dufresne',\n   'affiliation': 'University of York'},\n  {'container_type': 'Author',\n   'filled': [],\n   'scholar_id': 'OFbIVscAAAAJ',\n   'source': <AuthorSource.CO_AUTHORS_LIST: 'CO_AUTHORS_LIST'>,\n   'name': 'Lewis Marsh',\n   'affiliation': 'PhD Student in Mathematical Biology, University of Oxford'},\n  {'container_type': 'Author',\n   'filled': [],\n   'scholar_id': 'gi0NNjgAAAAJ',\n   'source': <AuthorSource.CO_AUTHORS_LIST: 'CO_AUTHORS_LIST'>,\n   'name': 'David M. Sabatini',\n   'affiliation': 'Whitehead Institute/MIT/HHMI'},\n  {'container_type': 'Author',\n   'filled': [],\n   'scholar_id': 'PKiPYEwAAAAJ',\n   'source': <AuthorSource.CO_AUTHORS_LIST: 'CO_AUTHORS_LIST'>,\n   'name': 'Lance Parsons',\n   'affiliation': 'Scientific Programmer, Lewis-Sigler Institute for Integrative Genomics, Princeton University'},\n  {'container_type': 'Author',\n   'filled': [],\n   'scholar_id': 'ZOES9XEAAAAJ',\n   'source': <AuthorSource.CO_AUTHORS_LIST: 'CO_AUTHORS_LIST'>,\n   'name': 'Michel Nofal',\n   'affiliation': 'PhD candidate, Princeton University'},\n  {'container_type': 'Author',\n   'filled': [],\n   'scholar_id': '7UCt1a0AAAAJ',\n   'source': <AuthorSource.CO_AUTHORS_LIST: 'CO_AUTHORS_LIST'>,\n   'name': 'Tracy G. Anthony, Ph.D.',\n   'affiliation': 'Professor of Nutritional Sciences'},\n  {'container_type': 'Author',\n   'filled': [],\n   'scholar_id': 'pH60m-8AAAAJ',\n   'source': <AuthorSource.CO_AUTHORS_LIST: 'CO_AUTHORS_LIST'>,\n   'name': 'Connor Jankowski',\n   'affiliation': 'Princeton University'},\n  {'container_type': 'Author',\n   'filled': [],\n   'scholar_id': 'aCg4DA0AAAAJ',\n   'source': <AuthorSource.CO_AUTHORS_LIST: 'CO_AUTHORS_LIST'>,\n   'name': 'Lifeng Yang',\n   'affiliation': 'Shanghai Institute of Nutrition and Health, Chinese Academy of Science'},\n  {'container_type': 'Author',\n   'filled': [],\n   'scholar_id': 'v8Ra8PcAAAAJ',\n   'source': <AuthorSource.CO_AUTHORS_LIST: 'CO_AUTHORS_LIST'>,\n   'name': 'Tim Wang',\n   'affiliation': 'Helen Hay Whitney Fellow, Janelia Research Campus'},\n  {'container_type': 'Author',\n   'filled': [],\n   'scholar_id': 'SQSojiAAAAAJ',\n   'source': <AuthorSource.CO_AUTHORS_LIST: 'CO_AUTHORS_LIST'>,\n   'name': 'Seunghun Han',\n   'affiliation': 'Graduate Student at Harvard University'},\n  {'container_type': 'Author',\n   'filled': [],\n   'scholar_id': 'QozVkgoAAAAJ',\n   'source': <AuthorSource.CO_AUTHORS_LIST: 'CO_AUTHORS_LIST'>,\n   'name': 'Asael Roichman',\n   'affiliation': 'Postdoctoral research associate'},\n  {'container_type': 'Author',\n   'filled': [],\n   'scholar_id': 'wAoRV_AAAAAJ',\n   'source': <AuthorSource.CO_AUTHORS_LIST: 'CO_AUTHORS_LIST'>,\n   'name': 'Cliff Brangwynne',\n   'affiliation': \"June K. Wu 92' Professor of Engineering and Professor of Chemical and Biological\\xa0…\"},\n  {'container_type': 'Author',\n   'filled': [],\n   'scholar_id': 'Ond1g0oAAAAJ',\n   'source': <AuthorSource.CO_AUTHORS_LIST: 'CO_AUTHORS_LIST'>,\n   'name': 'Chirag K. Kumar',\n   'affiliation': 'Princeton University'},\n  {'container_type': 'Author',\n   'filled': [],\n   'scholar_id': 'rjSUt2UAAAAJ',\n   'source': <AuthorSource.CO_AUTHORS_LIST: 'CO_AUTHORS_LIST'>,\n   'name': 'Jesse Gatlin',\n   'affiliation': 'Professor of Molecular Biology, University of Wyoming'},\n  {'container_type': 'Author',\n   'filled': [],\n   'scholar_id': 'l-3Rz-AAAAAJ',\n   'source': <AuthorSource.CO_AUTHORS_LIST: 'CO_AUTHORS_LIST'>,\n   'name': 'Amanda A Amodeo',\n   'affiliation': 'Dartmouth College- Department of Biological Sciences'},\n  {'container_type': 'Author',\n   'filled': [],\n   'scholar_id': 'w5P0lFAAAAAJ',\n   'source': <AuthorSource.CO_AUTHORS_LIST: 'CO_AUTHORS_LIST'>,\n   'name': 'Jaime G. Lopez',\n   'affiliation': 'Postdoctoral Researcher, Stanford University'},\n  {'container_type': 'Author',\n   'filled': [],\n   'scholar_id': 'uMtJha0AAAAJ',\n   'source': <AuthorSource.CO_AUTHORS_LIST: 'CO_AUTHORS_LIST'>,\n   'name': 'Xi Xing',\n   'affiliation': 'Princeton University'},\n  {'container_type': 'Author',\n   'filled': [],\n   'scholar_id': '2X_ao7YAAAAJ',\n   'source': <AuthorSource.CO_AUTHORS_LIST: 'CO_AUTHORS_LIST'>,\n   'name': 'Xianfeng Zeng',\n   'affiliation': 'Princeton University'},\n  {'container_type': 'Author',\n   'filled': [],\n   'scholar_id': 'Wsdt99kAAAAJ',\n   'source': <AuthorSource.CO_AUTHORS_LIST: 'CO_AUTHORS_LIST'>,\n   'name': 'Cholsoon Jang',\n   'affiliation': 'University of California, Irvine'},\n  {'container_type': 'Author',\n   'filled': [],\n   'scholar_id': 'A_Fh1vgAAAAJ',\n   'source': <AuthorSource.CO_AUTHORS_LIST: 'CO_AUTHORS_LIST'>,\n   'name': 'Mohamed S. Donia',\n   'affiliation': 'Assistant Professor of Molecular Biology, Princeton University'},\n  {'container_type': 'Author',\n   'filled': [],\n   'scholar_id': '2IUWCD8AAAAJ',\n   'source': <AuthorSource.CO_AUTHORS_LIST: 'CO_AUTHORS_LIST'>,\n   'name': 'Michael Neinast',\n   'affiliation': 'Princeton University'},\n  {'container_type': 'Author',\n   'filled': [],\n   'scholar_id': 'jDdbJHcAAAAJ',\n   'source': <AuthorSource.CO_AUTHORS_LIST: 'CO_AUTHORS_LIST'>,\n   'name': 'Ned S. Wingreen',\n   'affiliation': 'Professor of Molecular Biology, Princeton University'},\n  {'container_type': 'Author',\n   'filled': [],\n   'scholar_id': 'Ez6WuocAAAAJ',\n   'source': <AuthorSource.CO_AUTHORS_LIST: 'CO_AUTHORS_LIST'>,\n   'name': 'Benjamin P Bratton',\n   'affiliation': 'Assistant Professor, Vanderbilt University Medical Center'},\n  {'container_type': 'Author',\n   'filled': [],\n   'scholar_id': 'KhvwKqIAAAAJ',\n   'source': <AuthorSource.CO_AUTHORS_LIST: 'CO_AUTHORS_LIST'>,\n   'name': 'Ying-Chiang Jeffrey Lee',\n   'affiliation': 'Graduate Student, Princeton University'},\n  {'container_type': 'Author',\n   'filled': [],\n   'scholar_id': 'Womm3OAAAAAJ',\n   'source': <AuthorSource.CO_AUTHORS_LIST: 'CO_AUTHORS_LIST'>,\n   'name': 'James F Pelletier',\n   'affiliation': 'Postdoc, Centro Nacional de Biotecnología'},\n  {'container_type': 'Author',\n   'filled': [],\n   'scholar_id': 'pDne8EQAAAAJ',\n   'source': <AuthorSource.CO_AUTHORS_LIST: 'CO_AUTHORS_LIST'>,\n   'name': 'A. James Link',\n   'affiliation': 'Professor of Chemical and Biological Engineering, Princeton University'},\n  {'container_type': 'Author',\n   'filled': [],\n   'scholar_id': 'R8waAy0AAAAJ',\n   'source': <AuthorSource.CO_AUTHORS_LIST: 'CO_AUTHORS_LIST'>,\n   'name': 'Huimin Zhao',\n   'affiliation': 'Steven L. Miller Chair of Chemical Engineering, University of Illinois at Urbana-Champaign'},\n  {'container_type': 'Author',\n   'filled': [],\n   'scholar_id': 'VA8Oiy8AAAAJ',\n   'source': <AuthorSource.CO_AUTHORS_LIST: 'CO_AUTHORS_LIST'>,\n   'name': 'Hoang V. Dinh',\n   'affiliation': 'Graduate student, Penn State'},\n  {'container_type': 'Author',\n   'filled': [],\n   'scholar_id': '7HEVdEgAAAAJ',\n   'source': <AuthorSource.CO_AUTHORS_LIST: 'CO_AUTHORS_LIST'>,\n   'name': 'Daniel Robert Weilandt',\n   'affiliation': 'EPFL'},\n  {'container_type': 'Author',\n   'filled': [],\n   'scholar_id': 'l3M1PW0AAAAJ',\n   'source': <AuthorSource.CO_AUTHORS_LIST: 'CO_AUTHORS_LIST'>,\n   'name': 'Costas D. Maranas',\n   'affiliation': 'Donald B. Broughton Professor of Chemical Engineering, Penn State University'},\n  {'container_type': 'Author',\n   'filled': [],\n   'scholar_id': 'Z62nOXEAAAAJ',\n   'source': <AuthorSource.CO_AUTHORS_LIST: 'CO_AUTHORS_LIST'>,\n   'name': 'Zia Fatma',\n   'affiliation': 'Senior Scientist, Ginkgo Bioworks'},\n  {'container_type': 'Author',\n   'filled': [],\n   'scholar_id': 'plmL-HEAAAAJ',\n   'source': <AuthorSource.CO_AUTHORS_LIST: 'CO_AUTHORS_LIST'>,\n   'name': 'Yasuo Yoshikuni',\n   'affiliation': 'DOE Joint Genome Institute'},\n  {'container_type': 'Author',\n   'filled': [],\n   'scholar_id': 'wG4cmpIAAAAJ',\n   'source': <AuthorSource.CO_AUTHORS_LIST: 'CO_AUTHORS_LIST'>,\n   'name': 'Yihui Shen',\n   'affiliation': 'Postdoctoral Reseacher, Lewis-Sigler Institute, Princeton University'},\n  {'container_type': 'Author',\n   'filled': [],\n   'scholar_id': 'cRXu4dUAAAAJ',\n   'source': <AuthorSource.CO_AUTHORS_LIST: 'CO_AUTHORS_LIST'>,\n   'name': 'Vinh Tran',\n   'affiliation': 'University of Illinois at Urbana-Champaign'},\n  {'container_type': 'Author',\n   'filled': [],\n   'scholar_id': 'k6IpLtcAAAAJ',\n   'source': <AuthorSource.CO_AUTHORS_LIST: 'CO_AUTHORS_LIST'>,\n   'name': 'Woong Kim',\n   'affiliation': 'Alkahest Inc'},\n  {'container_type': 'Author',\n   'filled': [],\n   'scholar_id': 'JVSWmhoAAAAJ',\n   'source': <AuthorSource.CO_AUTHORS_LIST: 'CO_AUTHORS_LIST'>,\n   'name': 'Dr. Yury O. Tsybin',\n   'affiliation': 'CEO, Spectroswiss Sàrl'},\n  {'container_type': 'Author',\n   'filled': [],\n   'scholar_id': 'nW8ut7wAAAAJ',\n   'source': <AuthorSource.CO_AUTHORS_LIST: 'CO_AUTHORS_LIST'>,\n   'name': 'Nagornov Konstantin',\n   'affiliation': 'Spectroswiss'},\n  {'container_type': 'Author',\n   'filled': [],\n   'scholar_id': 'AOYsDhsAAAAJ',\n   'source': <AuthorSource.CO_AUTHORS_LIST: 'CO_AUTHORS_LIST'>,\n   'name': 'Claire McWhite',\n   'affiliation': 'Princeton University'},\n  {'container_type': 'Author',\n   'filled': [],\n   'scholar_id': 'B6Y4Q1MAAAAJ',\n   'source': <AuthorSource.CO_AUTHORS_LIST: 'CO_AUTHORS_LIST'>,\n   'name': 'Martin Jonikas',\n   'affiliation': 'Princeton University and Howard Hughes Medical Institute'},\n  {'container_type': 'Author',\n   'filled': [],\n   'scholar_id': 'Niyx8-wAAAAJ',\n   'source': <AuthorSource.CO_AUTHORS_LIST: 'CO_AUTHORS_LIST'>,\n   'name': 'Alexandra Reis',\n   'affiliation': 'Universidade do Algarve'},\n  {'container_type': 'Author',\n   'filled': [],\n   'scholar_id': 'fFklRzAAAAAJ',\n   'source': <AuthorSource.CO_AUTHORS_LIST: 'CO_AUTHORS_LIST'>,\n   'name': 'Marc Presler',\n   'affiliation': 'Applied BioMath'},\n  {'container_type': 'Author',\n   'filled': [],\n   'scholar_id': '-NxdbEYAAAAJ',\n   'source': <AuthorSource.CO_AUTHORS_LIST: 'CO_AUTHORS_LIST'>,\n   'name': 'Thao Nguyen',\n   'affiliation': 'Ph.D. Graduate Researcher'},\n  {'container_type': 'Author',\n   'filled': [],\n   'scholar_id': 'xh2D5RUAAAAJ',\n   'source': <AuthorSource.CO_AUTHORS_LIST: 'CO_AUTHORS_LIST'>,\n   'name': 'Hendrik Schroeder',\n   'affiliation': ''}],\n 'publications': [{'container_type': 'Publication',\n   'source': <PublicationSource.AUTHOR_PUBLICATION_ENTRY: 'AUTHOR_PUBLICATION_ENTRY'>,\n   'bib': {'title': 'The BioPlex network: a systematic exploration of the human interactome',\n    'pub_year': '2015',\n    'citation': 'Cell 162 (2), 425-440, 2015'},\n   'filled': False,\n   'author_pub_id': 'ZliYSzgAAAAJ:8k81kl-MbHgC',\n   'num_citations': 1189,\n   'citedby_url': 'https://scholar.google.com/scholar?oi=bibs&hl=en&cites=1096314107730565507',\n   'cites_id': ['1096314107730565507']},\n  {'container_type': 'Publication',\n   'source': <PublicationSource.AUTHOR_PUBLICATION_ENTRY: 'AUTHOR_PUBLICATION_ENTRY'>,\n   'bib': {'title': 'MultiNotch MS3 enables accurate, sensitive, and multiplexed detection of differential expression across cancer cell line proteomes',\n    'pub_year': '2014',\n    'citation': 'Analytical chemistry 86 (14), 7150-7158, 2014'},\n   'filled': False,\n   'author_pub_id': 'ZliYSzgAAAAJ:_FxGoFyzp5QC',\n   'num_citations': 942,\n   'citedby_url': 'https://scholar.google.com/scholar?oi=bibs&hl=en&cites=14774426480145536341',\n   'cites_id': ['14774426480145536341']},\n  {'container_type': 'Publication',\n   'source': <PublicationSource.AUTHOR_PUBLICATION_ENTRY: 'AUTHOR_PUBLICATION_ENTRY'>,\n   'bib': {'title': 'Amyloid-like self-assembly of a cellular compartment',\n    'pub_year': '2016',\n    'citation': 'Cell 166 (3), 637-650, 2016'},\n   'filled': False,\n   'author_pub_id': 'ZliYSzgAAAAJ:_kc_bZDykSQC',\n   'num_citations': 288,\n   'citedby_url': 'https://scholar.google.com/scholar?oi=bibs&hl=en&cites=6697149724786872953',\n   'cites_id': ['6697149724786872953']},\n  {'container_type': 'Publication',\n   'source': <PublicationSource.AUTHOR_PUBLICATION_ENTRY: 'AUTHOR_PUBLICATION_ENTRY'>,\n   'bib': {'title': 'Degradation of the BAF complex factor BRD9 by heterobifunctional ligands',\n    'pub_year': '2017',\n    'citation': 'Angewandte Chemie International Edition 56 (21), 5738-5743, 2017'},\n   'filled': False,\n   'author_pub_id': 'ZliYSzgAAAAJ:GJVTs2krol4C',\n   'num_citations': 223,\n   'citedby_url': 'https://scholar.google.com/scholar?oi=bibs&hl=en&cites=11503550665213908350',\n   'cites_id': ['11503550665213908350']},\n  {'container_type': 'Publication',\n   'source': <PublicationSource.AUTHOR_PUBLICATION_ENTRY: 'AUTHOR_PUBLICATION_ENTRY'>,\n   'bib': {'title': 'Deep proteomics of the Xenopus laevis egg using an mRNA-derived reference database',\n    'pub_year': '2014',\n    'citation': 'Current biology 24 (13), 1467-1475, 2014'},\n   'filled': False,\n   'author_pub_id': 'ZliYSzgAAAAJ:zYLM7Y9cAGgC',\n   'num_citations': 223,\n   'citedby_url': 'https://scholar.google.com/scholar?oi=bibs&hl=en&cites=8243151790203318424,2951239221814655477',\n   'cites_id': ['8243151790203318424', '2951239221814655477']},\n  {'container_type': 'Publication',\n   'source': <PublicationSource.AUTHOR_PUBLICATION_ENTRY: 'AUTHOR_PUBLICATION_ENTRY'>,\n   'bib': {'title': 'Evidence for an upper limit to mitotic spindle length',\n    'pub_year': '2008',\n    'citation': 'Current Biology 18 (16), 1256-1261, 2008'},\n   'filled': False,\n   'author_pub_id': 'ZliYSzgAAAAJ:u5HHmVD_uO8C',\n   'num_citations': 202,\n   'citedby_url': 'https://scholar.google.com/scholar?oi=bibs&hl=en&cites=5997606074169942710',\n   'cites_id': ['5997606074169942710']},\n  {'container_type': 'Publication',\n   'source': <PublicationSource.AUTHOR_PUBLICATION_ENTRY: 'AUTHOR_PUBLICATION_ENTRY'>,\n   'bib': {'title': 'On the relationship of protein and mRNA dynamics in vertebrate embryonic development',\n    'pub_year': '2015',\n    'citation': 'Developmental cell 35 (3), 383-394, 2015'},\n   'filled': False,\n   'author_pub_id': 'ZliYSzgAAAAJ:ULOm3_A8WrAC',\n   'num_citations': 184,\n   'citedby_url': 'https://scholar.google.com/scholar?oi=bibs&hl=en&cites=864287144123861965,9317619049315232034',\n   'cites_id': ['864287144123861965', '9317619049315232034']},\n  {'container_type': 'Publication',\n   'source': <PublicationSource.AUTHOR_PUBLICATION_ENTRY: 'AUTHOR_PUBLICATION_ENTRY'>,\n   'bib': {'title': 'A review on quantitative multiplexed proteomics',\n    'pub_year': '2019',\n    'citation': 'Chembiochem 20 (10), 1210-1224, 2019'},\n   'filled': False,\n   'author_pub_id': 'ZliYSzgAAAAJ:It0W0vAlS5QC',\n   'num_citations': 181,\n   'citedby_url': 'https://scholar.google.com/scholar?oi=bibs&hl=en&cites=7562502211111599826',\n   'cites_id': ['7562502211111599826']},\n  {'container_type': 'Publication',\n   'source': <PublicationSource.AUTHOR_PUBLICATION_ENTRY: 'AUTHOR_PUBLICATION_ENTRY'>,\n   'bib': {'title': 'A model for cleavage plane determination in early amphibian and fish embryos',\n    'pub_year': '2010',\n    'citation': 'Current Biology 20 (22), 2040-2045, 2010'},\n   'filled': False,\n   'author_pub_id': 'ZliYSzgAAAAJ:d1gkVwhDpl0C',\n   'num_citations': 181,\n   'citedby_url': 'https://scholar.google.com/scholar?oi=bibs&hl=en&cites=12675985504792803157',\n   'cites_id': ['12675985504792803157']},\n  {'container_type': 'Publication',\n   'source': <PublicationSource.AUTHOR_PUBLICATION_ENTRY: 'AUTHOR_PUBLICATION_ENTRY'>,\n   'bib': {'title': 'Accurate multiplexed proteomics at the MS2 level using the complement reporter ion cluster',\n    'pub_year': '2012',\n    'citation': 'Analytical chemistry 84 (21), 9214-9221, 2012'},\n   'filled': False,\n   'author_pub_id': 'ZliYSzgAAAAJ:ufrVoPGSRksC',\n   'num_citations': 143,\n   'citedby_url': 'https://scholar.google.com/scholar?oi=bibs&hl=en&cites=13828105096667486998',\n   'cites_id': ['13828105096667486998']},\n  {'container_type': 'Publication',\n   'source': <PublicationSource.AUTHOR_PUBLICATION_ENTRY: 'AUTHOR_PUBLICATION_ENTRY'>,\n   'bib': {'title': 'The nuclear proteome of a vertebrate',\n    'pub_year': '2015',\n    'citation': 'Current biology 25 (20), 2663-2671, 2015'},\n   'filled': False,\n   'author_pub_id': 'ZliYSzgAAAAJ:KlAtU1dfN6UC',\n   'num_citations': 125,\n   'citedby_url': 'https://scholar.google.com/scholar?oi=bibs&hl=en&cites=11736423236380184336,17557336327739712381,18344280005893916824,4014139967250883067',\n   'cites_id': ['11736423236380184336',\n    '17557336327739712381',\n    '18344280005893916824',\n    '4014139967250883067']},\n  {'container_type': 'Publication',\n   'source': <PublicationSource.AUTHOR_PUBLICATION_ENTRY: 'AUTHOR_PUBLICATION_ENTRY'>,\n   'bib': {'title': 'A strategy to combine sample multiplexing with targeted proteomics assays for high-throughput protein signature characterization',\n    'pub_year': '2017',\n    'citation': 'Molecular cell 65 (2), 361-370, 2017'},\n   'filled': False,\n   'author_pub_id': 'ZliYSzgAAAAJ:LWqeokA2EBkC',\n   'num_citations': 109,\n   'citedby_url': 'https://scholar.google.com/scholar?oi=bibs&hl=en&cites=3562560223001549853',\n   'cites_id': ['3562560223001549853']},\n  {'container_type': 'Publication',\n   'source': <PublicationSource.AUTHOR_PUBLICATION_ENTRY: 'AUTHOR_PUBLICATION_ENTRY'>,\n   'bib': {'title': 'Spatial organization of cytokinesis signaling reconstituted in a cell-free system',\n    'pub_year': '2014',\n    'citation': 'Science 346 (6206), 244-247, 2014'},\n   'filled': False,\n   'author_pub_id': 'ZliYSzgAAAAJ:roLk4NBRz8UC',\n   'num_citations': 104,\n   'citedby_url': 'https://scholar.google.com/scholar?oi=bibs&hl=en&cites=1655923009770061859,8463145136355319450',\n   'cites_id': ['1655923009770061859', '8463145136355319450']},\n  {'container_type': 'Publication',\n   'source': <PublicationSource.AUTHOR_PUBLICATION_ENTRY: 'AUTHOR_PUBLICATION_ENTRY'>,\n   'bib': {'title': 'The activation mechanism of Hsp26 does not require dissociation of the oligomer',\n    'pub_year': '2005',\n    'citation': 'Journal of molecular biology 350 (5), 1083-1093, 2005'},\n   'filled': False,\n   'author_pub_id': 'ZliYSzgAAAAJ:u-x6o8ySG0sC',\n   'num_citations': 102,\n   'citedby_url': 'https://scholar.google.com/scholar?oi=bibs&hl=en&cites=2888821505310566020',\n   'cites_id': ['2888821505310566020']},\n  {'container_type': 'Publication',\n   'source': <PublicationSource.AUTHOR_PUBLICATION_ENTRY: 'AUTHOR_PUBLICATION_ENTRY'>,\n   'bib': {'title': 'How does a millimeter-sized cell find its center?',\n    'pub_year': '2009',\n    'citation': 'Cell cycle 8 (8), 1115-1121, 2009'},\n   'filled': False,\n   'author_pub_id': 'ZliYSzgAAAAJ:2osOgNQ5qMEC',\n   'num_citations': 99,\n   'citedby_url': 'https://scholar.google.com/scholar?oi=bibs&hl=en&cites=1250759907957449629',\n   'cites_id': ['1250759907957449629']},\n  {'container_type': 'Publication',\n   'source': <PublicationSource.AUTHOR_PUBLICATION_ENTRY: 'AUTHOR_PUBLICATION_ENTRY'>,\n   'bib': {'title': 'Growth, interaction, and positioning of microtubule asters in extremely large vertebrate embryo cells',\n    'pub_year': '2012',\n    'citation': 'Cytoskeleton 69 (10), 738-750, 2012'},\n   'filled': False,\n   'author_pub_id': 'ZliYSzgAAAAJ:UeHWp8X0CEIC',\n   'num_citations': 85,\n   'citedby_url': 'https://scholar.google.com/scholar?oi=bibs&hl=en&cites=6814082356692452412',\n   'cites_id': ['6814082356692452412']},\n  {'container_type': 'Publication',\n   'source': <PublicationSource.AUTHOR_PUBLICATION_ENTRY: 'AUTHOR_PUBLICATION_ENTRY'>,\n   'bib': {'title': 'Accurate, Sensitive, and Precise Multiplexed Proteomics Using the Complement Reporter Ion Cluster',\n    'pub_year': '2018',\n    'citation': 'Analytical Chemistry, 2018'},\n   'filled': False,\n   'author_pub_id': 'ZliYSzgAAAAJ:NZNkWSpQBv0C',\n   'num_citations': 74,\n   'citedby_url': 'https://scholar.google.com/scholar?oi=bibs&hl=en&cites=5333081284473457503',\n   'cites_id': ['5333081284473457503']},\n  {'container_type': 'Publication',\n   'source': <PublicationSource.AUTHOR_PUBLICATION_ENTRY: 'AUTHOR_PUBLICATION_ENTRY'>,\n   'bib': {'title': 'Essential CDK1-inhibitory role for separase during meiosis I in vertebrate oocytes',\n    'pub_year': '2006',\n    'citation': 'Nature cell biology 8 (9), 1035-1037, 2006'},\n   'filled': False,\n   'author_pub_id': 'ZliYSzgAAAAJ:9yKSN-GCB0IC',\n   'num_citations': 72,\n   'citedby_url': 'https://scholar.google.com/scholar?oi=bibs&hl=en&cites=4584585987093895697',\n   'cites_id': ['4584585987093895697']},\n  {'container_type': 'Publication',\n   'source': <PublicationSource.AUTHOR_PUBLICATION_ENTRY: 'AUTHOR_PUBLICATION_ENTRY'>,\n   'bib': {'title': 'Proteotoxicity from aberrant ribosome biogenesis compromises cell fitness',\n    'pub_year': '2019',\n    'citation': 'elife 8, e43002, 2019'},\n   'filled': False,\n   'author_pub_id': 'ZliYSzgAAAAJ:v_xunPV0uK0C',\n   'num_citations': 71,\n   'citedby_url': 'https://scholar.google.com/scholar?oi=bibs&hl=en&cites=16553022801699849402,3251290920852667193',\n   'cites_id': ['16553022801699849402', '3251290920852667193']},\n  {'container_type': 'Publication',\n   'source': <PublicationSource.AUTHOR_PUBLICATION_ENTRY: 'AUTHOR_PUBLICATION_ENTRY'>,\n   'bib': {'title': 'Actin behavior in bulk cytoplasm is cell cycle regulated in early vertebrate embryos',\n    'pub_year': '2011',\n    'citation': 'Journal of Cell Science 124 (12), 2086-2095, 2011'},\n   'filled': False,\n   'author_pub_id': 'ZliYSzgAAAAJ:qjMakFHDy7sC',\n   'num_citations': 68,\n   'citedby_url': 'https://scholar.google.com/scholar?oi=bibs&hl=en&cites=13610998069251241730',\n   'cites_id': ['13610998069251241730']},\n  {'container_type': 'Publication',\n   'source': <PublicationSource.AUTHOR_PUBLICATION_ENTRY: 'AUTHOR_PUBLICATION_ENTRY'>,\n   'bib': {'title': 'Generic theoretical models to predict division patterns of cleaving embryos',\n    'pub_year': '2016',\n    'citation': 'Developmental cell 39 (6), 667-682, 2016'},\n   'filled': False,\n   'author_pub_id': 'ZliYSzgAAAAJ:vxA22ZmNLkoC',\n   'num_citations': 54,\n   'citedby_url': 'https://scholar.google.com/scholar?oi=bibs&hl=en&cites=7441999237086494107',\n   'cites_id': ['7441999237086494107']},\n  {'container_type': 'Publication',\n   'source': <PublicationSource.AUTHOR_PUBLICATION_ENTRY: 'AUTHOR_PUBLICATION_ENTRY'>,\n   'bib': {'title': 'Proteomics of phosphorylation and protein dynamics during fertilization and meiotic exit in the Xenopus egg',\n    'pub_year': '2017',\n    'citation': 'Proceedings of the National Academy of Sciences 114 (50), E10838–E10847, 2017'},\n   'filled': False,\n   'author_pub_id': 'ZliYSzgAAAAJ:mVC4hKzE2FoC',\n   'num_citations': 45,\n   'citedby_url': 'https://scholar.google.com/scholar?oi=bibs&hl=en&cites=57372497373001547,11171973312045372657',\n   'cites_id': ['57372497373001547', '11171973312045372657']},\n  {'container_type': 'Publication',\n   'source': <PublicationSource.AUTHOR_PUBLICATION_ENTRY: 'AUTHOR_PUBLICATION_ENTRY'>,\n   'bib': {'title': 'Generation of multiple reporter ions from a single isobaric reagent increases multiplexing capacity for quantitative proteomics',\n    'pub_year': '2015',\n    'citation': 'Analytical chemistry 87 (19), 9855-9863, 2015'},\n   'filled': False,\n   'author_pub_id': 'ZliYSzgAAAAJ:kNdYIx-mwKoC',\n   'num_citations': 40,\n   'citedby_url': 'https://scholar.google.com/scholar?oi=bibs&hl=en&cites=5427896595664795543',\n   'cites_id': ['5427896595664795543']},\n  {'container_type': 'Publication',\n   'source': <PublicationSource.AUTHOR_PUBLICATION_ENTRY: 'AUTHOR_PUBLICATION_ENTRY'>,\n   'bib': {'title': 'Organization of early frog embryos by chemical waves emanating from centrosomes',\n    'pub_year': '2014',\n    'citation': 'Philosophical Transactions of the Royal Society B: Biological Sciences 369\\xa0…, 2014'},\n   'filled': False,\n   'author_pub_id': 'ZliYSzgAAAAJ:Y0pCki6q_DkC',\n   'num_citations': 39,\n   'citedby_url': 'https://scholar.google.com/scholar?oi=bibs&hl=en&cites=14379848690392296011',\n   'cites_id': ['14379848690392296011']},\n  {'container_type': 'Publication',\n   'source': <PublicationSource.AUTHOR_PUBLICATION_ENTRY: 'AUTHOR_PUBLICATION_ENTRY'>,\n   'bib': {'title': 'Size scaling of microtubule assemblies in early Xenopus embryos',\n    'pub_year': '2015',\n    'citation': 'Cold Spring Harbor perspectives in biology 7 (10), a019182, 2015'},\n   'filled': False,\n   'author_pub_id': 'ZliYSzgAAAAJ:MXK_kJrjxJIC',\n   'num_citations': 32,\n   'citedby_url': 'https://scholar.google.com/scholar?oi=bibs&hl=en&cites=5472017516004854214',\n   'cites_id': ['5472017516004854214']},\n  {'container_type': 'Publication',\n   'source': <PublicationSource.AUTHOR_PUBLICATION_ENTRY: 'AUTHOR_PUBLICATION_ENTRY'>,\n   'bib': {'title': 'Evaluating the Arrhenius equation for developmental processes',\n    'pub_year': '2021',\n    'citation': 'Molecular Systems Biology, 2021'},\n   'filled': False,\n   'author_pub_id': 'ZliYSzgAAAAJ:cF7EPgIk0B4C',\n   'num_citations': 26,\n   'citedby_url': 'https://scholar.google.com/scholar?oi=bibs&hl=en&cites=11687941533825671331',\n   'cites_id': ['11687941533825671331']},\n  {'container_type': 'Publication',\n   'source': <PublicationSource.AUTHOR_PUBLICATION_ENTRY: 'AUTHOR_PUBLICATION_ENTRY'>,\n   'bib': {'title': 'The Synthetic Phenotype of ΔbamB ΔbamE Double Mutants Results from a Lethal Jamming of the Bam Complex by the Lipoprotein RcsF',\n    'pub_year': '2019',\n    'citation': 'MBio 10 (3), e00662-19, 2019'},\n   'filled': False,\n   'author_pub_id': 'ZliYSzgAAAAJ:eAUscmXIlQ8C',\n   'num_citations': 26,\n   'citedby_url': 'https://scholar.google.com/scholar?oi=bibs&hl=en&cites=16923670723961466730',\n   'cites_id': ['16923670723961466730']},\n  {'container_type': 'Publication',\n   'source': <PublicationSource.AUTHOR_PUBLICATION_ENTRY: 'AUTHOR_PUBLICATION_ENTRY'>,\n   'bib': {'title': 'Live imaging of the cytoskeleton in early cleavage-stage zebrafish embryos',\n    'pub_year': '2011',\n    'citation': 'Methods Cell Biol, 2011'},\n   'filled': False,\n   'author_pub_id': 'ZliYSzgAAAAJ:LkGwnXOMwfcC',\n   'num_citations': 26,\n   'citedby_url': 'https://scholar.google.com/scholar?oi=bibs&hl=en&cites=4040083469054503555',\n   'cites_id': ['4040083469054503555']},\n  {'container_type': 'Publication',\n   'source': <PublicationSource.AUTHOR_PUBLICATION_ENTRY: 'AUTHOR_PUBLICATION_ENTRY'>,\n   'bib': {'title': 'Quantitative Proteomics of Xenopus Embryos I, Sample Preparation',\n    'pub_year': '2018',\n    'citation': 'Xenopus, 175-194, 2018'},\n   'filled': False,\n   'author_pub_id': 'ZliYSzgAAAAJ:HqhvjgTjE9cC',\n   'num_citations': 25,\n   'citedby_url': 'https://scholar.google.com/scholar?oi=bibs&hl=en&cites=13842278913245835176',\n   'cites_id': ['13842278913245835176']},\n  {'container_type': 'Publication',\n   'source': <PublicationSource.AUTHOR_PUBLICATION_ENTRY: 'AUTHOR_PUBLICATION_ENTRY'>,\n   'bib': {'title': 'Precise temporal regulation of post-transcriptional repressors is required for an orderly Drosophila maternal-to-zygotic transition',\n    'pub_year': '2020',\n    'citation': 'Cell Reports 31 (12), 107783, 2020'},\n   'filled': False,\n   'author_pub_id': 'ZliYSzgAAAAJ:xa5BkEQK8BgC',\n   'num_citations': 24,\n   'citedby_url': 'https://scholar.google.com/scholar?oi=bibs&hl=en&cites=14473598194866430372',\n   'cites_id': ['14473598194866430372']},\n  {'container_type': 'Publication',\n   'source': <PublicationSource.AUTHOR_PUBLICATION_ENTRY: 'AUTHOR_PUBLICATION_ENTRY'>,\n   'bib': {'title': 'A sulfoxide‐based isobaric labelling reagent for accurate quantitative mass spectrometry',\n    'pub_year': '2018',\n    'citation': 'Angewandte Chemie International Edition, 2018'},\n   'filled': False,\n   'author_pub_id': 'ZliYSzgAAAAJ:u0Mu_IsstPMC',\n   'num_citations': 22,\n   'citedby_url': 'https://scholar.google.com/scholar?oi=bibs&hl=en&cites=8114007401940173073,5453006294575154436',\n   'cites_id': ['8114007401940173073', '5453006294575154436']},\n  {'container_type': 'Publication',\n   'source': <PublicationSource.AUTHOR_PUBLICATION_ENTRY: 'AUTHOR_PUBLICATION_ENTRY'>,\n   'bib': {'title': 'Vertebrate embryonic cleavage pattern determination',\n    'pub_year': '2017',\n    'citation': 'Vertebrate Development, 117-171, 2017'},\n   'filled': False,\n   'author_pub_id': 'ZliYSzgAAAAJ:adHtZc2wMuEC',\n   'num_citations': 22,\n   'citedby_url': 'https://scholar.google.com/scholar?oi=bibs&hl=en&cites=7265766025341374064',\n   'cites_id': ['7265766025341374064']},\n  {'container_type': 'Publication',\n   'source': <PublicationSource.AUTHOR_PUBLICATION_ENTRY: 'AUTHOR_PUBLICATION_ENTRY'>,\n   'bib': {'title': 'Multi-omic analyses provide links between low-dose antibiotic treatment and induction of secondary metabolism in Burkholderia thailandensis',\n    'pub_year': '2020',\n    'citation': 'MBio 11 (1), e03210-19, 2020'},\n   'filled': False,\n   'author_pub_id': 'ZliYSzgAAAAJ:urP0JZOBBUsC',\n   'num_citations': 20,\n   'citedby_url': 'https://scholar.google.com/scholar?oi=bibs&hl=en&cites=1911327965410902577',\n   'cites_id': ['1911327965410902577']},\n  {'container_type': 'Publication',\n   'source': <PublicationSource.AUTHOR_PUBLICATION_ENTRY: 'AUTHOR_PUBLICATION_ENTRY'>,\n   'bib': {'title': 'Bayesian Confidence Intervals for Multiplexed Proteomics Integrate Ion-Statistics with Peptide Quantification Concordance',\n    'pub_year': '2019',\n    'citation': 'Molecular & Cellular Proteomics, 2019'},\n   'filled': False,\n   'author_pub_id': 'ZliYSzgAAAAJ:ybfzIt2tCtgC',\n   'num_citations': 19,\n   'citedby_url': 'https://scholar.google.com/scholar?oi=bibs&hl=en&cites=16476757291113087790',\n   'cites_id': ['16476757291113087790']},\n  {'container_type': 'Publication',\n   'source': <PublicationSource.AUTHOR_PUBLICATION_ENTRY: 'AUTHOR_PUBLICATION_ENTRY'>,\n   'bib': {'title': 'Activity-based RNA-modifying enzyme probing reveals DUS3L-mediated dihydrouridylation',\n    'pub_year': '2021',\n    'citation': 'Nature chemical biology 17 (11), 1178-1187, 2021'},\n   'filled': False,\n   'author_pub_id': 'ZliYSzgAAAAJ:VjBpw8Hezy4C',\n   'num_citations': 18,\n   'citedby_url': 'https://scholar.google.com/scholar?oi=bibs&hl=en&cites=3801796767431289749',\n   'cites_id': ['3801796767431289749']},\n  {'container_type': 'Publication',\n   'source': <PublicationSource.AUTHOR_PUBLICATION_ENTRY: 'AUTHOR_PUBLICATION_ENTRY'>,\n   'bib': {'title': 'Transitions in the proteome and phospho-proteome during Xenopus laevis development',\n    'pub_year': '2021',\n    'citation': 'bioRxiv, 2021'},\n   'filled': False,\n   'author_pub_id': 'ZliYSzgAAAAJ:rpSJNIKeXWsC',\n   'num_citations': 17,\n   'citedby_url': 'https://scholar.google.com/scholar?oi=bibs&hl=en&cites=3146308749739735655,2676960462956528159',\n   'cites_id': ['3146308749739735655', '2676960462956528159']},\n  {'container_type': 'Publication',\n   'source': <PublicationSource.AUTHOR_PUBLICATION_ENTRY: 'AUTHOR_PUBLICATION_ENTRY'>,\n   'bib': {'title': 'Mitosis: new roles for myosin-X and actin at the spindle',\n    'pub_year': '2008',\n    'citation': 'Current biology 18 (19), R912-R914, 2008'},\n   'filled': False,\n   'author_pub_id': 'ZliYSzgAAAAJ:IjCSPb-OGe4C',\n   'num_citations': 17,\n   'citedby_url': 'https://scholar.google.com/scholar?oi=bibs&hl=en&cites=7028798618468573920',\n   'cites_id': ['7028798618468573920']},\n  {'container_type': 'Publication',\n   'source': <PublicationSource.AUTHOR_PUBLICATION_ENTRY: 'AUTHOR_PUBLICATION_ENTRY'>,\n   'bib': {'title': 'The gain-of-function allele bamAE470K bypasses the essential requirement for BamD in β-barrel outer membrane protein assembly',\n    'pub_year': '2020',\n    'citation': 'Proceedings of the National Academy of Sciences 117 (31), 18737-18743, 2020'},\n   'filled': False,\n   'author_pub_id': 'ZliYSzgAAAAJ:1xBWf43XMUgC',\n   'num_citations': 15,\n   'citedby_url': 'https://scholar.google.com/scholar?oi=bibs&hl=en&cites=4697465619496478654',\n   'cites_id': ['4697465619496478654']},\n  {'container_type': 'Publication',\n   'source': <PublicationSource.AUTHOR_PUBLICATION_ENTRY: 'AUTHOR_PUBLICATION_ENTRY'>,\n   'bib': {'title': 'Accurate and interference-free multiplexed quantitative proteomics using mass spectrometry',\n    'pub_year': '2018',\n    'citation': 'US Patent 10,145,818, 2018'},\n   'filled': False,\n   'author_pub_id': 'ZliYSzgAAAAJ:wkm4DBaukwsC',\n   'num_citations': 13,\n   'citedby_url': 'https://scholar.google.com/scholar?oi=bibs&hl=en&cites=13254622330502121558,10496858884343900001',\n   'cites_id': ['13254622330502121558', '10496858884343900001']},\n  {'container_type': 'Publication',\n   'source': <PublicationSource.AUTHOR_PUBLICATION_ENTRY: 'AUTHOR_PUBLICATION_ENTRY'>,\n   'bib': {'title': 'Proteomics of nucleocytoplasmic partitioning',\n    'pub_year': '2019',\n    'citation': 'Current opinion in chemical biology 48, 55-63, 2019'},\n   'filled': False,\n   'author_pub_id': 'ZliYSzgAAAAJ:iKswqCX-FLkC',\n   'num_citations': 12,\n   'citedby_url': 'https://scholar.google.com/scholar?oi=bibs&hl=en&cites=11825459884640553294',\n   'cites_id': ['11825459884640553294']},\n  {'container_type': 'Publication',\n   'source': <PublicationSource.AUTHOR_PUBLICATION_ENTRY: 'AUTHOR_PUBLICATION_ENTRY'>,\n   'bib': {'title': 'Quantitative Proteomics of Xenopus Embryos II, Data Analysis',\n    'pub_year': '2018',\n    'citation': 'Xenopus, 195-215, 2018'},\n   'filled': False,\n   'author_pub_id': 'ZliYSzgAAAAJ:I9gX6wnfuA8C',\n   'num_citations': 11,\n   'citedby_url': 'https://scholar.google.com/scholar?oi=bibs&hl=en&cites=2833639952280281934',\n   'cites_id': ['2833639952280281934']},\n  {'container_type': 'Publication',\n   'source': <PublicationSource.AUTHOR_PUBLICATION_ENTRY: 'AUTHOR_PUBLICATION_ENTRY'>,\n   'bib': {'title': 'TMTpro Complementary Ion Quantification Increases Plexing and Sensitivity for Accurate Multiplexed Proteomics at the MS2 Level',\n    'pub_year': '2021',\n    'citation': 'Journal of Proteome Research, 2021'},\n   'filled': False,\n   'author_pub_id': 'ZliYSzgAAAAJ:u_mOZUIutIEC',\n   'num_citations': 10,\n   'citedby_url': 'https://scholar.google.com/scholar?oi=bibs&hl=en&cites=2232136508494756388',\n   'cites_id': ['2232136508494756388']},\n  {'container_type': 'Publication',\n   'source': <PublicationSource.AUTHOR_PUBLICATION_ENTRY: 'AUTHOR_PUBLICATION_ENTRY'>,\n   'bib': {'title': 'Inference of Multisite Phosphorylation Rate Constants and their Modulation via Pathogenic Mutations',\n    'pub_year': '2020',\n    'citation': 'Current Biology, 2020'},\n   'filled': False,\n   'author_pub_id': 'ZliYSzgAAAAJ:ZysSsiWj_g4C',\n   'num_citations': 9,\n   'citedby_url': 'https://scholar.google.com/scholar?oi=bibs&hl=en&cites=15852619330699181585,9198035816279404285',\n   'cites_id': ['15852619330699181585', '9198035816279404285']},\n  {'container_type': 'Publication',\n   'source': <PublicationSource.AUTHOR_PUBLICATION_ENTRY: 'AUTHOR_PUBLICATION_ENTRY'>,\n   'bib': {'title': 'A Click‐Chemistry‐Based Enrichable Crosslinker for Structural and Protein Interaction Analysis by Mass Spectrometry',\n    'pub_year': '2020',\n    'citation': 'ChemBioChem 21 (1-2), 103-107, 2020'},\n   'filled': False,\n   'author_pub_id': 'ZliYSzgAAAAJ:vD2iS2Kej30C',\n   'num_citations': 9,\n   'citedby_url': 'https://scholar.google.com/scholar?oi=bibs&hl=en&cites=2332580640763298289',\n   'cites_id': ['2332580640763298289']},\n  {'container_type': 'Publication',\n   'source': <PublicationSource.AUTHOR_PUBLICATION_ENTRY: 'AUTHOR_PUBLICATION_ENTRY'>,\n   'bib': {'title': 'GCN2 adapts protein synthesis to scavenging-dependent growth',\n    'pub_year': '2022',\n    'citation': 'Cell Systems 13 (2), 158-172. e9, 2022'},\n   'filled': False,\n   'author_pub_id': 'ZliYSzgAAAAJ:DGzKIA18-3YC',\n   'num_citations': 6,\n   'citedby_url': 'https://scholar.google.com/scholar?oi=bibs&hl=en&cites=17240895392807247080',\n   'cites_id': ['17240895392807247080']},\n  {'container_type': 'Publication',\n   'source': <PublicationSource.AUTHOR_PUBLICATION_ENTRY: 'AUTHOR_PUBLICATION_ENTRY'>,\n   'bib': {'title': 'Evidence for widespread cytoplasmic structuring into mesoscopic condensates',\n    'pub_year': '2021',\n    'citation': 'bioRxiv, 2021'},\n   'filled': False,\n   'author_pub_id': 'ZliYSzgAAAAJ:5rMqqAh47xYC',\n   'num_citations': 5,\n   'citedby_url': 'https://scholar.google.com/scholar?oi=bibs&hl=en&cites=1943182365083210939,8612204431209525800',\n   'cites_id': ['1943182365083210939', '8612204431209525800']},\n  {'container_type': 'Publication',\n   'source': <PublicationSource.AUTHOR_PUBLICATION_ENTRY: 'AUTHOR_PUBLICATION_ENTRY'>,\n   'bib': {'title': 'The synthetic phenotype of ΔbamB ΔbamE double mutants results from a lethal jamming of the Bam complex by the lipoprotein RcsF. mBio 10: e00662-19',\n    'pub_year': '2019',\n    'citation': ''},\n   'filled': False,\n   'author_pub_id': 'ZliYSzgAAAAJ:GtqhT-R7ZnwC',\n   'num_citations': 4,\n   'citedby_url': 'https://scholar.google.com/scholar?oi=bibs&hl=en&cites=7045729602047791484',\n   'cites_id': ['7045729602047791484']},\n  {'container_type': 'Publication',\n   'source': <PublicationSource.AUTHOR_PUBLICATION_ENTRY: 'AUTHOR_PUBLICATION_ENTRY'>,\n   'bib': {'title': 'Pronuclear migration: no attachment? No union, but a futile cycle!',\n    'pub_year': '2012',\n    'citation': 'Current Biology 22 (10), R409-R411, 2012'},\n   'filled': False,\n   'author_pub_id': 'ZliYSzgAAAAJ:Tyk-4Ss8FVUC',\n   'num_citations': 4,\n   'citedby_url': 'https://scholar.google.com/scholar?oi=bibs&hl=en&cites=9242680719690816940',\n   'cites_id': ['9242680719690816940']},\n  {'container_type': 'Publication',\n   'source': <PublicationSource.AUTHOR_PUBLICATION_ENTRY: 'AUTHOR_PUBLICATION_ENTRY'>,\n   'bib': {'title': 'Asymmetries in Cell Division, Cell Size, and Furrowing in the Xenopus laevis Embryo',\n    'pub_year': '2017',\n    'citation': 'Asymmetric Cell Division in Development, Differentiation and Cancer, 243-260, 2017'},\n   'filled': False,\n   'author_pub_id': 'ZliYSzgAAAAJ:Nnq8S6OXqDYC',\n   'num_citations': 3,\n   'citedby_url': 'https://scholar.google.com/scholar?oi=bibs&hl=en&cites=6549430423665482068',\n   'cites_id': ['6549430423665482068']},\n  {'container_type': 'Publication',\n   'source': <PublicationSource.AUTHOR_PUBLICATION_ENTRY: 'AUTHOR_PUBLICATION_ENTRY'>,\n   'bib': {'title': 'Differential nuclear import sets the timing of protein access to the embryonic genome',\n    'pub_year': '2022',\n    'citation': 'Nature Communications, 2022'},\n   'filled': False,\n   'author_pub_id': 'ZliYSzgAAAAJ:HKviVsUxM5wC',\n   'num_citations': 2,\n   'citedby_url': 'https://scholar.google.com/scholar?oi=bibs&hl=en&cites=7202612104641872928',\n   'cites_id': ['7202612104641872928']},\n  {'container_type': 'Publication',\n   'source': <PublicationSource.AUTHOR_PUBLICATION_ENTRY: 'AUTHOR_PUBLICATION_ENTRY'>,\n   'bib': {'title': 'Gut bacterial nutrient preferences quantified in vivo',\n    'pub_year': '2022',\n    'citation': 'Cell 185 (18), 3441-3456. e19, 2022'},\n   'filled': False,\n   'author_pub_id': 'ZliYSzgAAAAJ:uoRD4RTSUPoC',\n   'num_citations': 2,\n   'citedby_url': 'https://scholar.google.com/scholar?oi=bibs&hl=en&cites=7080789654323173655',\n   'cites_id': ['7080789654323173655']},\n  {'container_type': 'Publication',\n   'source': <PublicationSource.AUTHOR_PUBLICATION_ENTRY: 'AUTHOR_PUBLICATION_ENTRY'>,\n   'bib': {'title': 'Global Protein-Turnover Quantification in Escherichia coli Reveals Cytoplasmic Recycling under Nitrogen-Limitation',\n    'pub_year': '2022',\n    'citation': 'bioRxiv, 2022'},\n   'filled': False,\n   'author_pub_id': 'ZliYSzgAAAAJ:E8ajGqO0XoUC',\n   'num_citations': 2,\n   'citedby_url': 'https://scholar.google.com/scholar?oi=bibs&hl=en&cites=17478546328926144838',\n   'cites_id': ['17478546328926144838']},\n  {'container_type': 'Publication',\n   'source': <PublicationSource.AUTHOR_PUBLICATION_ENTRY: 'AUTHOR_PUBLICATION_ENTRY'>,\n   'bib': {'title': 'Proteome capacity constraints favor respiratory ATP generation',\n    'pub_year': '2022',\n    'citation': 'bioRxiv, 2022'},\n   'filled': False,\n   'author_pub_id': 'ZliYSzgAAAAJ:L7vk9XBBNxgC',\n   'num_citations': 1,\n   'citedby_url': 'https://scholar.google.com/scholar?oi=bibs&hl=en&cites=14977597588568241771',\n   'cites_id': ['14977597588568241771']},\n  {'container_type': 'Publication',\n   'source': <PublicationSource.AUTHOR_PUBLICATION_ENTRY: 'AUTHOR_PUBLICATION_ENTRY'>,\n   'bib': {'title': 'The Shuttling Cascade in Lasso Peptide Benenodin-1 is Controlled by Non-Covalent Interactions',\n    'pub_year': '2021',\n    'citation': 'Chemistry, 2021'},\n   'filled': False,\n   'author_pub_id': 'ZliYSzgAAAAJ:J4E9jCG1tHUC',\n   'num_citations': 1,\n   'citedby_url': 'https://scholar.google.com/scholar?oi=bibs&hl=en&cites=14106353807796064604',\n   'cites_id': ['14106353807796064604']},\n  {'container_type': 'Publication',\n   'source': <PublicationSource.AUTHOR_PUBLICATION_ENTRY: 'AUTHOR_PUBLICATION_ENTRY'>,\n   'bib': {'title': 'Glycogen-dependent demixing of frog egg cytoplasm at increased crowding',\n    'pub_year': '2021',\n    'citation': 'bioRxiv, 2021'},\n   'filled': False,\n   'author_pub_id': 'ZliYSzgAAAAJ:nOiSByfp82kC',\n   'num_citations': 1,\n   'citedby_url': 'https://scholar.google.com/scholar?oi=bibs&hl=en&cites=1615768552617873760',\n   'cites_id': ['1615768552617873760']},\n  {'container_type': 'Publication',\n   'source': <PublicationSource.AUTHOR_PUBLICATION_ENTRY: 'AUTHOR_PUBLICATION_ENTRY'>,\n   'bib': {'title': 'Immunofluorescence of Microtubule Assemblies in Amphibian Oocytes and Early Embryos',\n    'pub_year': '2019',\n    'citation': 'Vertebrate Embryogenesis, 17-32, 2019'},\n   'filled': False,\n   'author_pub_id': 'ZliYSzgAAAAJ:ufKn5pxu7C0C',\n   'num_citations': 1,\n   'citedby_url': 'https://scholar.google.com/scholar?oi=bibs&hl=en&cites=13110231777549365846',\n   'cites_id': ['13110231777549365846']},\n  {'container_type': 'Publication',\n   'source': <PublicationSource.AUTHOR_PUBLICATION_ENTRY: 'AUTHOR_PUBLICATION_ENTRY'>,\n   'bib': {'title': 'Systematic identification and characterization of novel genes in the regulation and biogenesis of photosynthetic machinery',\n    'pub_year': '2022',\n    'citation': 'bioRxiv, 2022'},\n   'filled': False,\n   'author_pub_id': 'ZliYSzgAAAAJ:GHsHDPAyICYC',\n   'num_citations': 0},\n  {'container_type': 'Publication',\n   'source': <PublicationSource.AUTHOR_PUBLICATION_ENTRY: 'AUTHOR_PUBLICATION_ENTRY'>,\n   'bib': {'title': 'Super-resolution mass spectrometry enables rapid, accurate, and highly-multiplexed proteomics at the MS2-level',\n    'pub_year': '2022',\n    'citation': 'bioRxiv, 2022'},\n   'filled': False,\n   'author_pub_id': 'ZliYSzgAAAAJ:_IsBomjs8bsC',\n   'num_citations': 0},\n  {'container_type': 'Publication',\n   'source': <PublicationSource.AUTHOR_PUBLICATION_ENTRY: 'AUTHOR_PUBLICATION_ENTRY'>,\n   'bib': {'title': 'Reagents for quantitative mass spectrometry',\n    'pub_year': '2022',\n    'citation': 'US Patent App. 17/387,888, 2022'},\n   'filled': False,\n   'author_pub_id': 'ZliYSzgAAAAJ:hEXC_dOfxuUC',\n   'num_citations': 0},\n  {'container_type': 'Publication',\n   'source': <PublicationSource.AUTHOR_PUBLICATION_ENTRY: 'AUTHOR_PUBLICATION_ENTRY'>,\n   'bib': {'title': 'Spatial Organization of Large Cells',\n    'pub_year': '2010',\n    'citation': 'Harvard University Cambridge, Massachusetts, 2010'},\n   'filled': False,\n   'author_pub_id': 'ZliYSzgAAAAJ:YsMSGLbcyi4C',\n   'num_citations': 0},\n  {'container_type': 'Publication',\n   'source': <PublicationSource.AUTHOR_PUBLICATION_ENTRY: 'AUTHOR_PUBLICATION_ENTRY'>,\n   'bib': {'title': 'Size and Speed Go Hand in Hand in Cytokinesis',\n    'pub_year': '2009',\n    'citation': 'Cell 137 (5), 798-800, 2009'},\n   'filled': False,\n   'author_pub_id': 'ZliYSzgAAAAJ:WF5omc3nYNoC',\n   'num_citations': 0}],\n 'public_access': {'available': 51, 'not_available': 0}}"
     },
     "execution_count": 18,
     "metadata": {},
     "output_type": "execute_result"
    }
   ],
   "source": [
    "info_dic[name]"
   ],
   "metadata": {
    "collapsed": false
   }
  },
  {
   "cell_type": "code",
   "execution_count": null,
   "outputs": [],
   "source": [],
   "metadata": {
    "collapsed": false
   }
  }
 ],
 "metadata": {
  "kernelspec": {
   "name": "python3",
   "language": "python",
   "display_name": "Python 3"
  },
  "language_info": {
   "codemirror_mode": {
    "name": "ipython",
    "version": 2
   },
   "file_extension": ".py",
   "mimetype": "text/x-python",
   "name": "python",
   "nbconvert_exporter": "python",
   "pygments_lexer": "ipython2",
   "version": "3.8.3-final"
  }
 },
 "nbformat": 4,
 "nbformat_minor": 0
}
