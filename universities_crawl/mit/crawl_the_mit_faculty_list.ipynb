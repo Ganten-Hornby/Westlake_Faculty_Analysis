{
 "cells": [
  {
   "cell_type": "code",
   "execution_count": 67,
   "metadata": {
    "collapsed": true
   },
   "outputs": [
    {
     "name": "stdout",
     "output_type": "stream",
     "text": [
      "Tania A. Baker - MIT Department of Biology\n"
     ]
    }
   ],
   "source": [
    "import re\n",
    "import time\n",
    "from concurrent.futures import ThreadPoolExecutor\n",
    "\n",
    "import numpy as np\n",
    "import pandas as pd\n",
    "from pyquery import PyQuery as pq\n",
    "from selenium import webdriver\n",
    "from selenium.webdriver.chrome.options import Options\n",
    "from tqdm import tqdm\n",
    "\n",
    "chrome_options = Options()\n",
    "chrome_options.add_experimental_option(\"debuggerAddress\", \"127.0.0.1:9222\")\n",
    "driver = webdriver.Chrome(options=chrome_options)\n",
    "print(driver.title)"
   ]
  },
  {
   "cell_type": "markdown",
   "source": [
    "# Get name and url"
   ],
   "metadata": {
    "collapsed": false
   }
  },
  {
   "cell_type": "code",
   "execution_count": 2,
   "outputs": [],
   "source": [
    "def refresh_Pq():\n",
    "    return pq(driver.page_source)"
   ],
   "metadata": {
    "collapsed": false
   }
  },
  {
   "cell_type": "code",
   "execution_count": 3,
   "outputs": [],
   "source": [
    "pi_url_list = []\n",
    "l = []"
   ],
   "metadata": {
    "collapsed": false
   }
  },
  {
   "cell_type": "code",
   "execution_count": 14,
   "outputs": [],
   "source": [
    "doc = refresh_Pq()\n",
    "pi_list = doc('#post-698 > div.profiles-wrapper > div:nth-child(1)').find('.profile-item').items()\n",
    "pi_name_url = []\n",
    "for pi_profile in pi_list:\n",
    "    name = pi_profile('.first-name').text() + ' ' + pi_profile('.last-name').text()\n",
    "    url = pi_profile('h3 > a').attr('href')\n",
    "    pi_name_url.append([name, url])"
   ],
   "metadata": {
    "collapsed": false
   }
  },
  {
   "cell_type": "code",
   "execution_count": 15,
   "outputs": [
    {
     "data": {
      "text/plain": "[['Tania A. Baker', 'https://biology.mit.edu/profile/tania-a-baker/'],\n ['David Bartel', 'https://biology.mit.edu/profile/david-bartel/'],\n ['Stephen Bell', 'https://biology.mit.edu/profile/stephen-bell/'],\n ['Laurie A. Boyer', 'https://biology.mit.edu/profile/laurie-a-boyer/'],\n ['Christopher Burge', 'https://biology.mit.edu/profile/christopher-burge/'],\n ['Eliezer Calo', 'https://biology.mit.edu/profile/eliezer-calo/'],\n ['Lindsay Case', 'https://biology.mit.edu/profile/lindsay-case/'],\n ['Iain M. Cheeseman', 'https://biology.mit.edu/profile/iain-m-cheeseman/'],\n ['Jianzhu Chen', 'https://biology.mit.edu/profile/jianzhu-chen/'],\n ['Yiyin Erin Chen', 'https://biology.mit.edu/profile/y-erin-chen/'],\n ['Sallie (Penny) W. Chisholm',\n  'https://biology.mit.edu/profile/sallie-penny-w-chisholm/'],\n ['Ibrahim Cissé', 'https://biology.mit.edu/profile/ibrahim-cisse/'],\n ['Olivia Corradin', 'https://biology.mit.edu/profile/olivia-corradin/'],\n ['Joseph (Joey) Davis', 'https://biology.mit.edu/profile/joseph-joey-davis/'],\n ['Catherine Drennan', 'https://biology.mit.edu/profile/catherine-drennan/'],\n ['Gerald R. Fink', 'https://biology.mit.edu/profile/gerald-r-fink/'],\n ['Mary Gehring', 'https://biology.mit.edu/profile/mary-gehring/'],\n ['Alan D. Grossman', 'https://biology.mit.edu/profile/alan-d-grossman/'],\n ['Leonard P. Guarente',\n  'https://biology.mit.edu/profile/leonard-p-guarente/'],\n ['Michael T. Hemann', 'https://biology.mit.edu/profile/michael-t-hemann/'],\n ['H. Robert Horvitz', 'https://biology.mit.edu/profile/h-robert-horvitz/'],\n ['David Housman', 'https://biology.mit.edu/profile/david-housman/'],\n ['Siniša Hrvatin', 'https://biology.mit.edu/profile/sinisa-hrvatin/'],\n ['Richard O. Hynes', 'https://biology.mit.edu/profile/richard-o-hynes/'],\n ['Barbara Imperiali', 'https://biology.mit.edu/profile/barbara-imperiali/'],\n ['Tyler Jacks', 'https://biology.mit.edu/profile/tyler-jacks/'],\n ['Rudolf Jaenisch', 'https://biology.mit.edu/profile/rudolf-jaenisch/'],\n ['Ankur Jain', 'https://biology.mit.edu/profile/ankur-jain/'],\n ['Chris A. Kaiser', 'https://biology.mit.edu/profile/chris-a-kaiser/'],\n ['Amy E. Keating', 'https://biology.mit.edu/profile/amy-e-keating/'],\n ['Kristin Knouse', 'https://biology.mit.edu/profile/kristin-knouse/'],\n ['Monty Krieger', 'https://biology.mit.edu/profile/monty-krieger/'],\n ['Rebecca Lamason', 'https://biology.mit.edu/profile/rebecca-lamason/'],\n ['Eric S. Lander', 'https://biology.mit.edu/profile/eric-s-lander/'],\n ['Michael T. Laub', 'https://biology.mit.edu/profile/michael-t-laub/'],\n ['Douglas Lauffenburger',\n  'https://biology.mit.edu/profile/douglas-lauffenburger/'],\n ['Jacqueline Lees', 'https://biology.mit.edu/profile/jacqueline-lees/'],\n ['Ruth Lehmann', 'https://biology.mit.edu/profile/ruth-lehmann/'],\n ['Gene-Wei Li', 'https://biology.mit.edu/profile/gene-wei-li/'],\n ['Pulin Li', 'https://biology.mit.edu/profile/pulin-li/'],\n ['Troy Littleton', 'https://biology.mit.edu/profile/troy-littleton/'],\n ['Harvey F. Lodish', 'https://biology.mit.edu/profile/harvey-f-lodish/'],\n ['Sebastian Lourido', 'https://biology.mit.edu/profile/sebastian-lourido/'],\n ['Adam C. Martin', 'https://biology.mit.edu/profile/adam-c-martin/'],\n ['Hernandez Moura Silva',\n  'https://biology.mit.edu/profile/hernandez-moura-silva/'],\n ['Elly Nedivi', 'https://biology.mit.edu/profile/elly-nedivi/'],\n ['David C. Page', 'https://biology.mit.edu/profile/david-c-page/'],\n ['Sara Prescott', 'https://biology.mit.edu/profile/sara-prescott/'],\n ['Peter Reddien', 'https://biology.mit.edu/profile/peter-reddien/'],\n ['Aviv Regev', 'https://biology.mit.edu/profile/aviv-regev/'],\n ['Alison E. Ringel', 'https://biology.mit.edu/profile/alison-e-ringel/'],\n ['Francisco J. Sánchez-Rivera',\n  'https://biology.mit.edu/profile/francisco-j-sanchez-rivera/'],\n ['Robert T. Sauer', 'https://biology.mit.edu/profile/robert-t-sauer/'],\n ['Thomas U. Schwartz', 'https://biology.mit.edu/profile/thomas-u-schwartz/'],\n ['Phillip A. Sharp', 'https://biology.mit.edu/profile/phillip-a-sharp/'],\n ['Anthony J. Sinskey', 'https://biology.mit.edu/profile/anthony-j-sinskey/'],\n ['Yadira Soto-Feliciano',\n  'https://biology.mit.edu/profile/yadira-soto-feliciano/'],\n ['Stefani Spranger', 'https://biology.mit.edu/profile/stefani-spranger/'],\n ['Susumu Tonegawa', 'https://biology.mit.edu/profile/susumu-tonegawa/'],\n ['Matthew Vander Heiden',\n  'https://biology.mit.edu/profile/matthew-vander-heiden/'],\n ['Seychelle M. Vos', 'https://biology.mit.edu/profile/seychelle-m-vos/'],\n ['Graham C. Walker', 'https://biology.mit.edu/profile/graham-c-walker/'],\n ['Bruce Walker', 'https://biology.mit.edu/profile/bruce-walker/'],\n ['Robert A. Weinberg', 'https://biology.mit.edu/profile/robert-a-weinberg/'],\n ['Brandon Weissbourd', 'https://biology.mit.edu/profile/brandon-weissbourd/'],\n ['Jonathan Weissman', 'https://biology.mit.edu/profile/jonathan-weissman/'],\n ['Jing-Ke Weng', 'https://biology.mit.edu/profile/jing-ke-weng/'],\n ['Matthew A. Wilson', 'https://biology.mit.edu/profile/matthew-a-wilson/'],\n ['Harikesh S. Wong', 'https://biology.mit.edu/profile/harikesh-s-wong/'],\n ['Michael B. Yaffe', 'https://biology.mit.edu/profile/michael-b-yaffe/'],\n ['Yukiko Yamashita', 'https://biology.mit.edu/profile/yukiko-yamashita/'],\n ['Omer H. Yilmaz', 'https://biology.mit.edu/profile/omer-h-yilmaz/'],\n ['Richard A. Young', 'https://biology.mit.edu/profile/richard-a-young/']]"
     },
     "execution_count": 15,
     "metadata": {},
     "output_type": "execute_result"
    }
   ],
   "source": [
    "pi_name_url"
   ],
   "metadata": {
    "collapsed": false
   }
  },
  {
   "cell_type": "code",
   "execution_count": 33,
   "outputs": [
    {
     "data": {
      "text/plain": "True"
     },
     "execution_count": 33,
     "metadata": {},
     "output_type": "execute_result"
    }
   ],
   "source": [
    "from pathlib import Path\n",
    "\n",
    "RESULT_PATH = Path.cwd().parents[1] / 'result/mit'\n",
    "RESULT_PATH.exists()"
   ],
   "metadata": {
    "collapsed": false
   }
  },
  {
   "cell_type": "markdown",
   "source": [
    "## crawl mit pi personal information"
   ],
   "metadata": {
    "collapsed": false
   }
  },
  {
   "cell_type": "code",
   "execution_count": 120,
   "outputs": [
    {
     "name": "stdout",
     "output_type": "stream",
     "text": [
      "National Tsinghua University 2004 nan nan Harvard University 2010\n"
     ]
    }
   ],
   "source": [
    "def extract_one_pate_pi_info(pi_link):\n",
    "    try:\n",
    "        persoanl_page = pq(pi_link, encoding='utf-8', timeout=30)\n",
    "        pass\n",
    "    except:\n",
    "        print(pi_link)\n",
    "        return np.nan, np.nan, np.nan,\n",
    "    else:\n",
    "        degrees = list(\n",
    "            persoanl_page('#main > div.profile-full-content > div > div > div.page-content  h2:nth-child(1)').eq(\n",
    "                0).siblings('ul').eq(0).children().items())\n",
    "        # ed_title.sli\n",
    "        # degrees=list(persoanl_page('#main > div.profile-full-content > div > div > div.page-content  ul > li').items())\n",
    "        # degrees=list(persoanl_page('#main > div.profile-full-content > div > div > div.page-content > ul:nth-child(2) > li:nth-child(1)').items())\n",
    "        if (degrees_num := len(degrees)) <= 1:\n",
    "            print('lesson 1', pi_link)\n",
    "        md, bd, bd_y, md_y = np.nan, np.nan, np.nan, np.nan,\n",
    "        year = re.compile(u'\\d{4}')\n",
    "        try:\n",
    "            phd = degrees[0].text().split(', ')[-1]\n",
    "            phd_y = year.search(degrees[0].text()).group()\n",
    "        except:\n",
    "            print(pi_link, '!!!!!!!!!!!!!!!!!!!!')\n",
    "            return np.nan, np.nan, np.nan,\n",
    "\n",
    "        else:\n",
    "            if degrees_num == 3:\n",
    "                md = degrees[1].text().split(', ')[-1]\n",
    "                md_y = year.search(degrees[1].text()).group()\n",
    "\n",
    "                bd = degrees[2].text().split(', ')[-1]\n",
    "                bd_y = year.search(degrees[2].text()).group()\n",
    "\n",
    "            elif degrees_num == 2:\n",
    "                bd = degrees[-1].text().split(', ')[-1]\n",
    "                bd_y = year.search(degrees[-1].text()).group()\n",
    "\n",
    "            return bd, bd_y, md, md_y, phd, phd_y\n",
    "\n",
    "\n",
    "bd, bd_y, md, md_y, phd, phd_y = extract_one_pate_pi_info('https://biology.mit.edu/profile/gene-wei-li/')\n",
    "print(bd, bd_y, md, md_y, phd, phd_y)"
   ],
   "metadata": {
    "collapsed": false
   }
  },
  {
   "cell_type": "code",
   "execution_count": 122,
   "outputs": [
    {
     "name": "stderr",
     "output_type": "stream",
     "text": [
      "3it [00:07,  1.96s/it]"
     ]
    },
    {
     "name": "stdout",
     "output_type": "stream",
     "text": [
      "lesson 1 https://biology.mit.edu/profile/sallie-penny-w-chisholm/\n"
     ]
    },
    {
     "name": "stderr",
     "output_type": "stream",
     "text": [
      "16it [00:10,  2.11it/s]"
     ]
    },
    {
     "name": "stdout",
     "output_type": "stream",
     "text": [
      "lesson 1 https://biology.mit.edu/profile/chris-a-kaiser/\n"
     ]
    },
    {
     "name": "stderr",
     "output_type": "stream",
     "text": [
      "24it [00:13,  2.32it/s]"
     ]
    },
    {
     "name": "stdout",
     "output_type": "stream",
     "text": [
      "lesson 1 https://biology.mit.edu/profile/jonathan-weissman/\n",
      "https://biology.mit.edu/profile/jonathan-weissman/ !!!!!!!!!!!!!!!!!!!!\n"
     ]
    },
    {
     "name": "stderr",
     "output_type": "stream",
     "text": [
      "27it [00:15,  2.21it/s]"
     ]
    },
    {
     "name": "stdout",
     "output_type": "stream",
     "text": [
      "lesson 1 https://biology.mit.edu/profile/rudolf-jaenisch/\n"
     ]
    },
    {
     "name": "stderr",
     "output_type": "stream",
     "text": [
      "73it [00:19,  3.80it/s]"
     ]
    },
    {
     "name": "stdout",
     "output_type": "stream",
     "text": [
      "19.28064250946045 s\n"
     ]
    },
    {
     "name": "stderr",
     "output_type": "stream",
     "text": [
      "\n"
     ]
    }
   ],
   "source": [
    "begin = time.time()\n",
    "executor = ThreadPoolExecutor(max_workers=40)\n",
    "pi_names, pi_urls = zip(*pi_name_url)\n",
    "records = []\n",
    "for infos, author_name in tqdm(zip(executor.map(extract_one_pate_pi_info, pi_urls), pi_names)):\n",
    "    records.append([author_name, *infos ])\n",
    "times = time.time() - begin\n",
    "print(times, 's')"
   ],
   "metadata": {
    "collapsed": false
   }
  },
  {
   "cell_type": "code",
   "execution_count": 124,
   "outputs": [
    {
     "data": {
      "text/plain": "                 name                               bd  bd_y   md md_y  \\\n0      Tania A. Baker  University of Wisconsin-Madison  1983  NaN  NaN   \n1        David Bartel                   Goshen College  1982  NaN  NaN   \n2        Stephen Bell          Northwestern University  1985  NaN  NaN   \n3     Laurie A. Boyer      Framingham State University  1990  NaN  NaN   \n4   Christopher Burge              Stanford University  1990  NaN  NaN   \n..                ...                              ...   ...  ...  ...   \n68   Harikesh S. Wong              McMaster University  2010  NaN  NaN   \n69   Michael B. Yaffe               Cornell University  1981  NaN  NaN   \n70   Yukiko Yamashita                 Kyoto University  1994  NaN  NaN   \n71     Omer H. Yilmaz           University of Michigan  1999  NaN  NaN   \n72   Richard A. Young               Indiana University  1975  NaN  NaN   \n\n                                           phd phd_y  \n0                          Stanford University  1988  \n1                           Harvard University  1993  \n2                                     Berkeley  1990  \n3   University of Massachusetts Medical School  2001  \n4                          Stanford University  1997  \n..                                         ...   ...  \n68                       University of Toronto  2016  \n69             Case Western Reserve University  1987  \n70                            Kyoto University  1999  \n71       University of Michigan Medical School  2008  \n72                             Yale University  1979  \n\n[73 rows x 7 columns]",
      "text/html": "<div>\n<style scoped>\n    .dataframe tbody tr th:only-of-type {\n        vertical-align: middle;\n    }\n\n    .dataframe tbody tr th {\n        vertical-align: top;\n    }\n\n    .dataframe thead th {\n        text-align: right;\n    }\n</style>\n<table border=\"1\" class=\"dataframe\">\n  <thead>\n    <tr style=\"text-align: right;\">\n      <th></th>\n      <th>name</th>\n      <th>bd</th>\n      <th>bd_y</th>\n      <th>md</th>\n      <th>md_y</th>\n      <th>phd</th>\n      <th>phd_y</th>\n    </tr>\n  </thead>\n  <tbody>\n    <tr>\n      <th>0</th>\n      <td>Tania A. Baker</td>\n      <td>University of Wisconsin-Madison</td>\n      <td>1983</td>\n      <td>NaN</td>\n      <td>NaN</td>\n      <td>Stanford University</td>\n      <td>1988</td>\n    </tr>\n    <tr>\n      <th>1</th>\n      <td>David Bartel</td>\n      <td>Goshen College</td>\n      <td>1982</td>\n      <td>NaN</td>\n      <td>NaN</td>\n      <td>Harvard University</td>\n      <td>1993</td>\n    </tr>\n    <tr>\n      <th>2</th>\n      <td>Stephen Bell</td>\n      <td>Northwestern University</td>\n      <td>1985</td>\n      <td>NaN</td>\n      <td>NaN</td>\n      <td>Berkeley</td>\n      <td>1990</td>\n    </tr>\n    <tr>\n      <th>3</th>\n      <td>Laurie A. Boyer</td>\n      <td>Framingham State University</td>\n      <td>1990</td>\n      <td>NaN</td>\n      <td>NaN</td>\n      <td>University of Massachusetts Medical School</td>\n      <td>2001</td>\n    </tr>\n    <tr>\n      <th>4</th>\n      <td>Christopher Burge</td>\n      <td>Stanford University</td>\n      <td>1990</td>\n      <td>NaN</td>\n      <td>NaN</td>\n      <td>Stanford University</td>\n      <td>1997</td>\n    </tr>\n    <tr>\n      <th>...</th>\n      <td>...</td>\n      <td>...</td>\n      <td>...</td>\n      <td>...</td>\n      <td>...</td>\n      <td>...</td>\n      <td>...</td>\n    </tr>\n    <tr>\n      <th>68</th>\n      <td>Harikesh S. Wong</td>\n      <td>McMaster University</td>\n      <td>2010</td>\n      <td>NaN</td>\n      <td>NaN</td>\n      <td>University of Toronto</td>\n      <td>2016</td>\n    </tr>\n    <tr>\n      <th>69</th>\n      <td>Michael B. Yaffe</td>\n      <td>Cornell University</td>\n      <td>1981</td>\n      <td>NaN</td>\n      <td>NaN</td>\n      <td>Case Western Reserve University</td>\n      <td>1987</td>\n    </tr>\n    <tr>\n      <th>70</th>\n      <td>Yukiko Yamashita</td>\n      <td>Kyoto University</td>\n      <td>1994</td>\n      <td>NaN</td>\n      <td>NaN</td>\n      <td>Kyoto University</td>\n      <td>1999</td>\n    </tr>\n    <tr>\n      <th>71</th>\n      <td>Omer H. Yilmaz</td>\n      <td>University of Michigan</td>\n      <td>1999</td>\n      <td>NaN</td>\n      <td>NaN</td>\n      <td>University of Michigan Medical School</td>\n      <td>2008</td>\n    </tr>\n    <tr>\n      <th>72</th>\n      <td>Richard A. Young</td>\n      <td>Indiana University</td>\n      <td>1975</td>\n      <td>NaN</td>\n      <td>NaN</td>\n      <td>Yale University</td>\n      <td>1979</td>\n    </tr>\n  </tbody>\n</table>\n<p>73 rows × 7 columns</p>\n</div>"
     },
     "execution_count": 124,
     "metadata": {},
     "output_type": "execute_result"
    }
   ],
   "source": [
    "df = pd.DataFrame.from_records(records,columns=['name','bd', 'bd_y', 'md', 'md_y', 'phd', 'phd_y' ])\n",
    "df"
   ],
   "metadata": {
    "collapsed": false
   }
  },
  {
   "cell_type": "code",
   "execution_count": null,
   "outputs": [],
   "source": [],
   "metadata": {
    "collapsed": false
   }
  },
  {
   "cell_type": "markdown",
   "source": [
    "### save the pi info"
   ],
   "metadata": {
    "collapsed": false
   }
  },
  {
   "cell_type": "code",
   "execution_count": 127,
   "outputs": [],
   "source": [
    "df.to_csv(RESULT_PATH/'mit_faculty_degrees_info.csv',index=False, encoding='utf8')"
   ],
   "metadata": {
    "collapsed": false
   }
  },
  {
   "cell_type": "markdown",
   "source": [
    "## crawl its google scholar page"
   ],
   "metadata": {
    "collapsed": false
   }
  },
  {
   "cell_type": "code",
   "execution_count": null,
   "outputs": [],
   "source": [],
   "metadata": {
    "collapsed": false
   }
  }
 ],
 "metadata": {
  "kernelspec": {
   "name": "python3",
   "language": "python",
   "display_name": "Python 3"
  },
  "language_info": {
   "codemirror_mode": {
    "name": "ipython",
    "version": 2
   },
   "file_extension": ".py",
   "mimetype": "text/x-python",
   "name": "python",
   "nbconvert_exporter": "python",
   "pygments_lexer": "ipython2",
   "version": "3.8.3-final"
  }
 },
 "nbformat": 4,
 "nbformat_minor": 0
}
