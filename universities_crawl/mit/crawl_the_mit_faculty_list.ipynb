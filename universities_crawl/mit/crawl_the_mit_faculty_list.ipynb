{
 "cells": [
  {
   "cell_type": "code",
   "execution_count": 7,
   "metadata": {
    "collapsed": true
   },
   "outputs": [
    {
     "name": "stdout",
     "output_type": "stream",
     "text": [
      "Faculty Profiles - Harvard University - Department of Molecular & Cellular Biology\n"
     ]
    }
   ],
   "source": [
    "import re\n",
    "import time\n",
    "from concurrent.futures import ThreadPoolExecutor\n",
    "\n",
    "import numpy as np\n",
    "import pandas as pd\n",
    "from pyquery import PyQuery as pq\n",
    "from selenium import webdriver\n",
    "from selenium.webdriver.chrome.options import Options\n",
    "from tqdm import tqdm\n",
    "\n",
    "chrome_options = Options()\n",
    "chrome_options.add_experimental_option(\"debuggerAddress\", \"127.0.0.1:9222\")\n",
    "driver = webdriver.Chrome(options=chrome_options)\n",
    "print(driver.title)"
   ]
  },
  {
   "cell_type": "markdown",
   "source": [
    "# Get name and url"
   ],
   "metadata": {
    "collapsed": false
   }
  },
  {
   "cell_type": "code",
   "execution_count": 8,
   "outputs": [],
   "source": [
    "def refresh_Pq():\n",
    "    return pq(driver.page_source)"
   ],
   "metadata": {
    "collapsed": false
   }
  },
  {
   "cell_type": "code",
   "execution_count": 9,
   "outputs": [],
   "source": [
    "pi_url_list = []\n",
    "l = []"
   ],
   "metadata": {
    "collapsed": false
   }
  },
  {
   "cell_type": "code",
   "execution_count": 17,
   "outputs": [],
   "source": [
    "doc = refresh_Pq()\n",
    "pi_list = doc('body > section > div:nth-child(2) > div > div:nth-child(1)').find('.profile').items()\n",
    "pi_name_url = []\n",
    "for pi_profile in pi_list:\n",
    "    name = pi_profile('a:nth-child(2) > h3').text()\n",
    "    url = pi_profile('a:nth-child(2)').attr('href')\n",
    "    pi_name_url.append([name, url])"
   ],
   "metadata": {
    "collapsed": false
   }
  },
  {
   "cell_type": "code",
   "execution_count": 20,
   "outputs": [],
   "source": [
    "mcb_faculty = pi_name_url.copy()"
   ],
   "metadata": {
    "collapsed": false
   }
  },
  {
   "cell_type": "code",
   "execution_count": 23,
   "outputs": [
    {
     "data": {
      "text/plain": "12"
     },
     "execution_count": 23,
     "metadata": {},
     "output_type": "execute_result"
    }
   ],
   "source": [],
   "metadata": {
    "collapsed": false
   }
  },
  {
   "cell_type": "code",
   "execution_count": 32,
   "outputs": [],
   "source": [
    "\n",
    "pi_name_url = []"
   ],
   "metadata": {
    "collapsed": false
   }
  },
  {
   "cell_type": "code",
   "execution_count": 36,
   "outputs": [
    {
     "name": "stdout",
     "output_type": "stream",
     "text": [
      "5\n",
      "Search Results for “” | Page 4 | Harvard T.H. Chan School of Public Health\n"
     ]
    }
   ],
   "source": [
    "doc = refresh_Pq()\n",
    "pi_list = list(doc('.grid-card').items())\n",
    "print(len(pi_list))\n",
    "print(driver.title)\n",
    "\n",
    "for pi_profile in pi_list:\n",
    "    p = pi_profile('h2 > a')\n",
    "    name = p.text()\n",
    "    url = p.attr('href')\n",
    "    pi_name_url.append([name, url])"
   ],
   "metadata": {
    "collapsed": false
   }
  },
  {
   "cell_type": "code",
   "execution_count": 37,
   "outputs": [],
   "source": [
    "harvar_all = mcb_faculty + pi_name_url"
   ],
   "metadata": {
    "collapsed": false
   }
  },
  {
   "cell_type": "code",
   "execution_count": 38,
   "outputs": [
    {
     "data": {
      "text/plain": "75"
     },
     "execution_count": 38,
     "metadata": {},
     "output_type": "execute_result"
    }
   ],
   "source": [
    "len(harvar_all)"
   ],
   "metadata": {
    "collapsed": false
   }
  },
  {
   "cell_type": "code",
   "execution_count": 39,
   "outputs": [
    {
     "data": {
      "text/plain": "True"
     },
     "execution_count": 39,
     "metadata": {},
     "output_type": "execute_result"
    }
   ],
   "source": [
    "from pathlib import Path\n",
    "\n",
    "RESULT_PATH = Path.cwd().parents[1] / 'result/harvard'\n",
    "RESULT_PATH.mkdir(exist_ok=True)\n",
    "RESULT_PATH.exists()"
   ],
   "metadata": {
    "collapsed": false
   }
  },
  {
   "cell_type": "code",
   "execution_count": 42,
   "outputs": [],
   "source": [
    "df = pd.DataFrame(harvar_all, columns=['name', 'url'])\n",
    "df.to_csv(RESULT_PATH / 'harvard_name_url.csv', index=False)"
   ],
   "metadata": {
    "collapsed": false
   }
  },
  {
   "cell_type": "code",
   "execution_count": 33,
   "outputs": [
    {
     "data": {
      "text/plain": "True"
     },
     "execution_count": 33,
     "metadata": {},
     "output_type": "execute_result"
    }
   ],
   "source": [
    "from pathlib import Path\n",
    "\n",
    "RESULT_PATH = Path.cwd().parents[1] / 'result/mit'\n",
    "RESULT_PATH.exists()"
   ],
   "metadata": {
    "collapsed": false
   }
  },
  {
   "cell_type": "markdown",
   "source": [
    "## THU"
   ],
   "metadata": {
    "collapsed": false
   }
  },
  {
   "cell_type": "code",
   "execution_count": 56,
   "outputs": [],
   "source": [
    "doc = pq('https://life.tsinghua.edu.cn/szdw/jzyg1.htm', encoding='utf-8')\n",
    "departs = [\n",
    "    doc('body > div.content > div.mainWrap > div > div.faculty.contbtmpd > div.faculty.contbtmpd > div:nth-child(2) > ul:nth-child(4)'),\n",
    "    doc('body > div.content > div.mainWrap > div > div.faculty.contbtmpd > div.faculty.contbtmpd > div:nth-child(2) > ul:nth-child(7)'),\n",
    "    doc('body > div.content > div.mainWrap > div > div.faculty.contbtmpd > div.faculty.contbtmpd > div:nth-child(2) > ul:nth-child(10)'),\n",
    "    doc('body > div.content > div.mainWrap > div > div.faculty.contbtmpd > div.faculty.contbtmpd > div:nth-child(2) > ul:nth-child(13)'),\n",
    "    doc('body > div.content > div.mainWrap > div > div.faculty.contbtmpd > div.faculty.contbtmpd > div:nth-child(2) > ul:nth-child(16)'),\n",
    "    doc('body > div.content > div.mainWrap > div > div.faculty.contbtmpd > div.faculty.contbtmpd > div:nth-child(2) > ul:nth-child(19)'),\n",
    "]\n",
    "thu_teacher_names = []\n",
    "for dep in departs:\n",
    "    for people in dep.find('li a').items():\n",
    "        thu_teacher_names.append(people.text().replace('\\u3000',''))\n"
   ],
   "metadata": {
    "collapsed": false
   }
  },
  {
   "cell_type": "code",
   "execution_count": 57,
   "outputs": [
    {
     "data": {
      "text/plain": "['陈晔光',\n '葛亮',\n '孟安明',\n '潘俊敏',\n '陶庆华',\n '吴畏',\n '郗乔然',\n '俞立',\n '张荣庆',\n '周帆',\n '江鹏',\n '李蓬',\n '刘万里',\n '罗永章',\n '王一国',\n '柴继杰',\n '陈春来',\n '陈柱成',\n '方显杨',\n '李赛',\n '李丕龙',\n '李雪明',\n '梁鑫',\n '刘俊杰',\n '施一公',\n '史航',\n '隋森芳',\n '王宏伟',\n '王佳伟',\n '王新泉',\n '薛毅',\n '颜宁',\n '闫创业',\n '闫永彬',\n '杨茂君',\n '陈国强',\n '邓海腾',\n '龚海鹏',\n '刘念',\n '鲁志',\n '王建斌',\n '王海峰',\n '王志新',\n '魏迪明',\n '吴琼',\n '颉伟',\n '杨雪瑞',\n '张强锋',\n '贾晓轩',\n '李坤',\n '吝易',\n '米达',\n '欧光朔',\n '时松海',\n '熊巍',\n '姚骏',\n '张伟',\n '赵昕宇',\n '钟毅',\n '陈浩东',\n '方晓峰',\n '黄善金',\n '刘栋',\n '刘玉乐',\n '戚益军',\n '齐天从',\n '孙前文',\n '谢道昕']"
     },
     "execution_count": 57,
     "metadata": {},
     "output_type": "execute_result"
    }
   ],
   "source": [
    "thu_teacher_names"
   ],
   "metadata": {
    "collapsed": false
   }
  },
  {
   "cell_type": "code",
   "execution_count": 76,
   "outputs": [
    {
     "data": {
      "text/plain": "['chen yeguang',\n 'liang ge',\n 'meng anming',\n 'pan junmin',\n 'tao qinghua',\n 'wei wu',\n 'xi qiaoran',\n 'li yu',\n 'zhang rongqing',\n 'fan zhou',\n 'peng jiang',\n 'peng li',\n 'liu wanli',\n 'luo yongzhang',\n 'wang yiguo',\n 'chai jijie',\n 'chen chunlai',\n 'chen zhucheng',\n 'fang xianyang',\n 'sai li',\n 'li pilong',\n 'li xueming',\n 'xin liang',\n 'liu junjie',\n 'shi yigong',\n 'hang shi',\n 'sui senfang',\n 'wang hongwei',\n 'wang jiawei',\n 'wang xinquan',\n 'yi xue',\n 'ning yan',\n 'yan chuangye',\n 'yan yongbin',\n 'yang maojun',\n 'chen guoqiang',\n 'deng haiteng',\n 'gong haipeng',\n 'nian liu',\n 'zhi lu',\n 'wang jianbin',\n 'wang haifeng',\n 'wang zhixin',\n 'wei diming',\n 'qiong wu',\n 'wei jie',\n 'yang xuerui',\n 'zhang qiangfeng',\n 'jia xiaoxuan',\n 'kun li',\n 'yi lin',\n 'da mi',\n 'ou guangshuo',\n 'shi songhai',\n 'wei xiong',\n 'jun yao',\n 'wei zhang',\n 'zhao xinyu',\n 'yi zhong',\n 'chen haodong',\n 'fang xiaofeng',\n 'huang shanjin',\n 'dong liu',\n 'liu yule',\n 'qi yijun',\n 'qi tiancong',\n 'sun qianwen',\n 'xie daoxin']"
     },
     "execution_count": 76,
     "metadata": {},
     "output_type": "execute_result"
    }
   ],
   "source": [
    "from pypinyin import pinyin, lazy_pinyin\n",
    "\n",
    "def is_all_chinese(strs):\n",
    "    for _char in strs:\n",
    "        if not '\\u4e00' <= _char <= '\\u9fa5':\n",
    "            return False\n",
    "    return True\n",
    "def chinese_to_english_name(thu_teacher_names):\n",
    "    thu_teacher_names_pinyin = []\n",
    "    for thu_teacher_name in thu_teacher_names:\n",
    "        if is_all_chinese(thu_teacher_name[0]):\n",
    "            pinyins = lazy_pinyin(thu_teacher_name)\n",
    "            name = f'{pinyins[0]} {pinyins[1]}{pinyins[2]}' if len(pinyins) == 3 else f'{pinyins[1]} {pinyins[0]}'\n",
    "            thu_teacher_names_pinyin.append(name)\n",
    "        else:\n",
    "            thu_teacher_names_pinyin.append(thu_teacher_name)\n",
    "    return thu_teacher_names_pinyin\n",
    "\n",
    "thu_teacher_names_pinyin=chinese_to_english_name(thu_teacher_names)\n",
    "thu_teacher_names_pinyin"
   ],
   "metadata": {
    "collapsed": false
   }
  },
  {
   "cell_type": "code",
   "execution_count": 77,
   "outputs": [
    {
     "data": {
      "text/plain": "741"
     },
     "execution_count": 77,
     "metadata": {},
     "output_type": "execute_result"
    }
   ],
   "source": [
    "RESULT_PATH = Path.cwd().parents[1] / 'result/THU'\n",
    "RESULT_PATH.mkdir(exist_ok=True)\n",
    "RESULT_PATH.joinpath('thu_faculty_name_list.txt').open('w',encoding='utf8').write('\\n'.join(thu_teacher_names))\n",
    "RESULT_PATH.joinpath('thu_faculty_name_pinyin_list.txt').open('w').write('\\n'.join(thu_teacher_names_pinyin))\n"
   ],
   "metadata": {
    "collapsed": false
   }
  },
  {
   "cell_type": "code",
   "execution_count": 77,
   "outputs": [],
   "source": [],
   "metadata": {
    "collapsed": false
   }
  },
  {
   "cell_type": "code",
   "execution_count": 78,
   "outputs": [
    {
     "data": {
      "text/plain": "['chen', 'ye', 'guang']"
     },
     "execution_count": 78,
     "metadata": {},
     "output_type": "execute_result"
    }
   ],
   "source": [
    "lazy_pinyin(thu_teacher_names[0])"
   ],
   "metadata": {
    "collapsed": false
   }
  },
  {
   "cell_type": "markdown",
   "source": [
    "## PKU"
   ],
   "metadata": {
    "collapsed": false
   }
  },
  {
   "cell_type": "code",
   "execution_count": 79,
   "outputs": [
    {
     "data": {
      "text/plain": "85"
     },
     "execution_count": 79,
     "metadata": {},
     "output_type": "execute_result"
    }
   ],
   "source": [
    "pku_faculty_name_list=[]\n",
    "for table in pd.read_html('http://bio.pku.edu.cn/homes/Index/news_szll_zy/16/16.html'):\n",
    "    pku_faculty_name_list.extend(table['姓名'].to_list())\n",
    "len(pku_faculty_name_list)"
   ],
   "metadata": {
    "collapsed": false
   }
  },
  {
   "cell_type": "code",
   "execution_count": 80,
   "outputs": [],
   "source": [
    "pku_teacher_names_pinyin=chinese_to_english_name(pku_faculty_name_list)"
   ],
   "metadata": {
    "collapsed": false
   }
  },
  {
   "cell_type": "code",
   "execution_count": 81,
   "outputs": [
    {
     "data": {
      "text/plain": "929"
     },
     "execution_count": 81,
     "metadata": {},
     "output_type": "execute_result"
    }
   ],
   "source": [
    "RESULT_PATH = Path.cwd().parents[1] / 'result/PKU'\n",
    "RESULT_PATH.mkdir(exist_ok=True)\n",
    "RESULT_PATH.joinpath('pku_faculty_name_list.txt').open('w',encoding='utf8').write('\\n'.join(pku_faculty_name_list))\n",
    "RESULT_PATH.joinpath('pku_faculty_name_pinyin_list.txt').open('w').write('\\n'.join(pku_teacher_names_pinyin))"
   ],
   "metadata": {
    "collapsed": false
   }
  },
  {
   "cell_type": "markdown",
   "source": [
    "## SUSTech"
   ],
   "metadata": {
    "collapsed": false
   }
  },
  {
   "cell_type": "code",
   "execution_count": 85,
   "outputs": [
    {
     "data": {
      "text/plain": "['Yanyan LI',\n 'Wei Chen',\n 'Yonglong Chen',\n 'Longzhen Cheng',\n 'Xi Chen',\n 'Xiaojing CHEN',\n 'Tao Dong',\n 'Ziwei Dai',\n 'Du Jiamu',\n 'Hongwei Guo',\n 'Xin Gong',\n 'Shengtao Hou',\n 'Sicong HE',\n 'Hongda Huang',\n 'Ancheng Huang',\n 'Andrew Hutchins',\n 'Shengjian Ji',\n 'Wenfei Jin',\n 'Song Kun',\n 'Maofu Liao',\n 'Chao Liang',\n 'Yan Li',\n 'Ruixi Li',\n 'Jiansheng Liang',\n 'Dong Liu',\n 'Zhongmin Liu',\n 'Xijun Ou',\n 'Peter Pimpl',\n 'Feng Rao',\n 'Qingtao SHEN',\n 'Yi Song',\n 'Ying Sun',\n 'Ling WANG',\n 'Zhiyi Wei',\n 'Zhe Wu',\n 'Bo Xiao',\n 'Huapeng Yu',\n 'Kaige Yan',\n 'Cong Yu',\n 'Li Zhang',\n 'Zhang Mingjie',\n 'Wen Zhou',\n 'Yan Zhao',\n 'Hongmin Zhang',\n 'Jixian Zhai',\n 'Fuxing Zeng',\n 'Meizhen Zheng']"
     },
     "execution_count": 85,
     "metadata": {},
     "output_type": "execute_result"
    }
   ],
   "source": [
    "doc=pq('https://bio.sustech.edu.cn/faculty/index.html?lang=en-us',encoding='utf8')\n",
    "sustech_teacher_names=[]\n",
    "pis=doc.find('dl').items()\n",
    "for pi in pis:\n",
    "    name=pi('div.t-name > h3 > a').text()\n",
    "    if len(name)>0:\n",
    "\n",
    "        sustech_teacher_names.append(name)\n",
    "sustech_teacher_names\n"
   ],
   "metadata": {
    "collapsed": false
   }
  },
  {
   "cell_type": "code",
   "execution_count": 86,
   "outputs": [
    {
     "data": {
      "text/plain": "510"
     },
     "execution_count": 86,
     "metadata": {},
     "output_type": "execute_result"
    }
   ],
   "source": [
    "RESULT_PATH = Path.cwd().parents[1] / 'result/sustech'\n",
    "RESULT_PATH.mkdir(exist_ok=True)\n",
    "RESULT_PATH.joinpath('sustech_faculty_name_pinyin_list.txt').open('w').write('\\n'.join(sustech_teacher_names))"
   ],
   "metadata": {
    "collapsed": false
   }
  },
  {
   "cell_type": "markdown",
   "source": [
    "## crawl mit pi personal information"
   ],
   "metadata": {
    "collapsed": false
   }
  },
  {
   "cell_type": "code",
   "execution_count": 120,
   "outputs": [
    {
     "name": "stdout",
     "output_type": "stream",
     "text": [
      "National Tsinghua University 2004 nan nan Harvard University 2010\n"
     ]
    }
   ],
   "source": [
    "def extract_one_pate_pi_info(pi_link):\n",
    "    try:\n",
    "        persoanl_page = pq(pi_link, encoding='utf-8', timeout=30)\n",
    "        pass\n",
    "    except:\n",
    "        print(pi_link)\n",
    "        return np.nan, np.nan, np.nan,\n",
    "    else:\n",
    "        degrees = list(\n",
    "            persoanl_page('#main > div.profile-full-content > div > div > div.page-content  h2:nth-child(1)').eq(\n",
    "                0).siblings('ul').eq(0).children().items())\n",
    "        # ed_title.sli\n",
    "        # degrees=list(persoanl_page('#main > div.profile-full-content > div > div > div.page-content  ul > li').items())\n",
    "        # degrees=list(persoanl_page('#main > div.profile-full-content > div > div > div.page-content > ul:nth-child(2) > li:nth-child(1)').items())\n",
    "        if (degrees_num := len(degrees)) <= 1:\n",
    "            print('lesson 1', pi_link)\n",
    "        md, bd, bd_y, md_y = np.nan, np.nan, np.nan, np.nan,\n",
    "        year = re.compile(u'\\d{4}')\n",
    "        try:\n",
    "            phd = degrees[0].text().split(', ')[-1]\n",
    "            phd_y = year.search(degrees[0].text()).group()\n",
    "        except:\n",
    "            print(pi_link, '!!!!!!!!!!!!!!!!!!!!')\n",
    "            return np.nan, np.nan, np.nan,\n",
    "\n",
    "        else:\n",
    "            if degrees_num == 3:\n",
    "                md = degrees[1].text().split(', ')[-1]\n",
    "                md_y = year.search(degrees[1].text()).group()\n",
    "\n",
    "                bd = degrees[2].text().split(', ')[-1]\n",
    "                bd_y = year.search(degrees[2].text()).group()\n",
    "\n",
    "            elif degrees_num == 2:\n",
    "                bd = degrees[-1].text().split(', ')[-1]\n",
    "                bd_y = year.search(degrees[-1].text()).group()\n",
    "\n",
    "            return bd, bd_y, md, md_y, phd, phd_y\n",
    "\n",
    "\n",
    "bd, bd_y, md, md_y, phd, phd_y = extract_one_pate_pi_info('https://biology.mit.edu/profile/gene-wei-li/')\n",
    "print(bd, bd_y, md, md_y, phd, phd_y)"
   ],
   "metadata": {
    "collapsed": false
   }
  },
  {
   "cell_type": "code",
   "execution_count": 122,
   "outputs": [
    {
     "name": "stderr",
     "output_type": "stream",
     "text": [
      "3it [00:07,  1.96s/it]"
     ]
    },
    {
     "name": "stdout",
     "output_type": "stream",
     "text": [
      "lesson 1 https://biology.mit.edu/profile/sallie-penny-w-chisholm/\n"
     ]
    },
    {
     "name": "stderr",
     "output_type": "stream",
     "text": [
      "16it [00:10,  2.11it/s]"
     ]
    },
    {
     "name": "stdout",
     "output_type": "stream",
     "text": [
      "lesson 1 https://biology.mit.edu/profile/chris-a-kaiser/\n"
     ]
    },
    {
     "name": "stderr",
     "output_type": "stream",
     "text": [
      "24it [00:13,  2.32it/s]"
     ]
    },
    {
     "name": "stdout",
     "output_type": "stream",
     "text": [
      "lesson 1 https://biology.mit.edu/profile/jonathan-weissman/\n",
      "https://biology.mit.edu/profile/jonathan-weissman/ !!!!!!!!!!!!!!!!!!!!\n"
     ]
    },
    {
     "name": "stderr",
     "output_type": "stream",
     "text": [
      "27it [00:15,  2.21it/s]"
     ]
    },
    {
     "name": "stdout",
     "output_type": "stream",
     "text": [
      "lesson 1 https://biology.mit.edu/profile/rudolf-jaenisch/\n"
     ]
    },
    {
     "name": "stderr",
     "output_type": "stream",
     "text": [
      "73it [00:19,  3.80it/s]"
     ]
    },
    {
     "name": "stdout",
     "output_type": "stream",
     "text": [
      "19.28064250946045 s\n"
     ]
    },
    {
     "name": "stderr",
     "output_type": "stream",
     "text": [
      "\n"
     ]
    }
   ],
   "source": [
    "begin = time.time()\n",
    "executor = ThreadPoolExecutor(max_workers=40)\n",
    "pi_names, pi_urls = zip(*pi_name_url)\n",
    "records = []\n",
    "for infos, author_name in tqdm(zip(executor.map(extract_one_pate_pi_info, pi_urls), pi_names)):\n",
    "    records.append([author_name, *infos])\n",
    "times = time.time() - begin\n",
    "print(times, 's')"
   ],
   "metadata": {
    "collapsed": false
   }
  },
  {
   "cell_type": "code",
   "execution_count": 124,
   "outputs": [
    {
     "data": {
      "text/plain": "                 name                               bd  bd_y   md md_y  \\\n0      Tania A. Baker  University of Wisconsin-Madison  1983  NaN  NaN   \n1        David Bartel                   Goshen College  1982  NaN  NaN   \n2        Stephen Bell          Northwestern University  1985  NaN  NaN   \n3     Laurie A. Boyer      Framingham State University  1990  NaN  NaN   \n4   Christopher Burge              Stanford University  1990  NaN  NaN   \n..                ...                              ...   ...  ...  ...   \n68   Harikesh S. Wong              McMaster University  2010  NaN  NaN   \n69   Michael B. Yaffe               Cornell University  1981  NaN  NaN   \n70   Yukiko Yamashita                 Kyoto University  1994  NaN  NaN   \n71     Omer H. Yilmaz           University of Michigan  1999  NaN  NaN   \n72   Richard A. Young               Indiana University  1975  NaN  NaN   \n\n                                           phd phd_y  \n0                          Stanford University  1988  \n1                           Harvard University  1993  \n2                                     Berkeley  1990  \n3   University of Massachusetts Medical School  2001  \n4                          Stanford University  1997  \n..                                         ...   ...  \n68                       University of Toronto  2016  \n69             Case Western Reserve University  1987  \n70                            Kyoto University  1999  \n71       University of Michigan Medical School  2008  \n72                             Yale University  1979  \n\n[73 rows x 7 columns]",
      "text/html": "<div>\n<style scoped>\n    .dataframe tbody tr th:only-of-type {\n        vertical-align: middle;\n    }\n\n    .dataframe tbody tr th {\n        vertical-align: top;\n    }\n\n    .dataframe thead th {\n        text-align: right;\n    }\n</style>\n<table border=\"1\" class=\"dataframe\">\n  <thead>\n    <tr style=\"text-align: right;\">\n      <th></th>\n      <th>name</th>\n      <th>bd</th>\n      <th>bd_y</th>\n      <th>md</th>\n      <th>md_y</th>\n      <th>phd</th>\n      <th>phd_y</th>\n    </tr>\n  </thead>\n  <tbody>\n    <tr>\n      <th>0</th>\n      <td>Tania A. Baker</td>\n      <td>University of Wisconsin-Madison</td>\n      <td>1983</td>\n      <td>NaN</td>\n      <td>NaN</td>\n      <td>Stanford University</td>\n      <td>1988</td>\n    </tr>\n    <tr>\n      <th>1</th>\n      <td>David Bartel</td>\n      <td>Goshen College</td>\n      <td>1982</td>\n      <td>NaN</td>\n      <td>NaN</td>\n      <td>Harvard University</td>\n      <td>1993</td>\n    </tr>\n    <tr>\n      <th>2</th>\n      <td>Stephen Bell</td>\n      <td>Northwestern University</td>\n      <td>1985</td>\n      <td>NaN</td>\n      <td>NaN</td>\n      <td>Berkeley</td>\n      <td>1990</td>\n    </tr>\n    <tr>\n      <th>3</th>\n      <td>Laurie A. Boyer</td>\n      <td>Framingham State University</td>\n      <td>1990</td>\n      <td>NaN</td>\n      <td>NaN</td>\n      <td>University of Massachusetts Medical School</td>\n      <td>2001</td>\n    </tr>\n    <tr>\n      <th>4</th>\n      <td>Christopher Burge</td>\n      <td>Stanford University</td>\n      <td>1990</td>\n      <td>NaN</td>\n      <td>NaN</td>\n      <td>Stanford University</td>\n      <td>1997</td>\n    </tr>\n    <tr>\n      <th>...</th>\n      <td>...</td>\n      <td>...</td>\n      <td>...</td>\n      <td>...</td>\n      <td>...</td>\n      <td>...</td>\n      <td>...</td>\n    </tr>\n    <tr>\n      <th>68</th>\n      <td>Harikesh S. Wong</td>\n      <td>McMaster University</td>\n      <td>2010</td>\n      <td>NaN</td>\n      <td>NaN</td>\n      <td>University of Toronto</td>\n      <td>2016</td>\n    </tr>\n    <tr>\n      <th>69</th>\n      <td>Michael B. Yaffe</td>\n      <td>Cornell University</td>\n      <td>1981</td>\n      <td>NaN</td>\n      <td>NaN</td>\n      <td>Case Western Reserve University</td>\n      <td>1987</td>\n    </tr>\n    <tr>\n      <th>70</th>\n      <td>Yukiko Yamashita</td>\n      <td>Kyoto University</td>\n      <td>1994</td>\n      <td>NaN</td>\n      <td>NaN</td>\n      <td>Kyoto University</td>\n      <td>1999</td>\n    </tr>\n    <tr>\n      <th>71</th>\n      <td>Omer H. Yilmaz</td>\n      <td>University of Michigan</td>\n      <td>1999</td>\n      <td>NaN</td>\n      <td>NaN</td>\n      <td>University of Michigan Medical School</td>\n      <td>2008</td>\n    </tr>\n    <tr>\n      <th>72</th>\n      <td>Richard A. Young</td>\n      <td>Indiana University</td>\n      <td>1975</td>\n      <td>NaN</td>\n      <td>NaN</td>\n      <td>Yale University</td>\n      <td>1979</td>\n    </tr>\n  </tbody>\n</table>\n<p>73 rows × 7 columns</p>\n</div>"
     },
     "execution_count": 124,
     "metadata": {},
     "output_type": "execute_result"
    }
   ],
   "source": [
    "df = pd.DataFrame.from_records(records, columns=['name', 'bd', 'bd_y', 'md', 'md_y', 'phd', 'phd_y'])\n",
    "df"
   ],
   "metadata": {
    "collapsed": false
   }
  },
  {
   "cell_type": "code",
   "execution_count": null,
   "outputs": [],
   "source": [],
   "metadata": {
    "collapsed": false
   }
  },
  {
   "cell_type": "markdown",
   "source": [
    "### save the pi info"
   ],
   "metadata": {
    "collapsed": false
   }
  },
  {
   "cell_type": "code",
   "execution_count": 127,
   "outputs": [],
   "source": [
    "df.to_csv(RESULT_PATH / 'mit_faculty_degrees_info.csv', index=False, encoding='utf8')"
   ],
   "metadata": {
    "collapsed": false
   }
  },
  {
   "cell_type": "markdown",
   "source": [
    "## crawl its google scholar page"
   ],
   "metadata": {
    "collapsed": false
   }
  },
  {
   "cell_type": "code",
   "execution_count": null,
   "outputs": [],
   "source": [],
   "metadata": {
    "collapsed": false
   }
  }
 ],
 "metadata": {
  "kernelspec": {
   "name": "python3",
   "language": "python",
   "display_name": "Python 3"
  },
  "language_info": {
   "codemirror_mode": {
    "name": "ipython",
    "version": 2
   },
   "file_extension": ".py",
   "mimetype": "text/x-python",
   "name": "python",
   "nbconvert_exporter": "python",
   "pygments_lexer": "ipython2",
   "version": "3.8.3-final"
  }
 },
 "nbformat": 4,
 "nbformat_minor": 0
}
